{
 "cells": [
  {
   "cell_type": "code",
   "execution_count": 1,
   "metadata": {},
   "outputs": [],
   "source": [
    "import sys\n",
    "sys.path.append('../src')\n",
    "import tensorflow as tf\n",
    "from keras.utils.vis_utils import plot_model"
   ]
  },
  {
   "cell_type": "code",
   "execution_count": 2,
   "metadata": {},
   "outputs": [],
   "source": [
    "cnn_model_path=\"./cnn-network-retrain-results/models/model_80_overlap/best_model.94-0.66-0.74.hdf5\"\n",
    "cnn_model = tf.keras.models.load_model(cnn_model_path)"
   ]
  },
  {
   "cell_type": "code",
   "execution_count": 6,
   "metadata": {},
   "outputs": [
    {
     "name": "stdout",
     "output_type": "stream",
     "text": [
      "Model: \"sequential_9\"\n",
      "_________________________________________________________________\n",
      " Layer (type)                Output Shape              Param #   \n",
      "=================================================================\n",
      " conv2d_18 (Conv2D)          (None, 128, 12, 64)       3136      \n",
      "                                                                 \n",
      " batch_normalization_18 (Bat  (None, 128, 12, 64)      256       \n",
      " chNormalization)                                                \n",
      "                                                                 \n",
      " activation_18 (Activation)  (None, 128, 12, 64)       0         \n",
      "                                                                 \n",
      " average_pooling2d_18 (Avera  (None, 42, 4, 64)        0         \n",
      " gePooling2D)                                                    \n",
      "                                                                 \n",
      " dropout_27 (Dropout)        (None, 42, 4, 64)         0         \n",
      "                                                                 \n",
      " conv2d_19 (Conv2D)          (None, 42, 4, 8)          6152      \n",
      "                                                                 \n",
      " batch_normalization_19 (Bat  (None, 42, 4, 8)         32        \n",
      " chNormalization)                                                \n",
      "                                                                 \n",
      " activation_19 (Activation)  (None, 42, 4, 8)          0         \n",
      "                                                                 \n",
      " average_pooling2d_19 (Avera  (None, 14, 4, 8)         0         \n",
      " gePooling2D)                                                    \n",
      "                                                                 \n",
      " dropout_28 (Dropout)        (None, 14, 4, 8)          0         \n",
      "                                                                 \n",
      " flatten_9 (Flatten)         (None, 448)               0         \n",
      "                                                                 \n",
      " dense_18 (Dense)            (None, 8)                 3592      \n",
      "                                                                 \n",
      " dropout_29 (Dropout)        (None, 8)                 0         \n",
      "                                                                 \n",
      " dense_19 (Dense)            (None, 5)                 45        \n",
      "                                                                 \n",
      "=================================================================\n",
      "Total params: 13,213\n",
      "Trainable params: 13,069\n",
      "Non-trainable params: 144\n",
      "_________________________________________________________________\n"
     ]
    }
   ],
   "source": [
    "plot_model(cnn_model, to_file='./cnn_model_plot.png', show_shapes=True, show_layer_names=True)\n",
    "model = tf.keras.models.load_model(cnn_model_path)\n",
    "model.summary()"
   ]
  },
  {
   "cell_type": "code",
   "execution_count": 7,
   "metadata": {},
   "outputs": [
    {
     "name": "stdout",
     "output_type": "stream",
     "text": [
      "Model: \"model_9\"\n",
      "__________________________________________________________________________________________________\n",
      " Layer (type)                   Output Shape         Param #     Connected to                     \n",
      "==================================================================================================\n",
      " input_19 (InputLayer)          [(None, 128, 12, 1)  0           []                               \n",
      "                                ]                                                                 \n",
      "                                                                                                  \n",
      " conv2d_18 (Conv2D)             (None, 128, 12, 64)  3136        ['input_19[0][0]']               \n",
      "                                                                                                  \n",
      " batch_normalization_18 (BatchN  (None, 128, 12, 64)  256        ['conv2d_18[0][0]']              \n",
      " ormalization)                                                                                    \n",
      "                                                                                                  \n",
      " activation_18 (Activation)     (None, 128, 12, 64)  0           ['batch_normalization_18[0][0]'] \n",
      "                                                                                                  \n",
      " average_pooling2d_18 (AverageP  (None, 42, 4, 64)   0           ['activation_18[0][0]']          \n",
      " ooling2D)                                                                                        \n",
      "                                                                                                  \n",
      " dropout_27 (Dropout)           (None, 42, 4, 64)    0           ['average_pooling2d_18[0][0]']   \n",
      "                                                                                                  \n",
      " conv2d_19 (Conv2D)             (None, 42, 4, 8)     6152        ['dropout_27[0][0]']             \n",
      "                                                                                                  \n",
      " batch_normalization_19 (BatchN  (None, 42, 4, 8)    32          ['conv2d_19[0][0]']              \n",
      " ormalization)                                                                                    \n",
      "                                                                                                  \n",
      " activation_19 (Activation)     (None, 42, 4, 8)     0           ['batch_normalization_19[0][0]'] \n",
      "                                                                                                  \n",
      " average_pooling2d_19 (AverageP  (None, 14, 4, 8)    0           ['activation_19[0][0]']          \n",
      " ooling2D)                                                                                        \n",
      "                                                                                                  \n",
      " dropout_28 (Dropout)           (None, 14, 4, 8)     0           ['average_pooling2d_19[0][0]']   \n",
      "                                                                                                  \n",
      " flatten_9 (Flatten)            (None, 448)          0           ['dropout_28[0][0]']             \n",
      "                                                                                                  \n",
      " input_20 (InputLayer)          [(None, 12)]         0           []                               \n",
      "                                                                                                  \n",
      " concatenate_9 (Concatenate)    (None, 460)          0           ['flatten_9[0][0]',              \n",
      "                                                                  'input_20[0][0]']               \n",
      "                                                                                                  \n",
      " dense_18 (Dense)               (None, 8)            3688        ['concatenate_9[0][0]']          \n",
      "                                                                                                  \n",
      " dropout_29 (Dropout)           (None, 8)            0           ['dense_18[0][0]']               \n",
      "                                                                                                  \n",
      " dense_19 (Dense)               (None, 5)            45          ['dropout_29[0][0]']             \n",
      "                                                                                                  \n",
      "==================================================================================================\n",
      "Total params: 13,309\n",
      "Trainable params: 13,165\n",
      "Non-trainable params: 144\n",
      "__________________________________________________________________________________________________\n"
     ]
    }
   ],
   "source": [
    "cnn_stat_model_path=\"./cnn-stat-network-results/models/model_80_overlap/best_model.37-0.51-0.82.hdf5\"\n",
    "cnn_stat_model = tf.keras.models.load_model(cnn_stat_model_path)\n",
    "plot_model(cnn_stat_model, to_file='./cnn_stat_model_plot.png', show_shapes=True, show_layer_names=True)\n",
    "cnn_stat_model.summary()"
   ]
  },
  {
   "cell_type": "code",
   "execution_count": 8,
   "metadata": {},
   "outputs": [
    {
     "name": "stdout",
     "output_type": "stream",
     "text": [
      "Model: \"sequential_9\"\n",
      "_________________________________________________________________\n",
      " Layer (type)                Output Shape              Param #   \n",
      "=================================================================\n",
      " time_distributed_90 (TimeDi  (None, None, 21, 1, 64)  9280      \n",
      " stributed)                                                      \n",
      "                                                                 \n",
      " time_distributed_91 (TimeDi  (None, None, 21, 1, 64)  256       \n",
      " stributed)                                                      \n",
      "                                                                 \n",
      " time_distributed_92 (TimeDi  (None, None, 21, 1, 64)  0         \n",
      " stributed)                                                      \n",
      "                                                                 \n",
      " time_distributed_93 (TimeDi  (None, None, 21, 1, 64)  0         \n",
      " stributed)                                                      \n",
      "                                                                 \n",
      " time_distributed_94 (TimeDi  (None, None, 10, 1, 64)  49216     \n",
      " stributed)                                                      \n",
      "                                                                 \n",
      " time_distributed_95 (TimeDi  (None, None, 10, 1, 64)  256       \n",
      " stributed)                                                      \n",
      "                                                                 \n",
      " time_distributed_96 (TimeDi  (None, None, 10, 1, 64)  0         \n",
      " stributed)                                                      \n",
      "                                                                 \n",
      " time_distributed_97 (TimeDi  (None, None, 10, 1, 64)  0         \n",
      " stributed)                                                      \n",
      "                                                                 \n",
      " time_distributed_98 (TimeDi  (None, None, 64)         0         \n",
      " stributed)                                                      \n",
      "                                                                 \n",
      " time_distributed_99 (TimeDi  (None, None, 64)         0         \n",
      " stributed)                                                      \n",
      "                                                                 \n",
      " lstm_9 (LSTM)               (None, 100)               66000     \n",
      "                                                                 \n",
      " dropout_29 (Dropout)        (None, 100)               0         \n",
      "                                                                 \n",
      " dense_18 (Dense)            (None, 100)               10100     \n",
      "                                                                 \n",
      " dense_19 (Dense)            (None, 5)                 505       \n",
      "                                                                 \n",
      "=================================================================\n",
      "Total params: 135,613\n",
      "Trainable params: 135,357\n",
      "Non-trainable params: 256\n",
      "_________________________________________________________________\n"
     ]
    }
   ],
   "source": [
    "cnn_lstm_model_path=\"./cnn-lstm-network-results/models/model_80_overlap/best_model.28-0.49-0.8436670899391174.hdf5\"\n",
    "cnn_lstm_model = tf.keras.models.load_model(cnn_lstm_model_path)\n",
    "plot_model(cnn_lstm_model, to_file='./cnn_lstm_model_plot.png', show_shapes=True, show_layer_names=True)\n",
    "cnn_lstm_model.summary()"
   ]
  }
 ],
 "metadata": {
  "interpreter": {
   "hash": "bb44b4e6cc691712e826bba4e724ba947229be6916e0acb92c0db1c9ddbd3c7a"
  },
  "kernelspec": {
   "display_name": "Python 3.9.7 ('thesis')",
   "language": "python",
   "name": "python3"
  },
  "language_info": {
   "codemirror_mode": {
    "name": "ipython",
    "version": 3
   },
   "file_extension": ".py",
   "mimetype": "text/x-python",
   "name": "python",
   "nbconvert_exporter": "python",
   "pygments_lexer": "ipython3",
   "version": "3.9.7"
  },
  "orig_nbformat": 4
 },
 "nbformat": 4,
 "nbformat_minor": 2
}
