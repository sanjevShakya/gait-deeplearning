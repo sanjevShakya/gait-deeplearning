{
 "cells": [
  {
   "cell_type": "code",
   "execution_count": null,
   "metadata": {},
   "outputs": [],
   "source": [
    "import sys\n",
    "sys.path.append('../src')\n",
    "from matplotlib import pyplot as plt\n",
    "%matplotlib inline\n",
    "import seaborn as sns\n",
    "import numpy as np\n",
    "import tensorflow as tf\n",
    "from gait.config import pd\n",
    "from gait.utils import get_data_by_overlap_percent,get_overlap_data_all_sessions,  split_test_train_by_subjects, remove_invalid_data, get_overlap_data_all_sessions\n",
    "from gait.training import train_2dcnn_lstm_model_quant_aware\n",
    "from gait.evalution import save_history, save_test_history, save_accuracy_loss_figure, save_confusion_matrix_figure, compute_validations_predictions"
   ]
  },
  {
   "cell_type": "code",
   "execution_count": null,
   "metadata": {},
   "outputs": [],
   "source": [
    "def compute_resultant_acceleration(X):\n",
    "    return np.sqrt(X[:,:,0] **2 + X[:,:,1] ** 2 + X[:,:,2] ** 2)\n",
    "\n",
    "def compute_resultant_gyro(X):\n",
    "    return np.sqrt(X[:,:,3] **2 + X[:,:,4] ** 2 + X[:,:,5] ** 2)\n",
    "\n",
    "def compute_resultant_angle(X):\n",
    "    return np.sqrt(X[:,:,6] **2 + X[:,:,7] ** 2 + X[:,:,8] ** 2)"
   ]
  },
  {
   "cell_type": "code",
   "execution_count": null,
   "metadata": {},
   "outputs": [],
   "source": [
    "overlapPercents = [80]\n",
    "# overlapPercents = [0]\n",
    "exclude_subjects = ['ddAeJA42PXvwthbW', 'nan', 'sUZBISq61Y7I5tqQ', 'LLZjAPTyj7muHsEf',\n",
    "                    'cbOZWnI7s1y8oLD4', 'EUbKPOSQgjccjtvi', 'MMuX9YIh4NTbLZLM',\n",
    "                    'PE8D53oX060qLbdX', 'ddAeJA42PXvwthbW', 'xYdtS1F8tDyjEIgN', '19AoxD1bgrDckd2p',\n",
    "                    'wtyNo4LYaWXrkzA7' ]\n",
    "\n",
    "for OVERLAP_PERCENT in overlapPercents:\n",
    "    gpus = tf.config.list_logical_devices('GPU')\n",
    "    strategy = tf.distribute.MirroredStrategy(gpus)\n",
    "    with strategy.scope():\n",
    "        X, y, subjects = get_overlap_data_all_sessions(OVERLAP_PERCENT)\n",
    "        # REMOVE UNWANTED SUBJECTS\n",
    "        print('unique subjects', np.unique(subjects))\n",
    "        indexes = np.where(subjects == exclude_subjects)\n",
    "        X = np.delete(X, indexes[0], axis=0)\n",
    "        y = np.delete(y, indexes[0], axis=0)\n",
    "        subjects = np.delete(subjects, indexes[0], axis=0)\n",
    "        # END REMOVE UNWANTED SUBJECTS\n",
    "\n",
    "        # AUGMENT DATA\n",
    "        resultant_acc = compute_resultant_acceleration(X)\n",
    "        resultant_gyro = compute_resultant_gyro(X)\n",
    "        resultant_angle = compute_resultant_angle(X)\n",
    "        resultant_acc = resultant_acc.reshape(\n",
    "            resultant_acc.shape[0], resultant_acc.shape[1], 1)\n",
    "        resultant_gyro = resultant_gyro.reshape(\n",
    "            resultant_gyro.shape[0], resultant_gyro.shape[1], 1)\n",
    "        resultant_angle = resultant_angle.reshape(\n",
    "            resultant_angle.shape[0], resultant_angle.shape[1], 1)\n",
    "        X = np.concatenate((X, resultant_acc), axis=2)\n",
    "        X = np.concatenate((X, resultant_gyro), axis=2)\n",
    "        X = np.concatenate((X, resultant_angle), axis=2)\n",
    "        # AUGMENT DATA END\n",
    "\n",
    "        # print('UNIQUE subjects:', np.unique(subjects))\n",
    "        X_train, X_test, y_train, y_test, y_train_non_encoded, y_test_non_encoded = split_test_train_by_subjects(\n",
    "            X, y, subjects, train_percent=0.8)\n",
    "\n",
    "        model, history = train_2dcnn_lstm_model_quant_aware(\n",
    "            X_train, y_train, X_test, y_test, overlap_percent=OVERLAP_PERCENT, batch_size=128, epochs=100, variant=\"cnn_lstm\")\n",
    "        n_steps, n_length = 4, 32\n",
    "        X_test = X_test.reshape((X_test.shape[0], n_steps, n_length, 12))\n",
    "        evaluation_history = model.evaluate(\n",
    "            X_test, y_test, batch_size=128, verbose=1)\n",
    "\n",
    "        save_history(history, OVERLAP_PERCENT)\n",
    "        save_test_history(evaluation_history, OVERLAP_PERCENT)\n",
    "        save_accuracy_loss_figure(history, OVERLAP_PERCENT)\n",
    "        validations, predictions = compute_validations_predictions(\n",
    "            model, X_test, y_test)\n",
    "        save_confusion_matrix_figure(\n",
    "            validations, predictions, OVERLAP_PERCENT, sns)"
   ]
  }
 ],
 "metadata": {
  "language_info": {
   "name": "python"
  },
  "orig_nbformat": 4
 },
 "nbformat": 4,
 "nbformat_minor": 2
}
