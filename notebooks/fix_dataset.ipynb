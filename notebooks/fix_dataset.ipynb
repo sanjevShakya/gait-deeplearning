{
 "cells": [
  {
   "cell_type": "code",
   "execution_count": 67,
   "metadata": {},
   "outputs": [],
   "source": [
    "import sys\n",
    "sys.path.append('../src')"
   ]
  },
  {
   "cell_type": "code",
   "execution_count": 68,
   "metadata": {},
   "outputs": [],
   "source": [
    "from matplotlib import pyplot as plt\n",
    "%matplotlib inline\n",
    "import seaborn as sns\n",
    "import numpy as np\n",
    "import tensorflow as tf"
   ]
  },
  {
   "cell_type": "code",
   "execution_count": 69,
   "metadata": {},
   "outputs": [],
   "source": [
    "from gait.config import pd\n",
    "from gait.utils import get_overlap_data_all_sessions, get_X_files, path_builder, SENSORS\n",
    "from gait.constants import X_LABELS, X_PATH, SUBJECT_FILE, Y_FILE\n"
   ]
  },
  {
   "cell_type": "code",
   "execution_count": 70,
   "metadata": {},
   "outputs": [],
   "source": [
    "\n",
    "\n",
    "# x_files = list(map(lambda label: get_X_files(label), X_LABELS))\n",
    "\n",
    "# def get_x_file_path(session, overlapPercent, sensorName):\n",
    "#     return list(\n",
    "#         map(lambda fileName: path_builder(session, overlapPercent, sensorName, fileName, prefix=X_PATH), x_files))\n"
   ]
  },
  {
   "cell_type": "code",
   "execution_count": 59,
   "metadata": {},
   "outputs": [
    {
     "name": "stdout",
     "output_type": "stream",
     "text": [
      "../data/session5-1/LEFT/data_70_overlap/y_train.csv\n"
     ]
    }
   ],
   "source": [
    "# sensorName = SENSORS[\"LEFT\"]\n",
    "# X_files_path = get_x_file_path(sensorName)\n",
    "# subject_file_path = path_builder(\n",
    "#     session, overlapPercent, sensorName, SUBJECT_FILE)\n",
    "# y_file_path = path_builder(\n",
    "#         session, overlapPercent, sensorName,  Y_FILE)\n",
    "# print(y_file_path)"
   ]
  },
  {
   "cell_type": "code",
   "execution_count": 93,
   "metadata": {},
   "outputs": [],
   "source": [
    "x_files = list(map(lambda label: get_X_files(label), X_LABELS))\n",
    "\n",
    "\n",
    "def get_x_file_path(session, overlapPercent, sensorName):\n",
    "    return list(\n",
    "        map(lambda fileName: path_builder(session, overlapPercent, sensorName, fileName, prefix=X_PATH), x_files))\n",
    "\n",
    "\n",
    "def fix_files(overlapPercent, XFilePaths, subjectFilePath, yFilePath):\n",
    "    error_lines = {\n",
    "        '0': [],\n",
    "        '10': [],\n",
    "        '20': [],\n",
    "        '30': [],\n",
    "        '40': [],\n",
    "        '50': [],\n",
    "        '60': [],\n",
    "        '70': [],\n",
    "        '80': [],\n",
    "        '90': []\n",
    "    }\n",
    "\n",
    "    def openDelLinesSaveLinesToFile(filePath):\n",
    "        with open(filePath) as f:\n",
    "            lines = f.readlines()\n",
    "            for key in error_lines:\n",
    "                for idx in error_lines[str(key)]:\n",
    "                    del lines[idx]\n",
    "            pd.DataFrame(lines).to_csv(filePath, index=False)\n",
    "\n",
    "    for x_file_path in XFilePaths:\n",
    "        with open(x_file_path) as f:\n",
    "            lines = f.readlines()\n",
    "            for index, line in enumerate(lines):\n",
    "                numlinesLen = len(line.split(','))\n",
    "                if(numlinesLen != 128):\n",
    "\n",
    "                    error_lines[str(overlapPercent)].append(index)\n",
    "    print(error_lines)\n",
    "    # for x_file_path in XFilePaths:\n",
    "    #     openDelLinesSaveLinesToFile(x_file_path)\n",
    "\n",
    "    # openDelLinesSaveLinesToFile(subjectFilePath)\n",
    "    # openDelLinesSaveLinesToFile(yFilePath)\n",
    "    print('FIX for overlap: {}, subjectFilePath: {}'.format(\n",
    "        overlapPercent, subjectFilePath))\n",
    "\n",
    "\n",
    "def fixDataSets(session, sensorName):\n",
    "    overlapPercents = [0, 10, 20, 30, 40, 50, 60, 70, 80, 90]\n",
    "\n",
    "    for overlapPercent in overlapPercents:\n",
    "        X_files_path = get_x_file_path(session, overlapPercent, sensorName)\n",
    "        subject_file_path = path_builder(\n",
    "            session, overlapPercent, sensorName, SUBJECT_FILE)\n",
    "        y_file_path = path_builder(\n",
    "            session, overlapPercent, sensorName,  Y_FILE)\n",
    "        fix_files(overlapPercent, X_files_path, subject_file_path, y_file_path)\n"
   ]
  },
  {
   "cell_type": "code",
   "execution_count": 102,
   "metadata": {},
   "outputs": [
    {
     "name": "stdout",
     "output_type": "stream",
     "text": [
      "{'0': [2158, 2160, 2158, 2160], '10': [], '20': [], '30': [], '40': [], '50': [], '60': [], '70': [], '80': [], '90': []}\n",
      "FIX for overlap: 0, subjectFilePath: ../data/session5-1/RIGHT/data_0_overlap/subject.csv\n",
      "{'0': [], '10': [], '20': [], '30': [], '40': [], '50': [], '60': [], '70': [], '80': [], '90': []}\n",
      "FIX for overlap: 10, subjectFilePath: ../data/session5-1/RIGHT/data_10_overlap/subject.csv\n",
      "{'0': [], '10': [], '20': [], '30': [], '40': [], '50': [], '60': [], '70': [], '80': [], '90': []}\n",
      "FIX for overlap: 20, subjectFilePath: ../data/session5-1/RIGHT/data_20_overlap/subject.csv\n",
      "{'0': [], '10': [], '20': [], '30': [], '40': [], '50': [], '60': [], '70': [], '80': [], '90': []}\n",
      "FIX for overlap: 30, subjectFilePath: ../data/session5-1/RIGHT/data_30_overlap/subject.csv\n",
      "{'0': [], '10': [], '20': [], '30': [], '40': [3572, 3572, 3573], '50': [], '60': [], '70': [], '80': [], '90': []}\n",
      "FIX for overlap: 40, subjectFilePath: ../data/session5-1/RIGHT/data_40_overlap/subject.csv\n",
      "{'0': [], '10': [], '20': [], '30': [], '40': [], '50': [4228, 4230, 4229, 4229, 4229, 4228, 4228, 4229, 4228], '60': [], '70': [], '80': [], '90': []}\n",
      "FIX for overlap: 50, subjectFilePath: ../data/session5-1/RIGHT/data_50_overlap/subject.csv\n",
      "{'0': [], '10': [], '20': [], '30': [], '40': [], '50': [], '60': [], '70': [], '80': [], '90': []}\n",
      "FIX for overlap: 60, subjectFilePath: ../data/session5-1/RIGHT/data_60_overlap/subject.csv\n",
      "{'0': [], '10': [], '20': [], '30': [], '40': [], '50': [], '60': [], '70': [], '80': [], '90': []}\n",
      "FIX for overlap: 70, subjectFilePath: ../data/session5-1/RIGHT/data_70_overlap/subject.csv\n",
      "{'0': [], '10': [], '20': [], '30': [], '40': [], '50': [], '60': [], '70': [], '80': [10517, 10517, 10517, 10517, 10517, 10520, 10519, 10520], '90': []}\n",
      "FIX for overlap: 80, subjectFilePath: ../data/session5-1/RIGHT/data_80_overlap/subject.csv\n",
      "{'0': [], '10': [], '20': [], '30': [], '40': [], '50': [], '60': [], '70': [], '80': [], '90': [21020, 21017, 21017, 21017, 21018, 21017, 21020, 21018]}\n",
      "FIX for overlap: 90, subjectFilePath: ../data/session5-1/RIGHT/data_90_overlap/subject.csv\n"
     ]
    }
   ],
   "source": [
    "sessionName ='session5-1'\n",
    "sensorName = SENSORS['RIGHT']\n",
    "fixDataSets(sessionName, sensorName)"
   ]
  },
  {
   "cell_type": "code",
   "execution_count": 52,
   "metadata": {},
   "outputs": [],
   "source": [
    "dataframe = pd.read_csv(X_files_path_left[0], header=None,\n",
    "                            delimiter=\",\")"
   ]
  }
 ],
 "metadata": {
  "interpreter": {
   "hash": "bb44b4e6cc691712e826bba4e724ba947229be6916e0acb92c0db1c9ddbd3c7a"
  },
  "kernelspec": {
   "display_name": "Python 3.9.7 ('thesis')",
   "language": "python",
   "name": "python3"
  },
  "language_info": {
   "codemirror_mode": {
    "name": "ipython",
    "version": 3
   },
   "file_extension": ".py",
   "mimetype": "text/x-python",
   "name": "python",
   "nbconvert_exporter": "python",
   "pygments_lexer": "ipython3",
   "version": "3.9.7"
  },
  "orig_nbformat": 4
 },
 "nbformat": 4,
 "nbformat_minor": 2
}
