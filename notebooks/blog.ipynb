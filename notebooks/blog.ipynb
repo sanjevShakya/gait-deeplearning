{
 "cells": [
  {
   "cell_type": "code",
   "execution_count": 5,
   "metadata": {},
   "outputs": [],
   "source": [
    "import numpy as np\n",
    "\n",
    "def get_unique_subjects(subjects):\n",
    "    return np.unique(subjects)\n",
    "\n",
    "def split_test_train_by_subjects(X, y, subjects, train_percent=0.8):\n",
    "    unique_subjects = get_unique_subjects(subjects)\n",
    "    np.random.shuffle(unique_subjects)\n",
    "    M = len(unique_subjects)\n",
    "    m_train = int(M * train_percent)\n",
    "    train_subjects = unique_subjects[0:m_train]\n",
    "    test_subjects = unique_subjects[m_train:M+1]\n",
    "    train_idx = np.where(subjects == train_subjects)[0]\n",
    "    test_idx = np.where(subjects == test_subjects)[0]\n",
    "\n",
    "    train_X = X[train_idx, :]\n",
    "    test_X = X[test_idx, :]\n",
    "    train_y = y[train_idx, :]\n",
    "    test_y = y[test_idx, :]\n",
    "    return train_X, test_X, train_y, test_y\n",
    "\n",
    "subjects = np.array([['a'], ['a'], ['a'], ['b'], [\n",
    "                    'b'], ['c'], ['c'], ['c'], ['c']])\n",
    "                    \n",
    "X = np.array([[1], [2], [3], [5], [6], [7], [7], [7], [7]])\n",
    "y = np.array([[1], [1], [1], [2], [2], [2], [3], [3], [3]])\n",
    "\n",
    "trainx_X, test_X, train_y, test_y = split_test_train_by_subjects(\n",
    "    X, y, subjects)\n",
    "print('Train X & y:')\n",
    "print(trainx_X)\n",
    "print(train_y)\n",
    "print('\\n')\n",
    "print('Test X & y:')\n",
    "print(test_X)\n",
    "print(test_y)\n"
   ]
  }
 ],
 "metadata": {
  "interpreter": {
   "hash": "bb44b4e6cc691712e826bba4e724ba947229be6916e0acb92c0db1c9ddbd3c7a"
  },
  "kernelspec": {
   "display_name": "Python 3.9.7 ('thesis')",
   "language": "python",
   "name": "python3"
  },
  "language_info": {
   "codemirror_mode": {
    "name": "ipython",
    "version": 3
   },
   "file_extension": ".py",
   "mimetype": "text/x-python",
   "name": "python",
   "nbconvert_exporter": "python",
   "pygments_lexer": "ipython3",
   "version": "3.9.7"
  },
  "orig_nbformat": 4
 },
 "nbformat": 4,
 "nbformat_minor": 2
}
