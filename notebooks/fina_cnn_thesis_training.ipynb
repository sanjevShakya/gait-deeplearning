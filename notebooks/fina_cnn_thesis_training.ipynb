{
 "cells": [
  {
   "cell_type": "code",
   "execution_count": 1,
   "metadata": {},
   "outputs": [],
   "source": [
    "import sys\n",
    "sys.path.append('../src')\n",
    "from matplotlib import pyplot as plt\n",
    "%matplotlib inline\n",
    "import seaborn as sns\n",
    "import numpy as np\n",
    "import tensorflow as tf\n",
    "from gait.config import pd\n",
    "from gait.utils import  get_overlap_data_all_sessions,  split_test_train_by_subjects, get_overlap_data_all_sessions\n",
    "from gait.training import train_cnn_model_simple, build_cnn_stats_small_simple\n",
    "from gait.evalution import save_history, save_test_history, save_accuracy_loss_figure, save_confusion_matrix_figure, compute_validations_predictions"
   ]
  },
  {
   "cell_type": "code",
   "execution_count": 2,
   "metadata": {},
   "outputs": [
    {
     "name": "stdout",
     "output_type": "stream",
     "text": [
      "Model: \"sequential\"\n",
      "_________________________________________________________________\n",
      " Layer (type)                Output Shape              Param #   \n",
      "=================================================================\n",
      " conv2d (Conv2D)             (None, 128, 12, 64)       3136      \n",
      "                                                                 \n",
      " dropout (Dropout)           (None, 128, 12, 64)       0         \n",
      "                                                                 \n",
      " max_pooling2d (MaxPooling2D  (None, 42, 4, 64)        0         \n",
      " )                                                               \n",
      "                                                                 \n",
      " conv2d_1 (Conv2D)           (None, 42, 4, 16)         12304     \n",
      "                                                                 \n",
      " dropout_1 (Dropout)         (None, 42, 4, 16)         0         \n",
      "                                                                 \n",
      " max_pooling2d_1 (MaxPooling  (None, 14, 4, 16)        0         \n",
      " 2D)                                                             \n",
      "                                                                 \n",
      " flatten (Flatten)           (None, 896)               0         \n",
      "                                                                 \n",
      " dense (Dense)               (None, 8)                 7176      \n",
      "                                                                 \n",
      " dropout_2 (Dropout)         (None, 8)                 0         \n",
      "                                                                 \n",
      " dense_1 (Dense)             (None, 5)                 45        \n",
      "                                                                 \n",
      "=================================================================\n",
      "Total params: 22,661\n",
      "Trainable params: 22,661\n",
      "Non-trainable params: 0\n",
      "_________________________________________________________________\n",
      "None\n",
      "Model size: 88.51953125 KB\n",
      "Model Size: None\n"
     ]
    }
   ],
   "source": [
    "model = build_cnn_stats_small_simple(128, 12, 5)\n"
   ]
  },
  {
   "cell_type": "code",
   "execution_count": 3,
   "metadata": {},
   "outputs": [],
   "source": [
    "def compute_resultant_acceleration(X):\n",
    "    return np.sqrt(X[:,:,0] **2 + X[:,:,1] ** 2 + X[:,:,2] ** 2)\n",
    "\n",
    "def compute_resultant_gyro(X):\n",
    "    return np.sqrt(X[:,:,3] **2 + X[:,:,4] ** 2 + X[:,:,5] ** 2)\n",
    "\n",
    "def compute_resultant_angle(X):\n",
    "    return np.sqrt(X[:,:,6] **2 + X[:,:,7] ** 2 + X[:,:,8] ** 2)\n",
    "\n",
    "def get_std_values(X, channel):\n",
    "    return np.std(X[:, :, channel], axis=1)\n",
    "\n",
    "def get_mean_values(X, channel):\n",
    "    return np.mean(X[:, :, channel], axis=1)\n",
    "\n",
    "def get_max_values(X, channel):\n",
    "    return np.max(X[:, :, channel], axis=1)\n",
    "\n",
    "def get_median_values(X, channel):\n",
    "    return np.median(X[:, :, channel], axis=1)\n",
    "\n",
    "\n",
    "def get_statistic_feature_all_channels(X):\n",
    "    statistic_features = []\n",
    "    for channel in range(9,12):\n",
    "        statistic_features.append(get_std_values(X, channel))\n",
    "        statistic_features.append(get_mean_values(X, channel))\n",
    "        statistic_features.append(get_max_values(X, channel))\n",
    "        statistic_features.append(get_median_values(X, channel))\n",
    "\n",
    "    return np.vstack(statistic_features).T"
   ]
  },
  {
   "cell_type": "code",
   "execution_count": 4,
   "metadata": {},
   "outputs": [
    {
     "name": "stdout",
     "output_type": "stream",
     "text": [
      "INFO:tensorflow:Using MirroredStrategy with devices ('/job:localhost/replica:0/task:0/device:GPU:0',)\n",
      "Model: \"sequential_1\"\n",
      "_________________________________________________________________\n",
      " Layer (type)                Output Shape              Param #   \n",
      "=================================================================\n",
      " conv2d_2 (Conv2D)           (None, 128, 12, 64)       3136      \n",
      "                                                                 \n",
      " dropout_3 (Dropout)         (None, 128, 12, 64)       0         \n",
      "                                                                 \n",
      " max_pooling2d_2 (MaxPooling  (None, 42, 4, 64)        0         \n",
      " 2D)                                                             \n",
      "                                                                 \n",
      " conv2d_3 (Conv2D)           (None, 42, 4, 16)         12304     \n",
      "                                                                 \n",
      " dropout_4 (Dropout)         (None, 42, 4, 16)         0         \n",
      "                                                                 \n",
      " max_pooling2d_3 (MaxPooling  (None, 14, 4, 16)        0         \n",
      " 2D)                                                             \n",
      "                                                                 \n",
      " flatten_1 (Flatten)         (None, 896)               0         \n",
      "                                                                 \n",
      " dense_2 (Dense)             (None, 8)                 7176      \n",
      "                                                                 \n",
      " dropout_5 (Dropout)         (None, 8)                 0         \n",
      "                                                                 \n",
      " dense_3 (Dense)             (None, 5)                 45        \n",
      "                                                                 \n",
      "=================================================================\n",
      "Total params: 22,661\n",
      "Trainable params: 22,661\n",
      "Non-trainable params: 0\n",
      "_________________________________________________________________\n",
      "None\n",
      "Model size: 88.51953125 KB\n",
      "Model Size: None\n",
      "Model saved at filepath : /home/sanjeev/thesis/code/gait-deeplearning/notebooks/../src/../models/model_90_overlap/best_model.{epoch:02d}-{val_loss:.2f}-{val_accuracy:.2f}.hdf5\n",
      "INFO:tensorflow:Reduce to /job:localhost/replica:0/task:0/device:CPU:0 then broadcast to ('/job:localhost/replica:0/task:0/device:CPU:0',).\n",
      "INFO:tensorflow:Reduce to /job:localhost/replica:0/task:0/device:CPU:0 then broadcast to ('/job:localhost/replica:0/task:0/device:CPU:0',).\n",
      "INFO:tensorflow:Reduce to /job:localhost/replica:0/task:0/device:CPU:0 then broadcast to ('/job:localhost/replica:0/task:0/device:CPU:0',).\n",
      "INFO:tensorflow:Reduce to /job:localhost/replica:0/task:0/device:CPU:0 then broadcast to ('/job:localhost/replica:0/task:0/device:CPU:0',).\n",
      "Epoch 1/100\n",
      "INFO:tensorflow:Reduce to /job:localhost/replica:0/task:0/device:CPU:0 then broadcast to ('/job:localhost/replica:0/task:0/device:CPU:0',).\n",
      "INFO:tensorflow:Reduce to /job:localhost/replica:0/task:0/device:CPU:0 then broadcast to ('/job:localhost/replica:0/task:0/device:CPU:0',).\n",
      "INFO:tensorflow:Reduce to /job:localhost/replica:0/task:0/device:CPU:0 then broadcast to ('/job:localhost/replica:0/task:0/device:CPU:0',).\n",
      "INFO:tensorflow:Reduce to /job:localhost/replica:0/task:0/device:CPU:0 then broadcast to ('/job:localhost/replica:0/task:0/device:CPU:0',).\n",
      "INFO:tensorflow:Reduce to /job:localhost/replica:0/task:0/device:CPU:0 then broadcast to ('/job:localhost/replica:0/task:0/device:CPU:0',).\n",
      "INFO:tensorflow:Reduce to /job:localhost/replica:0/task:0/device:CPU:0 then broadcast to ('/job:localhost/replica:0/task:0/device:CPU:0',).\n",
      "647/647 [==============================] - 29s 40ms/step - loss: 2.0382 - accuracy: 0.2885 - val_loss: 1.6045 - val_accuracy: 0.2474\n",
      "Epoch 2/100\n",
      "647/647 [==============================] - 24s 37ms/step - loss: 1.5941 - accuracy: 0.2886 - val_loss: 1.5916 - val_accuracy: 0.2562\n",
      "Epoch 3/100\n",
      "647/647 [==============================] - 24s 38ms/step - loss: 1.5656 - accuracy: 0.3062 - val_loss: 1.5705 - val_accuracy: 0.2913\n",
      "Epoch 4/100\n",
      "647/647 [==============================] - 24s 37ms/step - loss: 1.5249 - accuracy: 0.3518 - val_loss: 1.5287 - val_accuracy: 0.3322\n",
      "Epoch 5/100\n",
      "647/647 [==============================] - 23s 36ms/step - loss: 1.4724 - accuracy: 0.3936 - val_loss: 1.4994 - val_accuracy: 0.3413\n",
      "Epoch 6/100\n",
      "647/647 [==============================] - 24s 37ms/step - loss: 1.4301 - accuracy: 0.4198 - val_loss: 1.4757 - val_accuracy: 0.3560\n",
      "Epoch 7/100\n",
      "647/647 [==============================] - 25s 38ms/step - loss: 1.3890 - accuracy: 0.4392 - val_loss: 1.4353 - val_accuracy: 0.3967\n",
      "Epoch 8/100\n",
      "647/647 [==============================] - 24s 38ms/step - loss: 1.3513 - accuracy: 0.4635 - val_loss: 1.3945 - val_accuracy: 0.4252\n",
      "Epoch 9/100\n",
      "647/647 [==============================] - 25s 38ms/step - loss: 1.3128 - accuracy: 0.4904 - val_loss: 1.3303 - val_accuracy: 0.4693\n",
      "Epoch 10/100\n",
      "647/647 [==============================] - 20s 30ms/step - loss: 1.2543 - accuracy: 0.5440 - val_loss: 1.2841 - val_accuracy: 0.4953\n",
      "Epoch 11/100\n",
      "647/647 [==============================] - 18s 28ms/step - loss: 1.2098 - accuracy: 0.5701 - val_loss: 1.2613 - val_accuracy: 0.5054\n",
      "Epoch 12/100\n",
      "647/647 [==============================] - 18s 28ms/step - loss: 1.1753 - accuracy: 0.5828 - val_loss: 1.2323 - val_accuracy: 0.5124\n",
      "Epoch 13/100\n",
      "647/647 [==============================] - 18s 28ms/step - loss: 1.1413 - accuracy: 0.5903 - val_loss: 1.2194 - val_accuracy: 0.5087\n",
      "Epoch 14/100\n",
      "647/647 [==============================] - 18s 28ms/step - loss: 1.1101 - accuracy: 0.5967 - val_loss: 1.1993 - val_accuracy: 0.5112\n",
      "Epoch 15/100\n",
      "647/647 [==============================] - 18s 28ms/step - loss: 1.0794 - accuracy: 0.6040 - val_loss: 1.1920 - val_accuracy: 0.5157\n",
      "Epoch 16/100\n",
      "647/647 [==============================] - 18s 28ms/step - loss: 1.0498 - accuracy: 0.6167 - val_loss: 1.1640 - val_accuracy: 0.5248\n",
      "Epoch 17/100\n",
      "647/647 [==============================] - 18s 28ms/step - loss: 1.0212 - accuracy: 0.6317 - val_loss: 1.1438 - val_accuracy: 0.5607\n",
      "Epoch 18/100\n",
      "647/647 [==============================] - 18s 28ms/step - loss: 0.9623 - accuracy: 0.6966 - val_loss: 1.1062 - val_accuracy: 0.6396\n",
      "Epoch 19/100\n",
      "647/647 [==============================] - 18s 28ms/step - loss: 0.9167 - accuracy: 0.7287 - val_loss: 1.0864 - val_accuracy: 0.6515\n",
      "Epoch 20/100\n",
      "647/647 [==============================] - 18s 28ms/step - loss: 0.8899 - accuracy: 0.7431 - val_loss: 1.0890 - val_accuracy: 0.6529\n",
      "Epoch 21/100\n",
      "647/647 [==============================] - 19s 29ms/step - loss: 0.8684 - accuracy: 0.7571 - val_loss: 1.0879 - val_accuracy: 0.6585\n",
      "Epoch 22/100\n",
      "647/647 [==============================] - 18s 28ms/step - loss: 0.8485 - accuracy: 0.7691 - val_loss: 1.0985 - val_accuracy: 0.6650\n",
      "Epoch 23/100\n",
      "647/647 [==============================] - 18s 28ms/step - loss: 0.8330 - accuracy: 0.7786 - val_loss: 1.0954 - val_accuracy: 0.6673\n",
      "Epoch 24/100\n",
      "647/647 [==============================] - 18s 28ms/step - loss: 0.8184 - accuracy: 0.7862 - val_loss: 1.0724 - val_accuracy: 0.6717\n",
      "Epoch 25/100\n",
      "647/647 [==============================] - 18s 28ms/step - loss: 0.8065 - accuracy: 0.7923 - val_loss: 1.1271 - val_accuracy: 0.6744\n",
      "Epoch 26/100\n",
      "647/647 [==============================] - 18s 28ms/step - loss: 0.7921 - accuracy: 0.7996 - val_loss: 1.0996 - val_accuracy: 0.6808\n",
      "Epoch 27/100\n",
      "647/647 [==============================] - 18s 28ms/step - loss: 0.7811 - accuracy: 0.8050 - val_loss: 1.0943 - val_accuracy: 0.6857\n",
      "Epoch 28/100\n",
      "647/647 [==============================] - 20s 31ms/step - loss: 0.7670 - accuracy: 0.8089 - val_loss: 1.1425 - val_accuracy: 0.6867\n",
      "Epoch 29/100\n",
      "647/647 [==============================] - 19s 29ms/step - loss: 0.7570 - accuracy: 0.8151 - val_loss: 1.1254 - val_accuracy: 0.6892\n",
      "Epoch 30/100\n",
      "647/647 [==============================] - 18s 28ms/step - loss: 0.7475 - accuracy: 0.8194 - val_loss: 1.1144 - val_accuracy: 0.6926\n",
      "Epoch 31/100\n",
      "647/647 [==============================] - 18s 28ms/step - loss: 0.7393 - accuracy: 0.8230 - val_loss: 1.1220 - val_accuracy: 0.6927\n",
      "Epoch 32/100\n",
      "647/647 [==============================] - 18s 28ms/step - loss: 0.7307 - accuracy: 0.8257 - val_loss: 1.1602 - val_accuracy: 0.6978\n",
      "Epoch 33/100\n",
      "647/647 [==============================] - 18s 27ms/step - loss: 0.7238 - accuracy: 0.8287 - val_loss: 1.1525 - val_accuracy: 0.7002\n",
      "Epoch 34/100\n",
      "647/647 [==============================] - 18s 28ms/step - loss: 0.7141 - accuracy: 0.8300 - val_loss: 1.1354 - val_accuracy: 0.7020\n",
      "Epoch 35/100\n",
      "647/647 [==============================] - 19s 29ms/step - loss: 0.7105 - accuracy: 0.8323 - val_loss: 1.1549 - val_accuracy: 0.7037\n",
      "Epoch 36/100\n",
      "647/647 [==============================] - 19s 29ms/step - loss: 0.6948 - accuracy: 0.8380 - val_loss: 1.1550 - val_accuracy: 0.7016\n",
      "Epoch 37/100\n",
      "647/647 [==============================] - 19s 29ms/step - loss: 0.6889 - accuracy: 0.8407 - val_loss: 1.1416 - val_accuracy: 0.7035\n",
      "Epoch 38/100\n",
      "647/647 [==============================] - 18s 28ms/step - loss: 0.6794 - accuracy: 0.8423 - val_loss: 1.1643 - val_accuracy: 0.7060\n",
      "Epoch 39/100\n",
      "647/647 [==============================] - 19s 30ms/step - loss: 0.6752 - accuracy: 0.8436 - val_loss: 1.1646 - val_accuracy: 0.7058\n",
      "Epoch 40/100\n",
      "647/647 [==============================] - 18s 28ms/step - loss: 0.6696 - accuracy: 0.8455 - val_loss: 1.1962 - val_accuracy: 0.7093\n",
      "Epoch 41/100\n",
      "647/647 [==============================] - 18s 28ms/step - loss: 0.5975 - accuracy: 0.8487 - val_loss: 1.0949 - val_accuracy: 0.7272\n",
      "Epoch 42/100\n",
      "647/647 [==============================] - 18s 28ms/step - loss: 0.5267 - accuracy: 0.8518 - val_loss: 1.0619 - val_accuracy: 0.7274\n",
      "Epoch 43/100\n",
      "647/647 [==============================] - 18s 28ms/step - loss: 0.4815 - accuracy: 0.8547 - val_loss: 1.0111 - val_accuracy: 0.7283\n",
      "Epoch 44/100\n",
      "647/647 [==============================] - 18s 28ms/step - loss: 0.4574 - accuracy: 0.8569 - val_loss: 0.9972 - val_accuracy: 0.7347\n",
      "Epoch 45/100\n",
      "647/647 [==============================] - 18s 28ms/step - loss: 0.4394 - accuracy: 0.8569 - val_loss: 0.9995 - val_accuracy: 0.7350\n",
      "Epoch 46/100\n",
      "647/647 [==============================] - 18s 28ms/step - loss: 0.4270 - accuracy: 0.8593 - val_loss: 0.9877 - val_accuracy: 0.7335\n",
      "Epoch 47/100\n",
      "647/647 [==============================] - 18s 27ms/step - loss: 0.4178 - accuracy: 0.8605 - val_loss: 0.9738 - val_accuracy: 0.7348\n",
      "Epoch 48/100\n",
      "647/647 [==============================] - 18s 28ms/step - loss: 0.4072 - accuracy: 0.8647 - val_loss: 1.0048 - val_accuracy: 0.7375\n",
      "Epoch 49/100\n",
      "647/647 [==============================] - 18s 28ms/step - loss: 0.4026 - accuracy: 0.8657 - val_loss: 0.9777 - val_accuracy: 0.7426\n",
      "Epoch 50/100\n",
      "647/647 [==============================] - 18s 28ms/step - loss: 0.3932 - accuracy: 0.8691 - val_loss: 1.0032 - val_accuracy: 0.7419\n",
      "Epoch 51/100\n",
      "647/647 [==============================] - 18s 28ms/step - loss: 0.3885 - accuracy: 0.8714 - val_loss: 1.0099 - val_accuracy: 0.7403\n",
      "Epoch 52/100\n",
      "647/647 [==============================] - 18s 27ms/step - loss: 0.3818 - accuracy: 0.8743 - val_loss: 0.9962 - val_accuracy: 0.7407\n",
      "Epoch 53/100\n",
      "647/647 [==============================] - 18s 28ms/step - loss: 0.3751 - accuracy: 0.8770 - val_loss: 1.0299 - val_accuracy: 0.7400\n",
      "Epoch 54/100\n",
      "647/647 [==============================] - 19s 29ms/step - loss: 0.3678 - accuracy: 0.8793 - val_loss: 1.0032 - val_accuracy: 0.7426\n",
      "Epoch 55/100\n",
      "647/647 [==============================] - 19s 29ms/step - loss: 0.3610 - accuracy: 0.8830 - val_loss: 1.0142 - val_accuracy: 0.7463\n",
      "Epoch 56/100\n",
      "647/647 [==============================] - 18s 28ms/step - loss: 0.3573 - accuracy: 0.8821 - val_loss: 0.9887 - val_accuracy: 0.7458\n",
      "Epoch 57/100\n",
      "647/647 [==============================] - 18s 27ms/step - loss: 0.3498 - accuracy: 0.8868 - val_loss: 1.0032 - val_accuracy: 0.7451\n",
      "Epoch 58/100\n",
      "647/647 [==============================] - 19s 30ms/step - loss: 0.3435 - accuracy: 0.8882 - val_loss: 1.0123 - val_accuracy: 0.7497\n",
      "Epoch 59/100\n",
      "647/647 [==============================] - 19s 29ms/step - loss: 0.3412 - accuracy: 0.8904 - val_loss: 1.0083 - val_accuracy: 0.7472\n",
      "Epoch 60/100\n",
      "647/647 [==============================] - 19s 29ms/step - loss: 0.3393 - accuracy: 0.8904 - val_loss: 1.0189 - val_accuracy: 0.7490\n",
      "Epoch 61/100\n",
      "647/647 [==============================] - 19s 29ms/step - loss: 0.3356 - accuracy: 0.8929 - val_loss: 1.0121 - val_accuracy: 0.7482\n",
      "Epoch 62/100\n",
      "647/647 [==============================] - 19s 29ms/step - loss: 0.3270 - accuracy: 0.8949 - val_loss: 1.0327 - val_accuracy: 0.7493\n",
      "Epoch 63/100\n",
      "647/647 [==============================] - 19s 29ms/step - loss: 0.3238 - accuracy: 0.8963 - val_loss: 1.0107 - val_accuracy: 0.7517\n",
      "Epoch 64/100\n",
      "647/647 [==============================] - 19s 29ms/step - loss: 0.3216 - accuracy: 0.8982 - val_loss: 1.0457 - val_accuracy: 0.7512\n",
      "Epoch 65/100\n",
      "647/647 [==============================] - 19s 29ms/step - loss: 0.3173 - accuracy: 0.8996 - val_loss: 1.0273 - val_accuracy: 0.7501\n",
      "Epoch 66/100\n",
      "647/647 [==============================] - 19s 29ms/step - loss: 0.3133 - accuracy: 0.9006 - val_loss: 1.0365 - val_accuracy: 0.7492\n",
      "Epoch 67/100\n",
      "647/647 [==============================] - 18s 29ms/step - loss: 0.3119 - accuracy: 0.9012 - val_loss: 1.0282 - val_accuracy: 0.7526\n",
      "Epoch 68/100\n",
      "647/647 [==============================] - 19s 29ms/step - loss: 0.3075 - accuracy: 0.9042 - val_loss: 1.0524 - val_accuracy: 0.7513\n",
      "Epoch 69/100\n",
      "647/647 [==============================] - 18s 29ms/step - loss: 0.3052 - accuracy: 0.9035 - val_loss: 1.0433 - val_accuracy: 0.7528\n",
      "Epoch 70/100\n",
      "647/647 [==============================] - 19s 29ms/step - loss: 0.3028 - accuracy: 0.9044 - val_loss: 1.0314 - val_accuracy: 0.7545\n",
      "Epoch 71/100\n",
      "647/647 [==============================] - 19s 29ms/step - loss: 0.2971 - accuracy: 0.9065 - val_loss: 1.0222 - val_accuracy: 0.7558\n",
      "Epoch 72/100\n",
      "647/647 [==============================] - 19s 29ms/step - loss: 0.2997 - accuracy: 0.9064 - val_loss: 1.0264 - val_accuracy: 0.7568\n",
      "Epoch 73/100\n",
      "647/647 [==============================] - 18s 28ms/step - loss: 0.2925 - accuracy: 0.9088 - val_loss: 1.0880 - val_accuracy: 0.7534\n",
      "Epoch 74/100\n",
      "647/647 [==============================] - 19s 29ms/step - loss: 0.2904 - accuracy: 0.9087 - val_loss: 1.0272 - val_accuracy: 0.7577\n",
      "Epoch 75/100\n",
      "647/647 [==============================] - 19s 29ms/step - loss: 0.2879 - accuracy: 0.9097 - val_loss: 1.0503 - val_accuracy: 0.7559\n",
      "Epoch 76/100\n",
      "647/647 [==============================] - 19s 29ms/step - loss: 0.2841 - accuracy: 0.9104 - val_loss: 1.0945 - val_accuracy: 0.7526\n",
      "Epoch 77/100\n",
      "647/647 [==============================] - 19s 29ms/step - loss: 0.2825 - accuracy: 0.9112 - val_loss: 1.0343 - val_accuracy: 0.7570\n",
      "Epoch 78/100\n",
      "647/647 [==============================] - 19s 29ms/step - loss: 0.2803 - accuracy: 0.9120 - val_loss: 1.0476 - val_accuracy: 0.7584\n",
      "Epoch 79/100\n",
      "647/647 [==============================] - 19s 29ms/step - loss: 0.2778 - accuracy: 0.9124 - val_loss: 1.0413 - val_accuracy: 0.7594\n",
      "Epoch 80/100\n",
      "647/647 [==============================] - 19s 29ms/step - loss: 0.2766 - accuracy: 0.9131 - val_loss: 1.0490 - val_accuracy: 0.7616\n",
      "Epoch 81/100\n",
      "647/647 [==============================] - 19s 29ms/step - loss: 0.2746 - accuracy: 0.9141 - val_loss: 1.0564 - val_accuracy: 0.7566\n",
      "Epoch 82/100\n",
      "647/647 [==============================] - 19s 29ms/step - loss: 0.2715 - accuracy: 0.9153 - val_loss: 1.0419 - val_accuracy: 0.7576\n",
      "Epoch 83/100\n",
      "647/647 [==============================] - 19s 29ms/step - loss: 0.2704 - accuracy: 0.9154 - val_loss: 1.0338 - val_accuracy: 0.7596\n",
      "Epoch 84/100\n",
      "647/647 [==============================] - 18s 29ms/step - loss: 0.2682 - accuracy: 0.9169 - val_loss: 1.0400 - val_accuracy: 0.7598\n",
      "Epoch 85/100\n",
      "647/647 [==============================] - 19s 29ms/step - loss: 0.2668 - accuracy: 0.9175 - val_loss: 1.0890 - val_accuracy: 0.7612\n",
      "Epoch 86/100\n",
      "647/647 [==============================] - 19s 29ms/step - loss: 0.2657 - accuracy: 0.9171 - val_loss: 1.0586 - val_accuracy: 0.7592\n",
      "Epoch 87/100\n",
      "647/647 [==============================] - 18s 29ms/step - loss: 0.2611 - accuracy: 0.9183 - val_loss: 1.0644 - val_accuracy: 0.7625\n",
      "Epoch 88/100\n",
      "647/647 [==============================] - 19s 29ms/step - loss: 0.2599 - accuracy: 0.9177 - val_loss: 1.0772 - val_accuracy: 0.7594\n",
      "Epoch 89/100\n",
      "647/647 [==============================] - 19s 29ms/step - loss: 0.2596 - accuracy: 0.9192 - val_loss: 1.0589 - val_accuracy: 0.7618\n",
      "Epoch 90/100\n",
      "647/647 [==============================] - 19s 29ms/step - loss: 0.2565 - accuracy: 0.9203 - val_loss: 1.0453 - val_accuracy: 0.7634\n",
      "Epoch 91/100\n",
      "647/647 [==============================] - 19s 29ms/step - loss: 0.2555 - accuracy: 0.9202 - val_loss: 1.0723 - val_accuracy: 0.7619\n",
      "Epoch 92/100\n",
      "647/647 [==============================] - 19s 29ms/step - loss: 0.2544 - accuracy: 0.9215 - val_loss: 1.0559 - val_accuracy: 0.7629\n",
      "Epoch 93/100\n",
      "647/647 [==============================] - 19s 29ms/step - loss: 0.2529 - accuracy: 0.9217 - val_loss: 1.0459 - val_accuracy: 0.7638\n",
      "Epoch 94/100\n",
      "647/647 [==============================] - 19s 29ms/step - loss: 0.2516 - accuracy: 0.9228 - val_loss: 1.0672 - val_accuracy: 0.7637\n",
      "Epoch 95/100\n",
      "647/647 [==============================] - 19s 29ms/step - loss: 0.2489 - accuracy: 0.9222 - val_loss: 1.0658 - val_accuracy: 0.7644\n",
      "Epoch 96/100\n",
      "647/647 [==============================] - 19s 29ms/step - loss: 0.2457 - accuracy: 0.9241 - val_loss: 1.0769 - val_accuracy: 0.7655\n",
      "Epoch 97/100\n",
      "647/647 [==============================] - 18s 28ms/step - loss: 0.2453 - accuracy: 0.9250 - val_loss: 1.0851 - val_accuracy: 0.7650\n",
      "Epoch 98/100\n",
      "647/647 [==============================] - 19s 29ms/step - loss: 0.2472 - accuracy: 0.9223 - val_loss: 1.0491 - val_accuracy: 0.7650\n",
      "Epoch 99/100\n",
      "647/647 [==============================] - 19s 29ms/step - loss: 0.2413 - accuracy: 0.9248 - val_loss: 1.0397 - val_accuracy: 0.7647\n",
      "Epoch 100/100\n",
      "647/647 [==============================] - 19s 29ms/step - loss: 0.2418 - accuracy: 0.9259 - val_loss: 1.0473 - val_accuracy: 0.7634\n",
      "Saved training details to /home/sanjeev/thesis/code/gait-deeplearning/notebooks/../src/../logs/log_90_overlap/history.csv\n",
      "348/348 [==============================] - 5s 12ms/step - loss: 1.4641 - accuracy: 0.6439\n",
      "Saved validation details to /home/sanjeev/thesis/code/gait-deeplearning/notebooks/../src/../logs/log_90_overlap/evaluation.csv\n"
     ]
    },
    {
     "data": {
      "image/png": "[encoded data removed]",
      "text/plain": [
       "<Figure size 432x288 with 1 Axes>"
      ]
     },
     "metadata": {
      "needs_background": "light"
     },
     "output_type": "display_data"
    },
    {
     "data": {
      "image/png": "[encoded data removed]",
      "text/plain": [
       "<Figure size 432x288 with 2 Axes>"
      ]
     },
     "metadata": {
      "needs_background": "light"
     },
     "output_type": "display_data"
    }
   ],
   "source": [
    "overlapPercents = [90]\n",
    "# overlapPercents = [0]\n",
    "# exclude_subjects = ['ddAeJA42PXvwthbW', 'nan', 'LLZjAPTyj7muHsEf',\n",
    "#                     'MMuX9YIh4NTbLZLM', 'cbOZWnI7s1y8oLD4', 'PE8D53oX060qLbdX', 'xYdtS1F8tDyjEIgN', 'sUZBISq61Y7I5tqQ']\n",
    "exclude_subjects = ['ddAeJA42PXvwthbW', 'nan',\n",
    "                    'MMuX9YIh4NTbLZLM',\n",
    "                    'NKdnm6cN3KKAx7R4',\n",
    "                    'PE8D53oX060qLbdX',\n",
    "                    'xYdtS1F8tDyjEIgN',\n",
    "                    'EUbKPOSQgjccjtvi',\n",
    "                    'PE8D53oX060qLbdX',\n",
    "                    'ddAeJA42PXvwthbW',\n",
    "                    'LLZjAPTyj7muHsEf',\n",
    "                    'cbOZWnI7s1y8oLD4',\n",
    "                    'ddAeJA42PXvwthbW',\n",
    "                    '1ZstYhEKzKKfGnMW',\n",
    "                    'LLZjAPTyj7muHsEf',\n",
    "                    'bQsRwKxgJiXTzo6P',\n",
    "                    'sUZBISq61Y7I5tqQ',\n",
    "                    '19AoxD1bgrDckd2p',\n",
    "                    'wtyNo4LYaWXrkzA7',\n",
    "                    ]\n",
    "\n",
    "for OVERLAP_PERCENT in overlapPercents:\n",
    "    gpus = tf.config.list_logical_devices('GPU')\n",
    "    strategy = tf.distribute.MirroredStrategy(gpus)\n",
    "    with strategy.scope():\n",
    "        X, y, subjects = get_overlap_data_all_sessions(OVERLAP_PERCENT)\n",
    "        # REMOVE UNWANTED SUBJECTS\n",
    "        indexes = np.where(subjects == exclude_subjects)\n",
    "        X = np.delete(X, indexes[0], axis=0)\n",
    "        y = np.delete(y, indexes[0], axis=0)\n",
    "        subjects = np.delete(subjects, indexes[0], axis=0)\n",
    "        # END REMOVE UNWANTED SUBJECTS\n",
    "\n",
    "        # AUGMENT DATA\n",
    "        resultant_acc = compute_resultant_acceleration(X)\n",
    "        resultant_gyro = compute_resultant_gyro(X)\n",
    "        resultant_angle = compute_resultant_angle(X)\n",
    "        resultant_acc = resultant_acc.reshape(\n",
    "            resultant_acc.shape[0], resultant_acc.shape[1], 1)\n",
    "        resultant_gyro = resultant_gyro.reshape(\n",
    "            resultant_gyro.shape[0], resultant_gyro.shape[1], 1)\n",
    "        resultant_angle = resultant_angle.reshape(\n",
    "            resultant_angle.shape[0], resultant_angle.shape[1], 1)\n",
    "        X = np.concatenate((X, resultant_acc), axis=2)\n",
    "        X = np.concatenate((X, resultant_gyro), axis=2)\n",
    "        X = np.concatenate((X, resultant_angle), axis=2)\n",
    "        # AUGMENT DATA END\n",
    "\n",
    "        # print('UNIQUE subjects:', np.unique(subjects))\n",
    "        X_train, X_test, y_train, y_test, y_train_non_encoded, y_test_non_encoded = split_test_train_by_subjects(\n",
    "            X, y, subjects, train_percent=0.8)\n",
    "        # X_train_stats = get_statistic_feature_all_channels(X_train)\n",
    "        # X_test_stats = get_statistic_feature_all_channels(X_test)\n",
    "        # print('Statistic feature shape: ', X_train_stats.shape)\n",
    "        model, history = train_cnn_model_simple(\n",
    "            X_train, y_train, X_test, overlap_percent=OVERLAP_PERCENT, batch_size=128, epochs=100)\n",
    "\n",
    "        save_history(history, OVERLAP_PERCENT)\n",
    "        evaluation_history = model.evaluate(\n",
    "            X_test, y_test, batch_size=128, verbose=1)\n",
    "        save_test_history(evaluation_history, OVERLAP_PERCENT)\n",
    "        save_accuracy_loss_figure(history, OVERLAP_PERCENT)\n",
    "        validations, predictions = compute_validations_predictions(\n",
    "            model, X_test, y_test)\n",
    "        save_confusion_matrix_figure(\n",
    "            validations, predictions, OVERLAP_PERCENT, sns)\n"
   ]
  },
  {
   "cell_type": "code",
   "execution_count": 5,
   "metadata": {},
   "outputs": [
    {
     "name": "stdout",
     "output_type": "stream",
     "text": [
      "INFO:tensorflow:Assets written to: final_simple_cnn_with_5_labels/assets\n"
     ]
    }
   ],
   "source": [
    "model.save('final_simple_cnn_with_5_labels')"
   ]
  },
  {
   "cell_type": "code",
   "execution_count": 6,
   "metadata": {},
   "outputs": [
    {
     "name": "stdout",
     "output_type": "stream",
     "text": [
      "(44422, 5)\n"
     ]
    }
   ],
   "source": [
    "print(y_test.shape)"
   ]
  },
  {
   "cell_type": "code",
   "execution_count": 9,
   "metadata": {},
   "outputs": [
    {
     "name": "stdout",
     "output_type": "stream",
     "text": [
      "(103414, 128, 12, 1)\n",
      "(44422, 128, 12, 1)\n"
     ]
    }
   ],
   "source": [
    "X_train_reshape = X_train.reshape(-1, X_train.shape[1], X_train.shape[2], 1).astype(np.float32)\n",
    "print(X_train_reshape.shape)\n",
    "X_test_reshape = X_test.reshape(-1, X_test.shape[1], X_test.shape[2], 1).astype(np.float32)\n",
    "print(X_test_reshape.shape)"
   ]
  },
  {
   "cell_type": "code",
   "execution_count": 10,
   "metadata": {},
   "outputs": [],
   "source": [
    "def representative_data_gen():\n",
    "    for input_value in tf.data.Dataset.from_tensor_slices(X_test_reshape).batch(1).take(300):\n",
    "        yield [input_value]\n"
   ]
  },
  {
   "cell_type": "code",
   "execution_count": null,
   "metadata": {},
   "outputs": [],
   "source": [
    "keras_model = model\n",
    "model.summary()\n",
    "\n",
    "converter = tf.lite.TFLiteConverter.from_keras_model(model)\n",
    "converter.optimizations = [tf.lite.Optimize.DEFAULT]\n",
    "converter.target_spec.supported_types = [tf.float16]\n",
    "converter.optimizations = [tf.lite.Optimize.DEFAULT]\n",
    "converter.representative_dataset = representative_data_gen\n",
    "tflite_quant_model = converter.convert()\n",
    "open('float-quantized-model.tflite', 'wb').write(tflite_quant_model)"
   ]
  },
  {
   "cell_type": "code",
   "execution_count": 11,
   "metadata": {},
   "outputs": [
    {
     "name": "stdout",
     "output_type": "stream",
     "text": [
      "INFO:tensorflow:Assets written to: /tmp/tmpqyx8z1k8/assets\n"
     ]
    },
    {
     "name": "stderr",
     "output_type": "stream",
     "text": [
      "/home/sanjeev/.local/lib/python3.9/site-packages/tensorflow/lite/python/convert.py:746: UserWarning: Statistics for quantized inputs were expected, but not specified; continuing anyway.\n",
      "  warnings.warn(\"Statistics for quantized inputs were expected, but not \"\n",
      "WARNING:absl:Buffer deduplication procedure will be skipped when flatbuffer library is not properly loaded\n"
     ]
    },
    {
     "data": {
      "text/plain": [
       "28432"
      ]
     },
     "execution_count": 11,
     "metadata": {},
     "output_type": "execute_result"
    }
   ],
   "source": [
    "# Convert the model to the TensorFlow Lite format without quantization\n",
    "converter = tf.lite.TFLiteConverter.from_keras_model(model)\n",
    "converter.optimizations = [tf.lite.Optimize.DEFAULT]\n",
    "# Enforce integer only quantization\n",
    "converter.target_spec.supported_ops = [\n",
    "    tf.lite.OpsSet.TFLITE_BUILTINS_INT8]\n",
    "\n",
    "converter.inference_input_type = tf.int8\n",
    "converter.inference_output_type = tf.int8\n",
    "# Provide a representative dataset to ensure we quantize correctly.\n",
    "converter.representative_dataset = representative_data_gen\n",
    "model_tflite = converter.convert()\n",
    "\n",
    "# Save the model to disk\n",
    "open('int-quantized-model.tflite', 'wb').write(model_tflite)\n"
   ]
  },
  {
   "cell_type": "code",
   "execution_count": null,
   "metadata": {},
   "outputs": [],
   "source": [
    "interpreter = tf.lite.Interpreter(model_path=str('int-quantized-model.tflite'))\n",
    "interpreter.allocate_tensors()\n"
   ]
  },
  {
   "cell_type": "code",
   "execution_count": null,
   "metadata": {},
   "outputs": [],
   "source": [
    "interpreter.get_input_details()"
   ]
  },
  {
   "cell_type": "code",
   "execution_count": null,
   "metadata": {},
   "outputs": [],
   "source": [
    "X_train_reshape = X_train.reshape(-1, X_train.shape[1], X_train.shape[2], 1).astype(np.float32)\n",
    "print(X_train_reshape.shape)\n",
    "X_tensor = np.array([X_train_reshape[9000]]).astype(np.float32)\n",
    "print(interpreter.get_input_details())\n",
    "\n",
    "input_details = interpreter.get_input_details()\n",
    "print('\\n',interpreter.get_output_details(), '\\n')\n",
    "output_index = interpreter.get_output_details()[0][\"index\"]\n",
    "\n",
    "interpreter.set_tensor(input_details[0]['index'], X_tensor)\n",
    "\n",
    "interpreter.invoke()\n",
    "predictions = interpreter.get_tensor(output_index)\n"
   ]
  },
  {
   "cell_type": "code",
   "execution_count": null,
   "metadata": {},
   "outputs": [],
   "source": [
    "print(np.argmax(predictions[0]))\n",
    "print(y_train[9000])"
   ]
  },
  {
   "cell_type": "code",
   "execution_count": null,
   "metadata": {},
   "outputs": [],
   "source": [
    "def representative_data_gen():\n",
    "    for input_value in tf.data.Dataset.from_tensor_slices(X_train_reshape).batch(1).take(100):\n",
    "        yield [input_value]\n",
    "\n",
    "converter = tf.lite.TFLiteConverter.from_keras_model(model)\n",
    "converter.optimizations = [tf.lite.Optimize.DEFAULT]\n",
    "converter.representative_dataset = representative_data_gen\n",
    "# Ensure that if any ops can't be quantized, the converter throws an error\n",
    "converter.target_spec.supported_ops = [tf.lite.OpsSet.TFLITE_BUILTINS_INT8]\n",
    "# Set the input and output tensors to uint8 (APIs added in r2.3)\n",
    "converter.inference_input_type = tf.uint8\n",
    "converter.inference_output_type = tf.uint8\n",
    "\n",
    "tflite_model_quant = converter.convert()\n",
    "open('int-quantized-model.tflite', 'wb').write(tflite_quant_model)\n",
    "\n",
    "## THIS DOES NOT WORK!!!"
   ]
  },
  {
   "cell_type": "code",
   "execution_count": null,
   "metadata": {},
   "outputs": [],
   "source": [
    "converter = tf.lite.TFLiteConverter.from_keras_model(model)\n",
    "converter.optimizations = [tf.lite.Optimize.DEFAULT]\n",
    "#converter.target_spec.supported_types = [tf.float32] this fails if you uncomment\n",
    "converter.representative_dataset = representative_data_gen\n",
    "tflite_model = converter.convert()\n",
    "\n",
    "# Save the model to disk\n",
    "open(\"model_quantized_2.tflite\", \"wb\").write(tflite_model)"
   ]
  },
  {
   "cell_type": "code",
   "execution_count": null,
   "metadata": {},
   "outputs": [],
   "source": [
    "interpreter = tf.lite.Interpreter(model_path=str('model_quantized_2.tflite'))\n",
    "interpreter.allocate_tensors()\n"
   ]
  },
  {
   "cell_type": "code",
   "execution_count": null,
   "metadata": {},
   "outputs": [],
   "source": [
    "interpreter.get_input_details()\n"
   ]
  },
  {
   "cell_type": "code",
   "execution_count": null,
   "metadata": {},
   "outputs": [],
   "source": [
    "input_details = interpreter.get_input_details()\n",
    "print('\\n',input_details)\n",
    "print('\\n',interpreter.get_output_details(), '\\n')"
   ]
  },
  {
   "cell_type": "code",
   "execution_count": null,
   "metadata": {},
   "outputs": [],
   "source": [
    "OVERLAP_PERCENT = 0\n",
    "# overlapPercents = [0]\n",
    "# exclude_subjects = ['ddAeJA42PXvwthbW', 'nan', 'LLZjAPTyj7muHsEf',\n",
    "#                     'MMuX9YIh4NTbLZLM', 'cbOZWnI7s1y8oLD4', 'PE8D53oX060qLbdX', 'xYdtS1F8tDyjEIgN', 'sUZBISq61Y7I5tqQ']\n",
    "exclude_subjects = ['ddAeJA42PXvwthbW', 'nan',\n",
    "                    'MMuX9YIh4NTbLZLM',\n",
    "                    'NKdnm6cN3KKAx7R4',\n",
    "                    'PE8D53oX060qLbdX',\n",
    "                    'xYdtS1F8tDyjEIgN',\n",
    "                    'EUbKPOSQgjccjtvi',\n",
    "                    'PE8D53oX060qLbdX',\n",
    "                    'ddAeJA42PXvwthbW',\n",
    "                    'LLZjAPTyj7muHsEf',\n",
    "                    'cbOZWnI7s1y8oLD4',\n",
    "                    'ddAeJA42PXvwthbW',\n",
    "                    '1ZstYhEKzKKfGnMW',\n",
    "                    'LLZjAPTyj7muHsEf',\n",
    "                    'bQsRwKxgJiXTzo6P',\n",
    "                    'sUZBISq61Y7I5tqQ',\n",
    "                    '19AoxD1bgrDckd2p',\n",
    "                    'wtyNo4LYaWXrkzA7',\n",
    "                    ]\n",
    "\n",
    "\n",
    "X, y, subjects = get_overlap_data_all_sessions(OVERLAP_PERCENT)\n",
    "# REMOVE UNWANTED SUBJECTS\n",
    "indexes = np.where(subjects == exclude_subjects)\n",
    "X = np.delete(X, indexes[0], axis=0)\n",
    "y = np.delete(y, indexes[0], axis=0)\n",
    "subjects = np.delete(subjects, indexes[0], axis=0)\n",
    "# END REMOVE UNWANTED SUBJECT\n",
    "# AUGMENT DATA\n",
    "resultant_acc = compute_resultant_acceleration(X)\n",
    "resultant_gyro = compute_resultant_gyro(X)\n",
    "resultant_angle = compute_resultant_angle(X)\n",
    "resultant_acc = resultant_acc.reshape(\n",
    "    resultant_acc.shape[0], resultant_acc.shape[1], 1)\n",
    "resultant_gyro = resultant_gyro.reshape(\n",
    "    resultant_gyro.shape[0], resultant_gyro.shape[1], 1)\n",
    "resultant_angle = resultant_angle.reshape(\n",
    "    resultant_angle.shape[0], resultant_angle.shape[1], 1)\n",
    "X = np.concatenate((X, resultant_acc), axis=2)\n",
    "X = np.concatenate((X, resultant_gyro), axis=2)\n",
    "X = np.concatenate((X, resultant_angle), axis=2)\n"
   ]
  },
  {
   "cell_type": "code",
   "execution_count": null,
   "metadata": {},
   "outputs": [],
   "source": [
    "model.summary()"
   ]
  },
  {
   "cell_type": "code",
   "execution_count": null,
   "metadata": {},
   "outputs": [],
   "source": [
    "print(X.shape)\n",
    "print(y.shape)\n",
    "X_train, X_test, y_train, y_test, y_train_non_encoded, y_test_non_encoded = split_test_train_by_subjects(\n",
    "            X, y, subjects, train_percent=0.6)\n",
    "evaluation_history = model.evaluate(\n",
    "            X_test, y_test, batch_size=128, verbose=1)\n",
    "save_test_history(evaluation_history, OVERLAP_PERCENT)\n",
    "save_accuracy_loss_figure(history, OVERLAP_PERCENT)\n",
    "validations, predictions = compute_validations_predictions(\n",
    "    model, X_test, y_test)\n",
    "save_confusion_matrix_figure(\n",
    "    validations, predictions, OVERLAP_PERCENT, sns)"
   ]
  },
  {
   "cell_type": "code",
   "execution_count": null,
   "metadata": {},
   "outputs": [],
   "source": [
    "model.save('good_model')"
   ]
  }
 ],
 "metadata": {
  "interpreter": {
   "hash": "bb44b4e6cc691712e826bba4e724ba947229be6916e0acb92c0db1c9ddbd3c7a"
  },
  "kernelspec": {
   "display_name": "Python 3.9.7 ('thesis')",
   "language": "python",
   "name": "python3"
  },
  "language_info": {
   "codemirror_mode": {
    "name": "ipython",
    "version": 3
   },
   "file_extension": ".py",
   "mimetype": "text/x-python",
   "name": "python",
   "nbconvert_exporter": "python",
   "pygments_lexer": "ipython3",
   "version": "3.9.7"
  },
  "orig_nbformat": 4
 },
 "nbformat": 4,
 "nbformat_minor": 2
}
