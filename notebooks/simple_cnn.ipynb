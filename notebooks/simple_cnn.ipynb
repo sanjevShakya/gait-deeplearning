{
 "cells": [
  {
   "cell_type": "code",
   "execution_count": 2,
   "metadata": {},
   "outputs": [],
   "source": [
    "import sys\n",
    "sys.path.append('../src')\n",
    "from matplotlib import pyplot as plt\n",
    "%matplotlib inline\n",
    "import seaborn as sns\n",
    "import numpy as np\n",
    "import tensorflow as tf\n",
    "from gait.config import pd\n",
    "from gait.utils import get_data_by_overlap_percent,get_overlap_data_all_sessions,  split_test_train_by_subjects, remove_invalid_data, get_overlap_data_all_sessions\n",
    "from gait.training import train_cnn_model_simple, build_cnn_stats_small_simple\n",
    "from gait.evalution import save_history, save_test_history, save_accuracy_loss_figure, save_confusion_matrix_figure, compute_validations_predictions,compute_validations_predictions_with_stats,compute_validations_predictions_cnn_multihead_with_stats"
   ]
  },
  {
   "cell_type": "code",
   "execution_count": 5,
   "metadata": {},
   "outputs": [],
   "source": [
    "def compute_resultant_acceleration(X):\n",
    "    return np.sqrt(X[:,:,0] **2 + X[:,:,1] ** 2 + X[:,:,2] ** 2)\n",
    "\n",
    "def compute_resultant_gyro(X):\n",
    "    return np.sqrt(X[:,:,3] **2 + X[:,:,4] ** 2 + X[:,:,5] ** 2)\n",
    "\n",
    "def compute_resultant_angle(X):\n",
    "    return np.sqrt(X[:,:,6] **2 + X[:,:,7] ** 2 + X[:,:,8] ** 2)\n",
    "\n",
    "def get_std_values(X, channel):\n",
    "    return np.std(X[:, :, channel], axis=1)\n",
    "\n",
    "def get_mean_values(X, channel):\n",
    "    return np.mean(X[:, :, channel], axis=1)\n",
    "\n",
    "def get_max_values(X, channel):\n",
    "    return np.max(X[:, :, channel], axis=1)\n",
    "\n",
    "def get_median_values(X, channel):\n",
    "    return np.median(X[:, :, channel], axis=1)\n",
    "\n",
    "\n",
    "def get_statistic_feature_all_channels(X):\n",
    "    statistic_features = []\n",
    "    for channel in range(9,12):\n",
    "        statistic_features.append(get_std_values(X, channel))\n",
    "        statistic_features.append(get_mean_values(X, channel))\n",
    "        statistic_features.append(get_max_values(X, channel))\n",
    "        statistic_features.append(get_median_values(X, channel))\n",
    "\n",
    "    return np.vstack(statistic_features).T"
   ]
  },
  {
   "cell_type": "code",
   "execution_count": 7,
   "metadata": {},
   "outputs": [
    {
     "name": "stdout",
     "output_type": "stream",
     "text": [
      "INFO:tensorflow:Using MirroredStrategy with devices ('/job:localhost/replica:0/task:0/device:GPU:0',)\n",
      "Model: \"sequential_3\"\n",
      "_________________________________________________________________\n",
      " Layer (type)                Output Shape              Param #   \n",
      "=================================================================\n",
      " conv2d_6 (Conv2D)           (None, 128, 12, 64)       3136      \n",
      "                                                                 \n",
      " batch_normalization_6 (Batc  (None, 128, 12, 64)      256       \n",
      " hNormalization)                                                 \n",
      "                                                                 \n",
      " activation_6 (Activation)   (None, 128, 12, 64)       0         \n",
      "                                                                 \n",
      " dropout_9 (Dropout)         (None, 128, 12, 64)       0         \n",
      "                                                                 \n",
      " average_pooling2d_6 (Averag  (None, 42, 4, 64)        0         \n",
      " ePooling2D)                                                     \n",
      "                                                                 \n",
      " conv2d_7 (Conv2D)           (None, 42, 4, 16)         12304     \n",
      "                                                                 \n",
      " batch_normalization_7 (Batc  (None, 42, 4, 16)        64        \n",
      " hNormalization)                                                 \n",
      "                                                                 \n",
      " activation_7 (Activation)   (None, 42, 4, 16)         0         \n",
      "                                                                 \n",
      " average_pooling2d_7 (Averag  (None, 14, 4, 16)        0         \n",
      " ePooling2D)                                                     \n",
      "                                                                 \n",
      " dropout_10 (Dropout)        (None, 14, 4, 16)         0         \n",
      "                                                                 \n",
      " flatten_3 (Flatten)         (None, 896)               0         \n",
      "                                                                 \n",
      " dense_6 (Dense)             (None, 8)                 7176      \n",
      "                                                                 \n",
      " dropout_11 (Dropout)        (None, 8)                 0         \n",
      "                                                                 \n",
      " dense_7 (Dense)             (None, 6)                 54        \n",
      "                                                                 \n",
      "=================================================================\n",
      "Total params: 22,990\n",
      "Trainable params: 22,830\n",
      "Non-trainable params: 160\n",
      "_________________________________________________________________\n",
      "None\n",
      "Model size: 89.1796875 KB\n",
      "Model Size: None\n",
      "Model saved at filepath : /home/sanjeev/thesis/code/gait-deeplearning/notebooks/../src/../models/model_90_overlap/best_model.{epoch:02d}-{val_loss:.2f}-{val_accuracy:.2f}.hdf5\n",
      "Epoch 1/100\n",
      "714/714 [==============================] - 27s 35ms/step - loss: 1.6300 - accuracy: 0.3600 - val_loss: 1.3758 - val_accuracy: 0.4635\n",
      "Epoch 2/100\n",
      "714/714 [==============================] - 24s 34ms/step - loss: 1.2587 - accuracy: 0.5081 - val_loss: 1.0660 - val_accuracy: 0.5948\n",
      "Epoch 3/100\n",
      "714/714 [==============================] - 24s 34ms/step - loss: 1.0718 - accuracy: 0.5858 - val_loss: 0.9157 - val_accuracy: 0.6538\n",
      "Epoch 4/100\n",
      "714/714 [==============================] - 26s 36ms/step - loss: 0.9801 - accuracy: 0.6237 - val_loss: 0.8578 - val_accuracy: 0.6634\n",
      "Epoch 5/100\n",
      "714/714 [==============================] - 25s 35ms/step - loss: 0.9231 - accuracy: 0.6413 - val_loss: 0.8198 - val_accuracy: 0.6734\n",
      "Epoch 6/100\n",
      "714/714 [==============================] - 25s 34ms/step - loss: 0.8752 - accuracy: 0.6551 - val_loss: 0.7741 - val_accuracy: 0.7010\n",
      "Epoch 7/100\n",
      "714/714 [==============================] - 26s 36ms/step - loss: 0.8387 - accuracy: 0.6690 - val_loss: 0.7477 - val_accuracy: 0.7142\n",
      "Epoch 8/100\n",
      "714/714 [==============================] - 27s 38ms/step - loss: 0.8001 - accuracy: 0.6834 - val_loss: 0.7332 - val_accuracy: 0.7151\n",
      "Epoch 9/100\n",
      "714/714 [==============================] - 28s 39ms/step - loss: 0.7676 - accuracy: 0.7010 - val_loss: 0.7106 - val_accuracy: 0.7297\n",
      "Epoch 10/100\n",
      "714/714 [==============================] - 26s 36ms/step - loss: 0.7377 - accuracy: 0.7116 - val_loss: 0.6920 - val_accuracy: 0.7339\n",
      "Epoch 11/100\n",
      "714/714 [==============================] - 28s 39ms/step - loss: 0.7180 - accuracy: 0.7183 - val_loss: 0.6808 - val_accuracy: 0.7409\n",
      "Epoch 12/100\n",
      "714/714 [==============================] - 31s 44ms/step - loss: 0.6944 - accuracy: 0.7256 - val_loss: 0.6691 - val_accuracy: 0.7443\n",
      "Epoch 13/100\n",
      "714/714 [==============================] - 30s 43ms/step - loss: 0.6777 - accuracy: 0.7331 - val_loss: 0.6529 - val_accuracy: 0.7535\n",
      "Epoch 14/100\n",
      "714/714 [==============================] - 28s 39ms/step - loss: 0.6563 - accuracy: 0.7416 - val_loss: 0.6542 - val_accuracy: 0.7586\n",
      "Epoch 15/100\n",
      "714/714 [==============================] - 27s 38ms/step - loss: 0.6453 - accuracy: 0.7474 - val_loss: 0.6590 - val_accuracy: 0.7569\n",
      "Epoch 16/100\n",
      "714/714 [==============================] - 28s 40ms/step - loss: 0.6285 - accuracy: 0.7546 - val_loss: 0.6466 - val_accuracy: 0.7630\n",
      "Epoch 17/100\n",
      "714/714 [==============================] - 25s 35ms/step - loss: 0.6147 - accuracy: 0.7599 - val_loss: 0.6468 - val_accuracy: 0.7659\n",
      "Epoch 18/100\n",
      "714/714 [==============================] - 26s 36ms/step - loss: 0.6022 - accuracy: 0.7672 - val_loss: 0.6438 - val_accuracy: 0.7627\n",
      "Epoch 19/100\n",
      "714/714 [==============================] - 28s 39ms/step - loss: 0.5881 - accuracy: 0.7711 - val_loss: 0.6366 - val_accuracy: 0.7691\n",
      "Epoch 20/100\n",
      "714/714 [==============================] - 27s 37ms/step - loss: 0.5783 - accuracy: 0.7754 - val_loss: 0.6349 - val_accuracy: 0.7700\n",
      "Epoch 21/100\n",
      "714/714 [==============================] - 25s 35ms/step - loss: 0.5686 - accuracy: 0.7804 - val_loss: 0.6419 - val_accuracy: 0.7664\n",
      "Epoch 22/100\n",
      "714/714 [==============================] - 25s 35ms/step - loss: 0.5574 - accuracy: 0.7838 - val_loss: 0.6351 - val_accuracy: 0.7686\n",
      "Epoch 23/100\n",
      "714/714 [==============================] - 25s 35ms/step - loss: 0.5483 - accuracy: 0.7902 - val_loss: 0.6335 - val_accuracy: 0.7703\n",
      "Epoch 24/100\n",
      "714/714 [==============================] - 26s 36ms/step - loss: 0.5405 - accuracy: 0.7920 - val_loss: 0.6354 - val_accuracy: 0.7714\n",
      "Epoch 25/100\n",
      "714/714 [==============================] - 29s 41ms/step - loss: 0.5326 - accuracy: 0.7996 - val_loss: 0.6447 - val_accuracy: 0.7674\n",
      "Epoch 26/100\n",
      "714/714 [==============================] - 28s 39ms/step - loss: 0.5242 - accuracy: 0.8032 - val_loss: 0.6530 - val_accuracy: 0.7606\n",
      "Epoch 27/100\n",
      "714/714 [==============================] - 25s 34ms/step - loss: 0.5143 - accuracy: 0.8084 - val_loss: 0.6476 - val_accuracy: 0.7644\n",
      "Epoch 28/100\n",
      "714/714 [==============================] - 24s 34ms/step - loss: 0.5116 - accuracy: 0.8113 - val_loss: 0.6417 - val_accuracy: 0.7690\n",
      "Epoch 29/100\n",
      "714/714 [==============================] - 29s 40ms/step - loss: 0.5031 - accuracy: 0.8156 - val_loss: 0.6314 - val_accuracy: 0.7714\n",
      "Epoch 30/100\n",
      "714/714 [==============================] - 25s 36ms/step - loss: 0.4944 - accuracy: 0.8183 - val_loss: 0.6402 - val_accuracy: 0.7739\n",
      "Epoch 31/100\n",
      "714/714 [==============================] - 24s 34ms/step - loss: 0.4886 - accuracy: 0.8195 - val_loss: 0.6289 - val_accuracy: 0.7767\n",
      "Epoch 32/100\n",
      "714/714 [==============================] - 27s 37ms/step - loss: 0.4839 - accuracy: 0.8244 - val_loss: 0.6423 - val_accuracy: 0.7745\n",
      "Epoch 33/100\n",
      "714/714 [==============================] - 24s 34ms/step - loss: 0.4785 - accuracy: 0.8261 - val_loss: 0.6524 - val_accuracy: 0.7725\n",
      "Epoch 34/100\n",
      "714/714 [==============================] - 24s 34ms/step - loss: 0.4737 - accuracy: 0.8294 - val_loss: 0.6286 - val_accuracy: 0.7790\n",
      "Epoch 35/100\n",
      "714/714 [==============================] - 29s 41ms/step - loss: 0.4682 - accuracy: 0.8310 - val_loss: 0.6258 - val_accuracy: 0.7811\n",
      "Epoch 36/100\n",
      "714/714 [==============================] - 26s 37ms/step - loss: 0.4638 - accuracy: 0.8329 - val_loss: 0.6332 - val_accuracy: 0.7769\n",
      "Epoch 37/100\n",
      "714/714 [==============================] - 30s 41ms/step - loss: 0.4589 - accuracy: 0.8354 - val_loss: 0.6370 - val_accuracy: 0.7744\n",
      "Epoch 38/100\n",
      "714/714 [==============================] - 34s 48ms/step - loss: 0.4547 - accuracy: 0.8362 - val_loss: 0.6345 - val_accuracy: 0.7809\n",
      "Epoch 39/100\n",
      "714/714 [==============================] - 27s 38ms/step - loss: 0.4498 - accuracy: 0.8378 - val_loss: 0.6577 - val_accuracy: 0.7717\n",
      "Epoch 40/100\n",
      "714/714 [==============================] - 29s 40ms/step - loss: 0.4457 - accuracy: 0.8397 - val_loss: 0.6505 - val_accuracy: 0.7783\n",
      "Epoch 41/100\n",
      "714/714 [==============================] - 30s 42ms/step - loss: 0.4421 - accuracy: 0.8420 - val_loss: 0.6502 - val_accuracy: 0.7744\n",
      "Epoch 42/100\n",
      "714/714 [==============================] - 28s 40ms/step - loss: 0.4371 - accuracy: 0.8446 - val_loss: 0.6286 - val_accuracy: 0.7815\n",
      "Epoch 43/100\n",
      "714/714 [==============================] - 29s 41ms/step - loss: 0.4355 - accuracy: 0.8454 - val_loss: 0.6539 - val_accuracy: 0.7769\n",
      "Epoch 44/100\n",
      "714/714 [==============================] - 30s 41ms/step - loss: 0.4313 - accuracy: 0.8465 - val_loss: 0.6344 - val_accuracy: 0.7839\n",
      "Epoch 45/100\n",
      "714/714 [==============================] - 30s 41ms/step - loss: 0.4276 - accuracy: 0.8490 - val_loss: 0.6429 - val_accuracy: 0.7788\n",
      "Epoch 46/100\n",
      "714/714 [==============================] - 30s 43ms/step - loss: 0.4249 - accuracy: 0.8496 - val_loss: 0.6543 - val_accuracy: 0.7755\n",
      "Epoch 47/100\n",
      "714/714 [==============================] - 26s 36ms/step - loss: 0.4208 - accuracy: 0.8512 - val_loss: 0.6626 - val_accuracy: 0.7769\n",
      "Epoch 48/100\n",
      "714/714 [==============================] - 28s 39ms/step - loss: 0.4179 - accuracy: 0.8521 - val_loss: 0.6383 - val_accuracy: 0.7849\n",
      "Epoch 49/100\n",
      "714/714 [==============================] - 28s 40ms/step - loss: 0.4124 - accuracy: 0.8542 - val_loss: 0.6469 - val_accuracy: 0.7802\n",
      "Epoch 50/100\n",
      "714/714 [==============================] - 27s 38ms/step - loss: 0.4120 - accuracy: 0.8551 - val_loss: 0.6529 - val_accuracy: 0.7779\n",
      "Epoch 51/100\n",
      "714/714 [==============================] - 28s 39ms/step - loss: 0.4123 - accuracy: 0.8549 - val_loss: 0.6447 - val_accuracy: 0.7771\n",
      "Epoch 52/100\n",
      "714/714 [==============================] - 26s 37ms/step - loss: 0.4078 - accuracy: 0.8562 - val_loss: 0.6531 - val_accuracy: 0.7818\n",
      "Epoch 53/100\n",
      "714/714 [==============================] - 30s 43ms/step - loss: 0.4051 - accuracy: 0.8566 - val_loss: 0.6524 - val_accuracy: 0.7825\n",
      "Epoch 54/100\n",
      "714/714 [==============================] - 26s 36ms/step - loss: 0.4013 - accuracy: 0.8589 - val_loss: 0.6604 - val_accuracy: 0.7776\n",
      "Epoch 55/100\n",
      "714/714 [==============================] - 30s 43ms/step - loss: 0.3990 - accuracy: 0.8595 - val_loss: 0.6449 - val_accuracy: 0.7854\n",
      "Epoch 56/100\n",
      "714/714 [==============================] - 31s 43ms/step - loss: 0.3957 - accuracy: 0.8603 - val_loss: 0.6696 - val_accuracy: 0.7766\n",
      "Epoch 57/100\n",
      "714/714 [==============================] - 32s 44ms/step - loss: 0.3939 - accuracy: 0.8622 - val_loss: 0.6683 - val_accuracy: 0.7776\n",
      "Epoch 58/100\n",
      "714/714 [==============================] - 34s 47ms/step - loss: 0.3900 - accuracy: 0.8625 - val_loss: 0.6632 - val_accuracy: 0.7803\n",
      "Epoch 59/100\n",
      "714/714 [==============================] - 33s 47ms/step - loss: 0.3904 - accuracy: 0.8633 - val_loss: 0.6548 - val_accuracy: 0.7838\n",
      "Epoch 60/100\n",
      "714/714 [==============================] - 33s 46ms/step - loss: 0.3851 - accuracy: 0.8658 - val_loss: 0.6675 - val_accuracy: 0.7809\n",
      "Epoch 61/100\n",
      "714/714 [==============================] - 36s 51ms/step - loss: 0.3854 - accuracy: 0.8650 - val_loss: 0.6645 - val_accuracy: 0.7807\n",
      "Epoch 62/100\n",
      "714/714 [==============================] - 31s 43ms/step - loss: 0.3827 - accuracy: 0.8663 - val_loss: 0.6789 - val_accuracy: 0.7764\n",
      "Epoch 63/100\n",
      "714/714 [==============================] - 26s 36ms/step - loss: 0.3805 - accuracy: 0.8663 - val_loss: 0.6630 - val_accuracy: 0.7841\n",
      "Epoch 64/100\n",
      "714/714 [==============================] - 30s 42ms/step - loss: 0.3757 - accuracy: 0.8682 - val_loss: 0.6764 - val_accuracy: 0.7785\n",
      "Epoch 65/100\n",
      "714/714 [==============================] - 29s 41ms/step - loss: 0.3763 - accuracy: 0.8679 - val_loss: 0.6944 - val_accuracy: 0.7742\n",
      "Epoch 66/100\n",
      "714/714 [==============================] - 27s 37ms/step - loss: 0.3761 - accuracy: 0.8675 - val_loss: 0.6589 - val_accuracy: 0.7857\n",
      "Epoch 67/100\n",
      "714/714 [==============================] - 25s 35ms/step - loss: 0.3741 - accuracy: 0.8699 - val_loss: 0.6761 - val_accuracy: 0.7830\n",
      "Epoch 68/100\n",
      "714/714 [==============================] - 25s 35ms/step - loss: 0.3711 - accuracy: 0.8697 - val_loss: 0.6735 - val_accuracy: 0.7822\n",
      "Epoch 69/100\n",
      "714/714 [==============================] - 25s 35ms/step - loss: 0.3675 - accuracy: 0.8726 - val_loss: 0.6855 - val_accuracy: 0.7772\n",
      "Epoch 70/100\n",
      "714/714 [==============================] - 25s 35ms/step - loss: 0.3683 - accuracy: 0.8700 - val_loss: 0.6707 - val_accuracy: 0.7809\n",
      "Epoch 71/100\n",
      "714/714 [==============================] - 26s 36ms/step - loss: 0.3650 - accuracy: 0.8734 - val_loss: 0.6743 - val_accuracy: 0.7833\n",
      "Epoch 72/100\n",
      "714/714 [==============================] - 26s 36ms/step - loss: 0.3628 - accuracy: 0.8720 - val_loss: 0.6798 - val_accuracy: 0.7824\n",
      "Epoch 73/100\n",
      "714/714 [==============================] - 27s 39ms/step - loss: 0.3618 - accuracy: 0.8736 - val_loss: 0.6768 - val_accuracy: 0.7815\n",
      "Epoch 74/100\n",
      "714/714 [==============================] - 29s 41ms/step - loss: 0.3597 - accuracy: 0.8746 - val_loss: 0.6831 - val_accuracy: 0.7809\n",
      "Epoch 75/100\n",
      "714/714 [==============================] - 29s 41ms/step - loss: 0.3597 - accuracy: 0.8753 - val_loss: 0.6965 - val_accuracy: 0.7795\n",
      "Epoch 76/100\n",
      "714/714 [==============================] - 30s 42ms/step - loss: 0.3550 - accuracy: 0.8764 - val_loss: 0.6957 - val_accuracy: 0.7806\n",
      "Epoch 77/100\n",
      "714/714 [==============================] - 29s 41ms/step - loss: 0.3546 - accuracy: 0.8765 - val_loss: 0.6937 - val_accuracy: 0.7786\n",
      "Epoch 78/100\n",
      "714/714 [==============================] - 29s 41ms/step - loss: 0.3538 - accuracy: 0.8760 - val_loss: 0.7175 - val_accuracy: 0.7744\n",
      "Epoch 79/100\n",
      "714/714 [==============================] - 26s 37ms/step - loss: 0.3530 - accuracy: 0.8774 - val_loss: 0.6959 - val_accuracy: 0.7802\n",
      "Epoch 80/100\n",
      "714/714 [==============================] - 26s 37ms/step - loss: 0.3517 - accuracy: 0.8786 - val_loss: 0.6808 - val_accuracy: 0.7826\n",
      "Epoch 81/100\n",
      "714/714 [==============================] - 27s 38ms/step - loss: 0.3501 - accuracy: 0.8779 - val_loss: 0.6858 - val_accuracy: 0.7787\n",
      "Epoch 82/100\n",
      "714/714 [==============================] - 26s 37ms/step - loss: 0.3470 - accuracy: 0.8785 - val_loss: 0.7041 - val_accuracy: 0.7794\n",
      "Epoch 83/100\n",
      "714/714 [==============================] - 25s 35ms/step - loss: 0.3455 - accuracy: 0.8795 - val_loss: 0.7093 - val_accuracy: 0.7700\n",
      "Epoch 84/100\n",
      "714/714 [==============================] - 25s 35ms/step - loss: 0.3468 - accuracy: 0.8795 - val_loss: 0.7026 - val_accuracy: 0.7790\n",
      "Epoch 85/100\n",
      "714/714 [==============================] - 26s 37ms/step - loss: 0.3444 - accuracy: 0.8797 - val_loss: 0.6881 - val_accuracy: 0.7786\n",
      "Epoch 86/100\n",
      "714/714 [==============================] - 26s 37ms/step - loss: 0.3426 - accuracy: 0.8797 - val_loss: 0.7084 - val_accuracy: 0.7790\n",
      "Epoch 87/100\n",
      "714/714 [==============================] - 30s 42ms/step - loss: 0.3420 - accuracy: 0.8814 - val_loss: 0.6874 - val_accuracy: 0.7820\n",
      "Epoch 88/100\n",
      "714/714 [==============================] - 30s 41ms/step - loss: 0.3390 - accuracy: 0.8824 - val_loss: 0.6933 - val_accuracy: 0.7788\n",
      "Epoch 89/100\n",
      "714/714 [==============================] - 29s 41ms/step - loss: 0.3408 - accuracy: 0.8825 - val_loss: 0.7169 - val_accuracy: 0.7794\n",
      "Epoch 90/100\n",
      "714/714 [==============================] - 31s 44ms/step - loss: 0.3374 - accuracy: 0.8826 - val_loss: 0.7062 - val_accuracy: 0.7800\n",
      "Epoch 91/100\n",
      "714/714 [==============================] - 25s 35ms/step - loss: 0.3383 - accuracy: 0.8868 - val_loss: 0.7414 - val_accuracy: 0.7717\n",
      "Epoch 92/100\n",
      "714/714 [==============================] - 25s 35ms/step - loss: 0.3335 - accuracy: 0.8889 - val_loss: 0.7036 - val_accuracy: 0.7798\n",
      "Epoch 93/100\n",
      "714/714 [==============================] - 29s 40ms/step - loss: 0.3329 - accuracy: 0.8884 - val_loss: 0.7216 - val_accuracy: 0.7713\n",
      "Epoch 94/100\n",
      "714/714 [==============================] - 26s 36ms/step - loss: 0.3309 - accuracy: 0.8892 - val_loss: 0.7103 - val_accuracy: 0.7799\n",
      "Epoch 95/100\n",
      "714/714 [==============================] - 25s 35ms/step - loss: 0.3322 - accuracy: 0.8891 - val_loss: 0.7332 - val_accuracy: 0.7723\n",
      "Epoch 96/100\n",
      "714/714 [==============================] - 26s 36ms/step - loss: 0.3306 - accuracy: 0.8896 - val_loss: 0.7136 - val_accuracy: 0.7742\n",
      "Epoch 97/100\n",
      "714/714 [==============================] - 27s 38ms/step - loss: 0.3306 - accuracy: 0.8899 - val_loss: 0.7060 - val_accuracy: 0.7791\n",
      "Epoch 98/100\n",
      "714/714 [==============================] - 27s 38ms/step - loss: 0.3268 - accuracy: 0.8912 - val_loss: 0.7082 - val_accuracy: 0.7777\n",
      "Epoch 99/100\n",
      "714/714 [==============================] - 30s 41ms/step - loss: 0.3284 - accuracy: 0.8903 - val_loss: 0.7067 - val_accuracy: 0.7773\n",
      "Epoch 100/100\n",
      "714/714 [==============================] - 30s 42ms/step - loss: 0.3238 - accuracy: 0.8920 - val_loss: 0.7257 - val_accuracy: 0.7765\n",
      "Saved training details to /home/sanjeev/thesis/code/gait-deeplearning/notebooks/../src/../logs/log_90_overlap/history.csv\n",
      "264/264 [==============================] - 6s 15ms/step - loss: 0.4221 - accuracy: 0.8523\n",
      "Saved validation details to /home/sanjeev/thesis/code/gait-deeplearning/notebooks/../src/../logs/log_90_overlap/evaluation.csv\n"
     ]
    },
    {
     "data": {
      "image/png": "[encoded data removed]",
      "text/plain": [
       "<Figure size 432x288 with 1 Axes>"
      ]
     },
     "metadata": {
      "needs_background": "light"
     },
     "output_type": "display_data"
    },
    {
     "data": {
      "image/png": "[encoded data removed]",
      "text/plain": [
       "<Figure size 432x288 with 2 Axes>"
      ]
     },
     "metadata": {
      "needs_background": "light"
     },
     "output_type": "display_data"
    }
   ],
   "source": [
    "overlapPercents = [90]\n",
    "# overlapPercents = [0]\n",
    "# exclude_subjects = ['ddAeJA42PXvwthbW', 'nan', 'LLZjAPTyj7muHsEf',\n",
    "#                     'MMuX9YIh4NTbLZLM', 'cbOZWnI7s1y8oLD4', 'PE8D53oX060qLbdX', 'xYdtS1F8tDyjEIgN', 'sUZBISq61Y7I5tqQ']\n",
    "exclude_subjects = ['ddAeJA42PXvwthbW', 'nan',\n",
    "                    'MMuX9YIh4NTbLZLM',\n",
    "                    'NKdnm6cN3KKAx7R4',\n",
    "                    'PE8D53oX060qLbdX',\n",
    "                    'xYdtS1F8tDyjEIgN',\n",
    "                    'EUbKPOSQgjccjtvi',\n",
    "                    'PE8D53oX060qLbdX',\n",
    "                    'ddAeJA42PXvwthbW',\n",
    "                    'LLZjAPTyj7muHsEf',\n",
    "                    'cbOZWnI7s1y8oLD4',\n",
    "                    'ddAeJA42PXvwthbW',\n",
    "                    '1ZstYhEKzKKfGnMW',\n",
    "                    'LLZjAPTyj7muHsEf',\n",
    "                    'bQsRwKxgJiXTzo6P',\n",
    "                    'sUZBISq61Y7I5tqQ',\n",
    "                    '19AoxD1bgrDckd2p',\n",
    "                    'wtyNo4LYaWXrkzA7',\n",
    "                    ]\n",
    "\n",
    "for OVERLAP_PERCENT in overlapPercents:\n",
    "    gpus = tf.config.list_logical_devices('GPU')\n",
    "    strategy = tf.distribute.MirroredStrategy(gpus)\n",
    "    with strategy.scope():\n",
    "        X, y, subjects = get_overlap_data_all_sessions(OVERLAP_PERCENT)\n",
    "        # REMOVE UNWANTED SUBJECTS\n",
    "        indexes = np.where(subjects == exclude_subjects)\n",
    "        X = np.delete(X, indexes[0], axis=0)\n",
    "        y = np.delete(y, indexes[0], axis=0)\n",
    "        subjects = np.delete(subjects, indexes[0], axis=0)\n",
    "        # END REMOVE UNWANTED SUBJECTS\n",
    "\n",
    "        # AUGMENT DATA\n",
    "        resultant_acc = compute_resultant_acceleration(X)\n",
    "        resultant_gyro = compute_resultant_gyro(X)\n",
    "        resultant_angle = compute_resultant_angle(X)\n",
    "        resultant_acc = resultant_acc.reshape(\n",
    "            resultant_acc.shape[0], resultant_acc.shape[1], 1)\n",
    "        resultant_gyro = resultant_gyro.reshape(\n",
    "            resultant_gyro.shape[0], resultant_gyro.shape[1], 1)\n",
    "        resultant_angle = resultant_angle.reshape(\n",
    "            resultant_angle.shape[0], resultant_angle.shape[1], 1)\n",
    "        X = np.concatenate((X, resultant_acc), axis=2)\n",
    "        X = np.concatenate((X, resultant_gyro), axis=2)\n",
    "        X = np.concatenate((X, resultant_angle), axis=2)\n",
    "        # AUGMENT DATA END\n",
    "\n",
    "        # print('UNIQUE subjects:', np.unique(subjects))\n",
    "        X_train, X_test, y_train, y_test, y_train_non_encoded, y_test_non_encoded = split_test_train_by_subjects(\n",
    "            X, y, subjects, train_percent=0.8)\n",
    "        # X_train_stats = get_statistic_feature_all_channels(X_train)\n",
    "        # X_test_stats = get_statistic_feature_all_channels(X_test)\n",
    "        # print('Statistic feature shape: ', X_train_stats.shape)\n",
    "        model, history = train_cnn_model_simple(\n",
    "            X_train, y_train, X_test, overlap_percent=OVERLAP_PERCENT, batch_size=128, epochs=100)\n",
    "\n",
    "        save_history(history, OVERLAP_PERCENT)\n",
    "        evaluation_history = model.evaluate(\n",
    "            X_test, y_test, batch_size=128, verbose=1)\n",
    "        save_test_history(evaluation_history, OVERLAP_PERCENT)\n",
    "        save_accuracy_loss_figure(history, OVERLAP_PERCENT)\n",
    "        validations, predictions = compute_validations_predictions(\n",
    "            model, X_test, y_test)\n",
    "        save_confusion_matrix_figure(\n",
    "            validations, predictions, OVERLAP_PERCENT, sns)\n"
   ]
  },
  {
   "cell_type": "code",
   "execution_count": 8,
   "metadata": {},
   "outputs": [
    {
     "name": "stdout",
     "output_type": "stream",
     "text": [
      "INFO:tensorflow:Assets written to: final_simple_cnn/assets\n"
     ]
    }
   ],
   "source": [
    "model.save('final_simple_cnn')"
   ]
  },
  {
   "cell_type": "code",
   "execution_count": null,
   "metadata": {},
   "outputs": [],
   "source": [
    "evaluation_history = model.evaluate(\n",
    "            [X_test, X_test_stats], y_test, batch_size=128, verbose=1)\n",
    "save_test_history(evaluation_history, OVERLAP_PERCENT)\n",
    "save_accuracy_loss_figure(history, OVERLAP_PERCENT)\n",
    "validations, predictions = compute_validations_predictions_with_stats(\n",
    "    model, X_test, y_test, X_test_stats)\n",
    "save_confusion_matrix_figure(\n",
    "    validations, predictions, OVERLAP_PERCENT, sns)"
   ]
  },
  {
   "cell_type": "code",
   "execution_count": null,
   "metadata": {},
   "outputs": [],
   "source": [
    "import tensorflow_model_optimization as tfmot\n"
   ]
  },
  {
   "cell_type": "code",
   "execution_count": 10,
   "metadata": {},
   "outputs": [
    {
     "name": "stdout",
     "output_type": "stream",
     "text": [
      "Model: \"sequential_3\"\n",
      "_________________________________________________________________\n",
      " Layer (type)                Output Shape              Param #   \n",
      "=================================================================\n",
      " conv2d_6 (Conv2D)           (None, 128, 12, 64)       3136      \n",
      "                                                                 \n",
      " batch_normalization_6 (Batc  (None, 128, 12, 64)      256       \n",
      " hNormalization)                                                 \n",
      "                                                                 \n",
      " activation_6 (Activation)   (None, 128, 12, 64)       0         \n",
      "                                                                 \n",
      " dropout_9 (Dropout)         (None, 128, 12, 64)       0         \n",
      "                                                                 \n",
      " average_pooling2d_6 (Averag  (None, 42, 4, 64)        0         \n",
      " ePooling2D)                                                     \n",
      "                                                                 \n",
      " conv2d_7 (Conv2D)           (None, 42, 4, 16)         12304     \n",
      "                                                                 \n",
      " batch_normalization_7 (Batc  (None, 42, 4, 16)        64        \n",
      " hNormalization)                                                 \n",
      "                                                                 \n",
      " activation_7 (Activation)   (None, 42, 4, 16)         0         \n",
      "                                                                 \n",
      " average_pooling2d_7 (Averag  (None, 14, 4, 16)        0         \n",
      " ePooling2D)                                                     \n",
      "                                                                 \n",
      " dropout_10 (Dropout)        (None, 14, 4, 16)         0         \n",
      "                                                                 \n",
      " flatten_3 (Flatten)         (None, 896)               0         \n",
      "                                                                 \n",
      " dense_6 (Dense)             (None, 8)                 7176      \n",
      "                                                                 \n",
      " dropout_11 (Dropout)        (None, 8)                 0         \n",
      "                                                                 \n",
      " dense_7 (Dense)             (None, 6)                 54        \n",
      "                                                                 \n",
      "=================================================================\n",
      "Total params: 22,990\n",
      "Trainable params: 22,830\n",
      "Non-trainable params: 160\n",
      "_________________________________________________________________\n",
      "INFO:tensorflow:Assets written to: /tmp/tmpm4o29ymw/assets\n"
     ]
    },
    {
     "name": "stderr",
     "output_type": "stream",
     "text": [
      "INFO:tensorflow:Assets written to: /tmp/tmpm4o29ymw/assets\n",
      "WARNING:absl:Buffer deduplication procedure will be skipped when flatbuffer library is not properly loaded\n"
     ]
    },
    {
     "data": {
      "text/plain": [
       "50224"
      ]
     },
     "execution_count": 10,
     "metadata": {},
     "output_type": "execute_result"
    }
   ],
   "source": [
    "keras_model = model\n",
    "model.summary()\n",
    "\n",
    "converter = tf.lite.TFLiteConverter.from_keras_model(model)\n",
    "converter.optimizations = [tf.lite.Optimize.DEFAULT]\n",
    "converter.target_spec.supported_types = [tf.float16]\n",
    "converter.optimizations = [tf.lite.Optimize.DEFAULT]\n",
    "tflite_quant_model = converter.convert()\n",
    "open('float-quantized-model.tflite', 'wb').write(tflite_quant_model)"
   ]
  },
  {
   "cell_type": "code",
   "execution_count": 11,
   "metadata": {},
   "outputs": [],
   "source": [
    "interpreter = tf.lite.Interpreter(model_path=str('float-quantized-model.tflite'))\n",
    "interpreter.allocate_tensors()\n"
   ]
  },
  {
   "cell_type": "code",
   "execution_count": 12,
   "metadata": {},
   "outputs": [
    {
     "name": "stdout",
     "output_type": "stream",
     "text": [
      "(114095, 128, 12, 1)\n",
      "[{'name': 'serving_default_conv2d_6_input:0', 'index': 0, 'shape': array([  1, 128,  12,   1], dtype=int32), 'shape_signature': array([ -1, 128,  12,   1], dtype=int32), 'dtype': <class 'numpy.float32'>, 'quantization': (0.0, 0), 'quantization_parameters': {'scales': array([], dtype=float32), 'zero_points': array([], dtype=int32), 'quantized_dimension': 0}, 'sparsity_parameters': {}}]\n",
      "\n",
      " [{'name': 'StatefulPartitionedCall:0', 'index': 17, 'shape': array([1, 6], dtype=int32), 'shape_signature': array([-1,  6], dtype=int32), 'dtype': <class 'numpy.float32'>, 'quantization': (0.0, 0), 'quantization_parameters': {'scales': array([], dtype=float32), 'zero_points': array([], dtype=int32), 'quantized_dimension': 0}, 'sparsity_parameters': {}}] \n",
      "\n"
     ]
    }
   ],
   "source": [
    "X_train_reshape = X_train.reshape(-1, X_train.shape[1], X_train.shape[2], 1).astype(np.float32)\n",
    "print(X_train_reshape.shape)\n",
    "X_tensor = np.array([X_train_reshape[9000]]).astype(np.float32)\n",
    "print(interpreter.get_input_details())\n",
    "\n",
    "input_details = interpreter.get_input_details()\n",
    "print('\\n',interpreter.get_output_details(), '\\n')\n",
    "output_index = interpreter.get_output_details()[0][\"index\"]\n",
    "\n",
    "interpreter.set_tensor(input_details[0]['index'], X_tensor)\n",
    "\n",
    "interpreter.invoke()\n",
    "predictions = interpreter.get_tensor(output_index)\n"
   ]
  },
  {
   "cell_type": "code",
   "execution_count": 13,
   "metadata": {},
   "outputs": [
    {
     "name": "stdout",
     "output_type": "stream",
     "text": [
      "3\n",
      "[0. 0. 0. 1. 0. 0.]\n"
     ]
    }
   ],
   "source": [
    "print(np.argmax(predictions[0]))\n",
    "print(y_train[9000])"
   ]
  },
  {
   "cell_type": "code",
   "execution_count": 14,
   "metadata": {},
   "outputs": [
    {
     "name": "stdout",
     "output_type": "stream",
     "text": [
      "INFO:tensorflow:Assets written to: /tmp/tmpbnqza1fx/assets\n"
     ]
    },
    {
     "name": "stderr",
     "output_type": "stream",
     "text": [
      "INFO:tensorflow:Assets written to: /tmp/tmpbnqza1fx/assets\n",
      "/home/sanjeev/.local/lib/python3.9/site-packages/tensorflow/lite/python/convert.py:746: UserWarning: Statistics for quantized inputs were expected, but not specified; continuing anyway.\n",
      "  warnings.warn(\"Statistics for quantized inputs were expected, but not \"\n",
      "WARNING:absl:Buffer deduplication procedure will be skipped when flatbuffer library is not properly loaded\n"
     ]
    },
    {
     "data": {
      "text/plain": [
       "50224"
      ]
     },
     "execution_count": 14,
     "metadata": {},
     "output_type": "execute_result"
    }
   ],
   "source": [
    "def representative_data_gen():\n",
    "    for input_value in tf.data.Dataset.from_tensor_slices(X_train_reshape).batch(1).take(100):\n",
    "        yield [input_value]\n",
    "\n",
    "converter = tf.lite.TFLiteConverter.from_keras_model(model)\n",
    "converter.optimizations = [tf.lite.Optimize.DEFAULT]\n",
    "converter.representative_dataset = representative_data_gen\n",
    "# Ensure that if any ops can't be quantized, the converter throws an error\n",
    "converter.target_spec.supported_ops = [tf.lite.OpsSet.TFLITE_BUILTINS_INT8]\n",
    "# Set the input and output tensors to uint8 (APIs added in r2.3)\n",
    "converter.inference_input_type = tf.uint8\n",
    "converter.inference_output_type = tf.uint8\n",
    "\n",
    "tflite_model_quant = converter.convert()\n",
    "open('int-quantized-model.tflite', 'wb').write(tflite_quant_model)\n",
    "\n",
    "## THIS DOES NOT WORK!!!"
   ]
  },
  {
   "cell_type": "code",
   "execution_count": 15,
   "metadata": {},
   "outputs": [
    {
     "name": "stdout",
     "output_type": "stream",
     "text": [
      "INFO:tensorflow:Assets written to: /tmp/tmpqff3jn90/assets\n"
     ]
    },
    {
     "name": "stderr",
     "output_type": "stream",
     "text": [
      "INFO:tensorflow:Assets written to: /tmp/tmpqff3jn90/assets\n",
      "/home/sanjeev/.local/lib/python3.9/site-packages/tensorflow/lite/python/convert.py:746: UserWarning: Statistics for quantized inputs were expected, but not specified; continuing anyway.\n",
      "  warnings.warn(\"Statistics for quantized inputs were expected, but not \"\n",
      "WARNING:absl:Buffer deduplication procedure will be skipped when flatbuffer library is not properly loaded\n"
     ]
    },
    {
     "data": {
      "text/plain": [
       "29200"
      ]
     },
     "execution_count": 15,
     "metadata": {},
     "output_type": "execute_result"
    }
   ],
   "source": [
    "converter = tf.lite.TFLiteConverter.from_keras_model(model)\n",
    "converter.optimizations = [tf.lite.Optimize.DEFAULT]\n",
    "#converter.target_spec.supported_types = [tf.float32] this fails if you uncomment\n",
    "converter.representative_dataset = representative_data_gen\n",
    "tflite_model = converter.convert()\n",
    "\n",
    "# Save the model to disk\n",
    "open(\"model_quantized_2.tflite\", \"wb\").write(tflite_model)"
   ]
  },
  {
   "cell_type": "code",
   "execution_count": 24,
   "metadata": {},
   "outputs": [],
   "source": [
    "interpreter = tf.lite.Interpreter(model_path=str('model_quantized_2.tflite'))\n",
    "interpreter.allocate_tensors()\n"
   ]
  },
  {
   "cell_type": "code",
   "execution_count": 31,
   "metadata": {},
   "outputs": [
    {
     "data": {
      "text/plain": [
       "[{'name': 'serving_default_conv2d_6_input:0',\n",
       "  'index': 0,\n",
       "  'shape': array([  1, 128,  12,   1], dtype=int32),\n",
       "  'shape_signature': array([ -1, 128,  12,   1], dtype=int32),\n",
       "  'dtype': numpy.float32,\n",
       "  'quantization': (0.0, 0),\n",
       "  'quantization_parameters': {'scales': array([], dtype=float32),\n",
       "   'zero_points': array([], dtype=int32),\n",
       "   'quantized_dimension': 0},\n",
       "  'sparsity_parameters': {}}]"
      ]
     },
     "execution_count": 31,
     "metadata": {},
     "output_type": "execute_result"
    }
   ],
   "source": [
    "interpreter.get_input_details()\n"
   ]
  },
  {
   "cell_type": "code",
   "execution_count": 26,
   "metadata": {},
   "outputs": [
    {
     "name": "stdout",
     "output_type": "stream",
     "text": [
      "\n",
      " [{'name': 'serving_default_conv2d_6_input:0', 'index': 0, 'shape': array([  1, 128,  12,   1], dtype=int32), 'shape_signature': array([ -1, 128,  12,   1], dtype=int32), 'dtype': <class 'numpy.float32'>, 'quantization': (0.0, 0), 'quantization_parameters': {'scales': array([], dtype=float32), 'zero_points': array([], dtype=int32), 'quantized_dimension': 0}, 'sparsity_parameters': {}}]\n",
      "\n",
      " [{'name': 'StatefulPartitionedCall:0', 'index': 19, 'shape': array([1, 6], dtype=int32), 'shape_signature': array([-1,  6], dtype=int32), 'dtype': <class 'numpy.float32'>, 'quantization': (0.0, 0), 'quantization_parameters': {'scales': array([], dtype=float32), 'zero_points': array([], dtype=int32), 'quantized_dimension': 0}, 'sparsity_parameters': {}}] \n",
      "\n"
     ]
    }
   ],
   "source": [
    "input_details = interpreter.get_input_details()\n",
    "print('\\n',input_details)\n",
    "print('\\n',interpreter.get_output_details(), '\\n')"
   ]
  },
  {
   "cell_type": "code",
   "execution_count": 4,
   "metadata": {},
   "outputs": [
    {
     "ename": "NameError",
     "evalue": "name 'compute_resultant_acceleration' is not defined",
     "output_type": "error",
     "traceback": [
      "\u001b[0;31m---------------------------------------------------------------------------\u001b[0m",
      "\u001b[0;31mNameError\u001b[0m                                 Traceback (most recent call last)",
      "\u001b[0;32m<ipython-input-4-7300e54436cd>\u001b[0m in \u001b[0;36m<module>\u001b[0;34m\u001b[0m\n\u001b[1;32m     31\u001b[0m \u001b[0;31m# END REMOVE UNWANTED SUBJECT\u001b[0m\u001b[0;34m\u001b[0m\u001b[0;34m\u001b[0m\u001b[0m\n\u001b[1;32m     32\u001b[0m \u001b[0;31m# AUGMENT DATA\u001b[0m\u001b[0;34m\u001b[0m\u001b[0;34m\u001b[0m\u001b[0m\n\u001b[0;32m---> 33\u001b[0;31m \u001b[0mresultant_acc\u001b[0m \u001b[0;34m=\u001b[0m \u001b[0mcompute_resultant_acceleration\u001b[0m\u001b[0;34m(\u001b[0m\u001b[0mX\u001b[0m\u001b[0;34m)\u001b[0m\u001b[0;34m\u001b[0m\u001b[0;34m\u001b[0m\u001b[0m\n\u001b[0m\u001b[1;32m     34\u001b[0m \u001b[0mresultant_gyro\u001b[0m \u001b[0;34m=\u001b[0m \u001b[0mcompute_resultant_gyro\u001b[0m\u001b[0;34m(\u001b[0m\u001b[0mX\u001b[0m\u001b[0;34m)\u001b[0m\u001b[0;34m\u001b[0m\u001b[0;34m\u001b[0m\u001b[0m\n\u001b[1;32m     35\u001b[0m \u001b[0mresultant_angle\u001b[0m \u001b[0;34m=\u001b[0m \u001b[0mcompute_resultant_angle\u001b[0m\u001b[0;34m(\u001b[0m\u001b[0mX\u001b[0m\u001b[0;34m)\u001b[0m\u001b[0;34m\u001b[0m\u001b[0;34m\u001b[0m\u001b[0m\n",
      "\u001b[0;31mNameError\u001b[0m: name 'compute_resultant_acceleration' is not defined"
     ]
    }
   ],
   "source": [
    "OVERLAP_PERCENT = 0\n",
    "# overlapPercents = [0]\n",
    "# exclude_subjects = ['ddAeJA42PXvwthbW', 'nan', 'LLZjAPTyj7muHsEf',\n",
    "#                     'MMuX9YIh4NTbLZLM', 'cbOZWnI7s1y8oLD4', 'PE8D53oX060qLbdX', 'xYdtS1F8tDyjEIgN', 'sUZBISq61Y7I5tqQ']\n",
    "exclude_subjects = ['ddAeJA42PXvwthbW', 'nan',\n",
    "                    'MMuX9YIh4NTbLZLM',\n",
    "                    'NKdnm6cN3KKAx7R4',\n",
    "                    'PE8D53oX060qLbdX',\n",
    "                    'xYdtS1F8tDyjEIgN',\n",
    "                    'EUbKPOSQgjccjtvi',\n",
    "                    'PE8D53oX060qLbdX',\n",
    "                    'ddAeJA42PXvwthbW',\n",
    "                    'LLZjAPTyj7muHsEf',\n",
    "                    'cbOZWnI7s1y8oLD4',\n",
    "                    'ddAeJA42PXvwthbW',\n",
    "                    '1ZstYhEKzKKfGnMW',\n",
    "                    'LLZjAPTyj7muHsEf',\n",
    "                    'bQsRwKxgJiXTzo6P',\n",
    "                    'sUZBISq61Y7I5tqQ',\n",
    "                    '19AoxD1bgrDckd2p',\n",
    "                    'wtyNo4LYaWXrkzA7',\n",
    "                    ]\n",
    "\n",
    "\n",
    "X, y, subjects = get_overlap_data_all_sessions(OVERLAP_PERCENT)\n",
    "# REMOVE UNWANTED SUBJECTS\n",
    "indexes = np.where(subjects == exclude_subjects)\n",
    "X = np.delete(X, indexes[0], axis=0)\n",
    "y = np.delete(y, indexes[0], axis=0)\n",
    "subjects = np.delete(subjects, indexes[0], axis=0)\n",
    "# END REMOVE UNWANTED SUBJECT\n",
    "# AUGMENT DATA\n",
    "resultant_acc = compute_resultant_acceleration(X)\n",
    "resultant_gyro = compute_resultant_gyro(X)\n",
    "resultant_angle = compute_resultant_angle(X)\n",
    "resultant_acc = resultant_acc.reshape(\n",
    "    resultant_acc.shape[0], resultant_acc.shape[1], 1)\n",
    "resultant_gyro = resultant_gyro.reshape(\n",
    "    resultant_gyro.shape[0], resultant_gyro.shape[1], 1)\n",
    "resultant_angle = resultant_angle.reshape(\n",
    "    resultant_angle.shape[0], resultant_angle.shape[1], 1)\n",
    "X = np.concatenate((X, resultant_acc), axis=2)\n",
    "X = np.concatenate((X, resultant_gyro), axis=2)\n",
    "X = np.concatenate((X, resultant_angle), axis=2)\n"
   ]
  },
  {
   "cell_type": "code",
   "execution_count": 36,
   "metadata": {},
   "outputs": [
    {
     "name": "stdout",
     "output_type": "stream",
     "text": [
      "Model: \"sequential_3\"\n",
      "_________________________________________________________________\n",
      " Layer (type)                Output Shape              Param #   \n",
      "=================================================================\n",
      " conv2d_6 (Conv2D)           (None, 128, 12, 64)       3136      \n",
      "                                                                 \n",
      " batch_normalization_6 (Batc  (None, 128, 12, 64)      256       \n",
      " hNormalization)                                                 \n",
      "                                                                 \n",
      " activation_6 (Activation)   (None, 128, 12, 64)       0         \n",
      "                                                                 \n",
      " dropout_9 (Dropout)         (None, 128, 12, 64)       0         \n",
      "                                                                 \n",
      " average_pooling2d_6 (Averag  (None, 42, 4, 64)        0         \n",
      " ePooling2D)                                                     \n",
      "                                                                 \n",
      " conv2d_7 (Conv2D)           (None, 42, 4, 16)         12304     \n",
      "                                                                 \n",
      " batch_normalization_7 (Batc  (None, 42, 4, 16)        64        \n",
      " hNormalization)                                                 \n",
      "                                                                 \n",
      " activation_7 (Activation)   (None, 42, 4, 16)         0         \n",
      "                                                                 \n",
      " average_pooling2d_7 (Averag  (None, 14, 4, 16)        0         \n",
      " ePooling2D)                                                     \n",
      "                                                                 \n",
      " dropout_10 (Dropout)        (None, 14, 4, 16)         0         \n",
      "                                                                 \n",
      " flatten_3 (Flatten)         (None, 896)               0         \n",
      "                                                                 \n",
      " dense_6 (Dense)             (None, 8)                 7176      \n",
      "                                                                 \n",
      " dropout_11 (Dropout)        (None, 8)                 0         \n",
      "                                                                 \n",
      " dense_7 (Dense)             (None, 6)                 54        \n",
      "                                                                 \n",
      "=================================================================\n",
      "Total params: 22,990\n",
      "Trainable params: 22,830\n",
      "Non-trainable params: 160\n",
      "_________________________________________________________________\n"
     ]
    }
   ],
   "source": [
    "model.summary()"
   ]
  },
  {
   "cell_type": "code",
   "execution_count": 37,
   "metadata": {},
   "outputs": [
    {
     "name": "stdout",
     "output_type": "stream",
     "text": [
      "(147836, 128, 12)\n",
      "(147836, 1)\n",
      "535/535 [==============================] - 10s 19ms/step - loss: 0.3884 - accuracy: 0.8807\n",
      "Saved validation details to /home/sanjeev/thesis/code/gait-deeplearning/notebooks/../src/../logs/log_90_overlap/evaluation.csv\n"
     ]
    },
    {
     "data": {
      "image/png": "[encoded data removed]",
      "text/plain": [
       "<Figure size 432x288 with 1 Axes>"
      ]
     },
     "metadata": {
      "needs_background": "light"
     },
     "output_type": "display_data"
    },
    {
     "data": {
      "image/png": "[encoded data removed]",
      "text/plain": [
       "<Figure size 432x288 with 2 Axes>"
      ]
     },
     "metadata": {
      "needs_background": "light"
     },
     "output_type": "display_data"
    }
   ],
   "source": [
    "print(X.shape)\n",
    "print(y.shape)\n",
    "X_train, X_test, y_train, y_test, y_train_non_encoded, y_test_non_encoded = split_test_train_by_subjects(\n",
    "            X, y, subjects, train_percent=0.6)\n",
    "evaluation_history = model.evaluate(\n",
    "            X_test, y_test, batch_size=128, verbose=1)\n",
    "save_test_history(evaluation_history, OVERLAP_PERCENT)\n",
    "save_accuracy_loss_figure(history, OVERLAP_PERCENT)\n",
    "validations, predictions = compute_validations_predictions(\n",
    "    model, X_test, y_test)\n",
    "save_confusion_matrix_figure(\n",
    "    validations, predictions, OVERLAP_PERCENT, sns)"
   ]
  },
  {
   "cell_type": "code",
   "execution_count": 38,
   "metadata": {},
   "outputs": [
    {
     "name": "stdout",
     "output_type": "stream",
     "text": [
      "INFO:tensorflow:Assets written to: good_model/assets\n"
     ]
    },
    {
     "name": "stderr",
     "output_type": "stream",
     "text": [
      "INFO:tensorflow:Assets written to: good_model/assets\n"
     ]
    }
   ],
   "source": [
    "model.save('good_model')"
   ]
  }
 ],
 "metadata": {
  "interpreter": {
   "hash": "bb44b4e6cc691712e826bba4e724ba947229be6916e0acb92c0db1c9ddbd3c7a"
  },
  "kernelspec": {
   "display_name": "Python 3.9.7 ('thesis')",
   "language": "python",
   "name": "python3"
  },
  "language_info": {
   "codemirror_mode": {
    "name": "ipython",
    "version": 3
   },
   "file_extension": ".py",
   "mimetype": "text/x-python",
   "name": "python",
   "nbconvert_exporter": "python",
   "pygments_lexer": "ipython3",
   "version": "3.9.7"
  },
  "orig_nbformat": 4
 },
 "nbformat": 4,
 "nbformat_minor": 2
}
