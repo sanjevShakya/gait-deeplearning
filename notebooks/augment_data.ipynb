{
 "cells": [
  {
   "cell_type": "code",
   "execution_count": 1,
   "metadata": {},
   "outputs": [],
   "source": [
    "import sys\n",
    "sys.path.append('../src')"
   ]
  },
  {
   "cell_type": "code",
   "execution_count": 2,
   "metadata": {},
   "outputs": [],
   "source": [
    "from matplotlib import pyplot as plt\n",
    "%matplotlib inline\n",
    "import seaborn as sns\n",
    "import numpy as np\n",
    "import tensorflow as tf"
   ]
  },
  {
   "cell_type": "code",
   "execution_count": 4,
   "metadata": {},
   "outputs": [],
   "source": [
    "from gait.config import pd\n",
    "from gait.utils import get_data_by_overlap_percent,get_overlap_data_all_sessions,  split_test_train_by_subjects, remove_invalid_data, get_overlap_data_all_sessions\n",
    "from gait.training import train_model\n",
    "from gait.evalution import save_history, save_test_history, save_accuracy_loss_figure, save_confusion_matrix_figure, compute_validations_predictions"
   ]
  },
  {
   "cell_type": "code",
   "execution_count": 27,
   "metadata": {},
   "outputs": [
    {
     "name": "stdout",
     "output_type": "stream",
     "text": [
      "nan_indices [    3 10469]\n"
     ]
    }
   ],
   "source": [
    "OVERLAP_PERCENT = 50\n",
    "exclude_subjects = ['ddAeJA42PXvwthbW','nan','MMuX9YIh4NTbLZLM', 'PE8D53oX060qLbdX','xYdtS1F8tDyjEIgN'];\n",
    "\n",
    "X, y, subjects = get_data_by_overlap_percent(OVERLAP_PERCENT)\n",
    "indexes = np.where(subjects == exclude_subjects)\n",
    "X = np.delete(X, indexes[0], axis=0)\n",
    "y = np.delete(y, indexes[0], axis=0)\n",
    "subjects = np.delete(subjects, indexes[0], axis=0)"
   ]
  },
  {
   "cell_type": "code",
   "execution_count": 40,
   "metadata": {},
   "outputs": [
    {
     "name": "stdout",
     "output_type": "stream",
     "text": [
      "(2903, 128)\n",
      "(2903,)\n"
     ]
    }
   ],
   "source": [
    "ax = X[:,:,0]\n",
    "print(ax.shape)\n",
    "print(ax.mean(axis=1).shape)"
   ]
  },
  {
   "cell_type": "code",
   "execution_count": 28,
   "metadata": {},
   "outputs": [
    {
     "name": "stdout",
     "output_type": "stream",
     "text": [
      "(2903, 128, 9)\n",
      "[-0.25     -0.060181  0.435425 -1.037598  0.427246  0.579834  0.518746\n",
      "  0.037721 -0.135075]\n",
      "(2903, 128, 11)\n"
     ]
    }
   ],
   "source": [
    "print(X.shape)\n",
    "print(X[0][0])\n",
    "def compute_resultant_acceleration(X):\n",
    "    return np.sqrt(X[:,:,0] **2 + X[:,:,1] ** 2 + X[:,:,2] ** 2)\n",
    "\n",
    "def compute_resultant_gyro(X):\n",
    "    return np.sqrt(X[:,:,3] **2 + X[:,:,4] ** 2 + X[:,:,5] ** 2)\n",
    "\n",
    "resultant_acc =compute_resultant_acceleration(X)\n",
    "resultant_gyro=compute_resultant_gyro(X)\n",
    "\n",
    "resultant_acc=resultant_acc.reshape(resultant_acc.shape[0], resultant_acc.shape[1], 1)\n",
    "resultant_gyro = resultant_gyro.reshape(resultant_gyro.shape[0], resultant_gyro.shape[1], 1)\n",
    "X = np.concatenate((X, resultant_acc), axis=2)\n",
    "X = np.concatenate((X, resultant_gyro), axis=2)\n",
    "\n",
    "print(X.shape)"
   ]
  },
  {
   "cell_type": "code",
   "execution_count": 29,
   "metadata": {},
   "outputs": [
    {
     "name": "stdout",
     "output_type": "stream",
     "text": [
      "WARNING:tensorflow:There are non-GPU devices in `tf.distribute.Strategy`, not using nccl allreduce.\n",
      "INFO:tensorflow:Using MirroredStrategy with devices ('/job:localhost/replica:0/task:0/device:CPU:0',)\n",
      "UNIQUE>>>>>>> ['NKdnm6cN3KKAx7R4', 'EUbKPOSQgjccjtvi', 'psiuhPJmLIa2wC4u']\n",
      "Model: \"sequential\"\n",
      "_________________________________________________________________\n",
      " Layer (type)                Output Shape              Param #   \n",
      "=================================================================\n",
      " conv2d (Conv2D)             (None, 128, 11, 8)        976       \n",
      "                                                                 \n",
      " average_pooling2d (AverageP  (None, 42, 3, 8)         0         \n",
      " ooling2D)                                                       \n",
      "                                                                 \n",
      " batch_normalization (BatchN  (None, 42, 3, 8)         32        \n",
      " ormalization)                                                   \n",
      "                                                                 \n",
      " conv2d_1 (Conv2D)           (None, 42, 3, 32)         1056      \n",
      "                                                                 \n",
      " average_pooling2d_1 (Averag  (None, 14, 3, 32)        0         \n",
      " ePooling2D)                                                     \n",
      "                                                                 \n",
      " batch_normalization_1 (Batc  (None, 14, 3, 32)        128       \n",
      " hNormalization)                                                 \n",
      "                                                                 \n",
      " flatten (Flatten)           (None, 1344)              0         \n",
      "                                                                 \n",
      " dense (Dense)               (None, 16)                21520     \n",
      "                                                                 \n",
      " dropout (Dropout)           (None, 16)                0         \n",
      "                                                                 \n",
      " dense_1 (Dense)             (None, 6)                 102       \n",
      "                                                                 \n",
      "=================================================================\n",
      "Total params: 23,814\n",
      "Trainable params: 23,734\n",
      "Non-trainable params: 80\n",
      "_________________________________________________________________\n",
      "Model saved at filepath : /home/sanjeev/thesis/code/gait-deeplearning/notebooks/../src/../models/model_50_overlap/best_model.{epoch:02d}-{val_loss:.2f}.hdf5\n",
      "(1896, 128, 11, 1)\n",
      "Epoch 1/50\n",
      "48/48 [==============================] - 6s 74ms/step - loss: 0.9428 - accuracy: 0.6168 - val_loss: 2.1133 - val_accuracy: 0.1553\n",
      "Epoch 2/50\n",
      "48/48 [==============================] - 2s 42ms/step - loss: 0.4866 - accuracy: 0.8153 - val_loss: 1.6747 - val_accuracy: 0.4237\n",
      "Epoch 3/50\n",
      "48/48 [==============================] - 2s 40ms/step - loss: 0.3403 - accuracy: 0.8826 - val_loss: 1.0117 - val_accuracy: 0.6763\n",
      "Epoch 4/50\n",
      "48/48 [==============================] - 2s 40ms/step - loss: 0.2702 - accuracy: 0.9070 - val_loss: 0.8751 - val_accuracy: 0.7316\n",
      "Epoch 5/50\n",
      "48/48 [==============================] - 2s 41ms/step - loss: 0.2312 - accuracy: 0.9202 - val_loss: 0.5929 - val_accuracy: 0.7921\n",
      "Epoch 6/50\n",
      "48/48 [==============================] - 2s 48ms/step - loss: 0.2048 - accuracy: 0.9327 - val_loss: 0.4700 - val_accuracy: 0.8395\n",
      "Epoch 7/50\n",
      "48/48 [==============================] - 2s 50ms/step - loss: 0.1646 - accuracy: 0.9387 - val_loss: 0.5014 - val_accuracy: 0.8237\n",
      "Epoch 8/50\n",
      "48/48 [==============================] - 2s 52ms/step - loss: 0.1428 - accuracy: 0.9459 - val_loss: 0.3532 - val_accuracy: 0.8763\n",
      "Epoch 9/50\n",
      "48/48 [==============================] - 2s 45ms/step - loss: 0.1088 - accuracy: 0.9637 - val_loss: 0.4575 - val_accuracy: 0.8500\n",
      "Epoch 10/50\n",
      "48/48 [==============================] - 2s 47ms/step - loss: 0.0992 - accuracy: 0.9657 - val_loss: 0.3537 - val_accuracy: 0.8895\n",
      "Epoch 11/50\n",
      "48/48 [==============================] - 2s 48ms/step - loss: 0.1130 - accuracy: 0.9578 - val_loss: 0.3559 - val_accuracy: 0.8868\n",
      "Epoch 12/50\n",
      "48/48 [==============================] - 2s 49ms/step - loss: 0.0799 - accuracy: 0.9763 - val_loss: 0.3113 - val_accuracy: 0.9079\n",
      "Epoch 13/50\n",
      "48/48 [==============================] - 2s 46ms/step - loss: 0.0944 - accuracy: 0.9650 - val_loss: 0.3250 - val_accuracy: 0.9026\n",
      "Epoch 14/50\n",
      "48/48 [==============================] - 2s 45ms/step - loss: 0.1197 - accuracy: 0.9551 - val_loss: 0.3176 - val_accuracy: 0.9026\n",
      "Epoch 15/50\n",
      "48/48 [==============================] - 2s 49ms/step - loss: 0.0765 - accuracy: 0.9763 - val_loss: 0.3465 - val_accuracy: 0.9026\n",
      "Epoch 16/50\n",
      "48/48 [==============================] - 2s 50ms/step - loss: 0.0763 - accuracy: 0.9710 - val_loss: 0.3993 - val_accuracy: 0.8868\n",
      "Epoch 17/50\n",
      "48/48 [==============================] - 2s 47ms/step - loss: 0.0570 - accuracy: 0.9789 - val_loss: 0.3460 - val_accuracy: 0.9053\n",
      "Epoch 18/50\n",
      "48/48 [==============================] - 2s 47ms/step - loss: 0.0553 - accuracy: 0.9815 - val_loss: 0.3212 - val_accuracy: 0.9184\n",
      "Epoch 19/50\n",
      "48/48 [==============================] - 2s 46ms/step - loss: 0.0573 - accuracy: 0.9842 - val_loss: 0.3529 - val_accuracy: 0.9105\n",
      "Epoch 20/50\n",
      "48/48 [==============================] - 2s 49ms/step - loss: 0.0493 - accuracy: 0.9835 - val_loss: 0.3255 - val_accuracy: 0.9053\n",
      "Epoch 21/50\n",
      "48/48 [==============================] - 2s 48ms/step - loss: 0.0716 - accuracy: 0.9769 - val_loss: 0.4213 - val_accuracy: 0.8711\n",
      "Epoch 22/50\n",
      "48/48 [==============================] - 2s 48ms/step - loss: 0.0561 - accuracy: 0.9835 - val_loss: 0.3763 - val_accuracy: 0.8974\n",
      "Epoch 23/50\n",
      "48/48 [==============================] - 2s 52ms/step - loss: 0.0410 - accuracy: 0.9848 - val_loss: 0.3237 - val_accuracy: 0.9079\n",
      "Epoch 24/50\n",
      "48/48 [==============================] - 3s 53ms/step - loss: 0.0573 - accuracy: 0.9789 - val_loss: 0.4237 - val_accuracy: 0.8895\n",
      "Epoch 25/50\n",
      "48/48 [==============================] - 2s 49ms/step - loss: 0.0562 - accuracy: 0.9809 - val_loss: 0.4137 - val_accuracy: 0.8947\n",
      "Epoch 26/50\n",
      "48/48 [==============================] - 2s 49ms/step - loss: 0.0464 - accuracy: 0.9868 - val_loss: 0.4932 - val_accuracy: 0.8868\n",
      "Epoch 27/50\n",
      "48/48 [==============================] - 2s 48ms/step - loss: 0.0305 - accuracy: 0.9908 - val_loss: 0.3299 - val_accuracy: 0.9237\n",
      "Epoch 28/50\n",
      "48/48 [==============================] - 2s 50ms/step - loss: 0.0339 - accuracy: 0.9894 - val_loss: 0.3653 - val_accuracy: 0.8974\n",
      "Epoch 29/50\n",
      "48/48 [==============================] - 2s 47ms/step - loss: 0.0290 - accuracy: 0.9901 - val_loss: 0.3458 - val_accuracy: 0.9026\n",
      "Epoch 30/50\n",
      "48/48 [==============================] - 2s 44ms/step - loss: 0.0270 - accuracy: 0.9934 - val_loss: 0.4047 - val_accuracy: 0.9105\n",
      "Epoch 31/50\n",
      "48/48 [==============================] - 2s 46ms/step - loss: 0.0904 - accuracy: 0.9697 - val_loss: 0.5710 - val_accuracy: 0.8658\n",
      "Epoch 32/50\n",
      "48/48 [==============================] - 2s 45ms/step - loss: 0.0462 - accuracy: 0.9868 - val_loss: 0.4483 - val_accuracy: 0.8816\n",
      "Epoch 33/50\n",
      "48/48 [==============================] - 2s 47ms/step - loss: 0.0420 - accuracy: 0.9875 - val_loss: 0.5446 - val_accuracy: 0.8711\n",
      "Epoch 34/50\n",
      "48/48 [==============================] - 2s 43ms/step - loss: 0.0459 - accuracy: 0.9855 - val_loss: 0.3232 - val_accuracy: 0.9211\n",
      "Epoch 35/50\n",
      "48/48 [==============================] - 2s 44ms/step - loss: 0.0315 - accuracy: 0.9901 - val_loss: 0.3310 - val_accuracy: 0.9211\n",
      "Epoch 36/50\n",
      "48/48 [==============================] - 2s 46ms/step - loss: 0.0305 - accuracy: 0.9908 - val_loss: 0.3233 - val_accuracy: 0.9237\n",
      "Epoch 37/50\n",
      "48/48 [==============================] - 2s 44ms/step - loss: 0.0527 - accuracy: 0.9828 - val_loss: 0.4093 - val_accuracy: 0.9000\n",
      "Epoch 38/50\n",
      "48/48 [==============================] - 2s 45ms/step - loss: 0.0258 - accuracy: 0.9934 - val_loss: 0.3785 - val_accuracy: 0.8974\n",
      "Epoch 39/50\n",
      "48/48 [==============================] - 2s 44ms/step - loss: 0.0208 - accuracy: 0.9927 - val_loss: 0.3459 - val_accuracy: 0.9211\n",
      "Epoch 40/50\n",
      "48/48 [==============================] - 2s 44ms/step - loss: 0.0236 - accuracy: 0.9921 - val_loss: 0.3525 - val_accuracy: 0.9105\n",
      "Epoch 41/50\n",
      "48/48 [==============================] - 2s 43ms/step - loss: 0.0263 - accuracy: 0.9908 - val_loss: 0.3319 - val_accuracy: 0.9132\n",
      "Epoch 42/50\n",
      "48/48 [==============================] - 2s 49ms/step - loss: 0.0287 - accuracy: 0.9921 - val_loss: 0.4151 - val_accuracy: 0.9053\n",
      "Epoch 43/50\n",
      "48/48 [==============================] - 2s 50ms/step - loss: 0.0207 - accuracy: 0.9941 - val_loss: 0.3353 - val_accuracy: 0.9237\n",
      "Epoch 44/50\n",
      "48/48 [==============================] - 2s 46ms/step - loss: 0.0232 - accuracy: 0.9901 - val_loss: 0.3693 - val_accuracy: 0.9184\n",
      "Epoch 45/50\n",
      "48/48 [==============================] - 2s 48ms/step - loss: 0.0131 - accuracy: 0.9960 - val_loss: 0.4108 - val_accuracy: 0.9026\n",
      "Epoch 46/50\n",
      "48/48 [==============================] - 2s 52ms/step - loss: 0.0168 - accuracy: 0.9960 - val_loss: 0.3928 - val_accuracy: 0.9263\n",
      "Epoch 47/50\n",
      "48/48 [==============================] - 2s 43ms/step - loss: 0.0249 - accuracy: 0.9927 - val_loss: 0.4194 - val_accuracy: 0.9105\n",
      "Epoch 48/50\n",
      "48/48 [==============================] - 2s 43ms/step - loss: 0.0127 - accuracy: 0.9974 - val_loss: 0.4050 - val_accuracy: 0.8868\n",
      "Epoch 49/50\n",
      "48/48 [==============================] - 2s 43ms/step - loss: 0.0166 - accuracy: 0.9941 - val_loss: 0.4712 - val_accuracy: 0.8974\n",
      "Epoch 50/50\n",
      "48/48 [==============================] - 2s 44ms/step - loss: 0.0119 - accuracy: 0.9960 - val_loss: 0.3941 - val_accuracy: 0.9184\n",
      "32/32 [==============================] - 1s 18ms/step - loss: 2.2112 - accuracy: 0.6862\n",
      "Saved training details to /home/sanjeev/thesis/code/gait-deeplearning/notebooks/../src/../logs/log_50_overlap/history.csv\n",
      "Saved validation details to /home/sanjeev/thesis/code/gait-deeplearning/notebooks/../src/../logs/log_50_overlap/evaluation.csv\n"
     ]
    },
    {
     "data": {
      "image/png": "[encoded data removed]",
      "text/plain": [
       "<Figure size 432x288 with 1 Axes>"
      ]
     },
     "metadata": {
      "needs_background": "light"
     },
     "output_type": "display_data"
    },
    {
     "data": {
      "image/png": "[encoded data removed]",
      "text/plain": [
       "<Figure size 432x288 with 2 Axes>"
      ]
     },
     "metadata": {
      "needs_background": "light"
     },
     "output_type": "display_data"
    }
   ],
   "source": [
    "gpus = tf.config.list_logical_devices('GPU')\n",
    "strategy = tf.distribute.MirroredStrategy(gpus)\n",
    "with strategy.scope():\n",
    "    X_train, X_test, y_train, y_test, y_train_non_encoded, y_test_non_encoded = split_test_train_by_subjects(\n",
    "    X, y, subjects, train_percent=0.8)\n",
    "    model, history, evaluation_history = train_model(X_train, y_train, X_test, y_test, overlap_percent=OVERLAP_PERCENT, batch_size=32, epochs=50, variant=\"cnn\")\n",
    "    save_history(history, OVERLAP_PERCENT)\n",
    "    save_test_history(evaluation_history, OVERLAP_PERCENT)\n",
    "    save_accuracy_loss_figure(history, OVERLAP_PERCENT)\n",
    "    validations, predictions = compute_validations_predictions(\n",
    "        model, X_test, y_test)\n",
    "    save_confusion_matrix_figure(validations, predictions, OVERLAP_PERCENT, sns)"
   ]
  }
 ],
 "metadata": {
  "interpreter": {
   "hash": "bb44b4e6cc691712e826bba4e724ba947229be6916e0acb92c0db1c9ddbd3c7a"
  },
  "kernelspec": {
   "display_name": "Python 3.9.7 ('thesis')",
   "language": "python",
   "name": "python3"
  },
  "language_info": {
   "codemirror_mode": {
    "name": "ipython",
    "version": 3
   },
   "file_extension": ".py",
   "mimetype": "text/x-python",
   "name": "python",
   "nbconvert_exporter": "python",
   "pygments_lexer": "ipython3",
   "version": "3.9.7"
  },
  "orig_nbformat": 4
 },
 "nbformat": 4,
 "nbformat_minor": 2
}
