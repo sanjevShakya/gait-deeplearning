{
 "cells": [
  {
   "cell_type": "code",
   "execution_count": 1,
   "metadata": {},
   "outputs": [],
   "source": [
    "import sys\n",
    "sys.path.append('../src')\n",
    "from matplotlib import pyplot as plt\n",
    "%matplotlib inline\n",
    "import seaborn as sns\n",
    "import numpy as np\n",
    "import tensorflow as tf\n",
    "from gait.config import pd\n",
    "from gait.utils import get_data_by_overlap_percent,get_overlap_data_all_sessions,  split_test_train_by_subjects, remove_invalid_data, get_overlap_data_all_sessions\n",
    "from gait.training import train_model_with_stats, build_cnn_stats_small\n",
    "from gait.evalution import save_history, save_test_history, save_accuracy_loss_figure, save_confusion_matrix_figure, compute_validations_predictions,compute_validations_predictions_with_stats,compute_validations_predictions_cnn_multihead_with_stats"
   ]
  },
  {
   "cell_type": "code",
   "execution_count": 2,
   "metadata": {},
   "outputs": [
    {
     "name": "stdout",
     "output_type": "stream",
     "text": [
      "Model: \"model\"\n",
      "__________________________________________________________________________________________________\n",
      " Layer (type)                   Output Shape         Param #     Connected to                     \n",
      "==================================================================================================\n",
      " input_1 (InputLayer)           [(None, 128, 12, 1)  0           []                               \n",
      "                                ]                                                                 \n",
      "                                                                                                  \n",
      " conv2d_1 (Conv2D)              (None, 128, 12, 4)   52          ['input_1[0][0]']                \n",
      "                                                                                                  \n",
      " batch_normalization_1 (BatchNo  (None, 128, 12, 4)  16          ['conv2d_1[0][0]']               \n",
      " rmalization)                                                                                     \n",
      "                                                                                                  \n",
      " activation_1 (Activation)      (None, 128, 12, 4)   0           ['batch_normalization_1[0][0]']  \n",
      "                                                                                                  \n",
      " average_pooling2d_1 (AveragePo  (None, 42, 12, 4)   0           ['activation_1[0][0]']           \n",
      " oling2D)                                                                                         \n",
      "                                                                                                  \n",
      " dropout_1 (Dropout)            (None, 42, 12, 4)    0           ['average_pooling2d_1[0][0]']    \n",
      "                                                                                                  \n",
      " flatten (Flatten)              (None, 2016)         0           ['dropout_1[0][0]']              \n",
      "                                                                                                  \n",
      " input_2 (InputLayer)           [(None, 12)]         0           []                               \n",
      "                                                                                                  \n",
      " concatenate (Concatenate)      (None, 2028)         0           ['flatten[0][0]',                \n",
      "                                                                  'input_2[0][0]']                \n",
      "                                                                                                  \n",
      " dense (Dense)                  (None, 8)            16232       ['concatenate[0][0]']            \n",
      "                                                                                                  \n",
      " dropout_2 (Dropout)            (None, 8)            0           ['dense[0][0]']                  \n",
      "                                                                                                  \n",
      " dense_1 (Dense)                (None, 5)            45          ['dropout_2[0][0]']              \n",
      "                                                                                                  \n",
      "==================================================================================================\n",
      "Total params: 16,345\n",
      "Trainable params: 16,337\n",
      "Non-trainable params: 8\n",
      "__________________________________________________________________________________________________\n",
      "None\n",
      "Model size: 63.81640625 KB\n",
      "Model Size: None\n"
     ]
    }
   ],
   "source": [
    "model = build_cnn_stats_small(128, 12, 5, np.ones((9, 12)))\n"
   ]
  },
  {
   "cell_type": "code",
   "execution_count": 3,
   "metadata": {},
   "outputs": [],
   "source": [
    "def compute_resultant_acceleration(X):\n",
    "    return np.sqrt(X[:,:,0] **2 + X[:,:,1] ** 2 + X[:,:,2] ** 2)\n",
    "\n",
    "def compute_resultant_gyro(X):\n",
    "    return np.sqrt(X[:,:,3] **2 + X[:,:,4] ** 2 + X[:,:,5] ** 2)\n",
    "\n",
    "def compute_resultant_angle(X):\n",
    "    return np.sqrt(X[:,:,6] **2 + X[:,:,7] ** 2 + X[:,:,8] ** 2)\n",
    "\n",
    "def get_std_values(X, channel):\n",
    "    return np.std(X[:, :, channel], axis=1)\n",
    "\n",
    "def get_mean_values(X, channel):\n",
    "    return np.mean(X[:, :, channel], axis=1)\n",
    "\n",
    "def get_max_values(X, channel):\n",
    "    return np.max(X[:, :, channel], axis=1)\n",
    "\n",
    "def get_median_values(X, channel):\n",
    "    return np.median(X[:, :, channel], axis=1)\n",
    "\n",
    "\n",
    "def get_statistic_feature_all_channels(X):\n",
    "    statistic_features = []\n",
    "    for channel in range(9,12):\n",
    "        statistic_features.append(get_std_values(X, channel))\n",
    "        statistic_features.append(get_mean_values(X, channel))\n",
    "        statistic_features.append(get_max_values(X, channel))\n",
    "        statistic_features.append(get_median_values(X, channel))\n",
    "\n",
    "    return np.vstack(statistic_features).T"
   ]
  },
  {
   "cell_type": "code",
   "execution_count": 4,
   "metadata": {},
   "outputs": [
    {
     "name": "stdout",
     "output_type": "stream",
     "text": [
      "INFO:tensorflow:Using MirroredStrategy with devices ('/job:localhost/replica:0/task:0/device:GPU:0',)\n",
      "Statistic feature shape:  (108973, 12)\n",
      "INFO:tensorflow:Reduce to /job:localhost/replica:0/task:0/device:CPU:0 then broadcast to ('/job:localhost/replica:0/task:0/device:CPU:0',).\n",
      "INFO:tensorflow:Reduce to /job:localhost/replica:0/task:0/device:CPU:0 then broadcast to ('/job:localhost/replica:0/task:0/device:CPU:0',).\n",
      "INFO:tensorflow:Reduce to /job:localhost/replica:0/task:0/device:CPU:0 then broadcast to ('/job:localhost/replica:0/task:0/device:CPU:0',).\n",
      "INFO:tensorflow:Reduce to /job:localhost/replica:0/task:0/device:CPU:0 then broadcast to ('/job:localhost/replica:0/task:0/device:CPU:0',).\n",
      "INFO:tensorflow:Reduce to /job:localhost/replica:0/task:0/device:CPU:0 then broadcast to ('/job:localhost/replica:0/task:0/device:CPU:0',).\n",
      "INFO:tensorflow:Reduce to /job:localhost/replica:0/task:0/device:CPU:0 then broadcast to ('/job:localhost/replica:0/task:0/device:CPU:0',).\n",
      "INFO:tensorflow:Reduce to /job:localhost/replica:0/task:0/device:CPU:0 then broadcast to ('/job:localhost/replica:0/task:0/device:CPU:0',).\n",
      "INFO:tensorflow:Reduce to /job:localhost/replica:0/task:0/device:CPU:0 then broadcast to ('/job:localhost/replica:0/task:0/device:CPU:0',).\n",
      "INFO:tensorflow:Reduce to /job:localhost/replica:0/task:0/device:CPU:0 then broadcast to ('/job:localhost/replica:0/task:0/device:CPU:0',).\n",
      "INFO:tensorflow:Reduce to /job:localhost/replica:0/task:0/device:CPU:0 then broadcast to ('/job:localhost/replica:0/task:0/device:CPU:0',).\n",
      "Model: \"model_1\"\n",
      "__________________________________________________________________________________________________\n",
      " Layer (type)                   Output Shape         Param #     Connected to                     \n",
      "==================================================================================================\n",
      " input_3 (InputLayer)           [(None, 128, 12, 1)  0           []                               \n",
      "                                ]                                                                 \n",
      "                                                                                                  \n",
      " conv2d_3 (Conv2D)              (None, 128, 12, 4)   52          ['input_3[0][0]']                \n",
      "                                                                                                  \n",
      " batch_normalization_3 (BatchNo  (None, 128, 12, 4)  16          ['conv2d_3[0][0]']               \n",
      " rmalization)                                                                                     \n",
      "                                                                                                  \n",
      " activation_3 (Activation)      (None, 128, 12, 4)   0           ['batch_normalization_3[0][0]']  \n",
      "                                                                                                  \n",
      " average_pooling2d_3 (AveragePo  (None, 42, 12, 4)   0           ['activation_3[0][0]']           \n",
      " oling2D)                                                                                         \n",
      "                                                                                                  \n",
      " dropout_4 (Dropout)            (None, 42, 12, 4)    0           ['average_pooling2d_3[0][0]']    \n",
      "                                                                                                  \n",
      " flatten_1 (Flatten)            (None, 2016)         0           ['dropout_4[0][0]']              \n",
      "                                                                                                  \n",
      " input_4 (InputLayer)           [(None, 12)]         0           []                               \n",
      "                                                                                                  \n",
      " concatenate_1 (Concatenate)    (None, 2028)         0           ['flatten_1[0][0]',              \n",
      "                                                                  'input_4[0][0]']                \n",
      "                                                                                                  \n",
      " dense_2 (Dense)                (None, 8)            16232       ['concatenate_1[0][0]']          \n",
      "                                                                                                  \n",
      " dropout_5 (Dropout)            (None, 8)            0           ['dense_2[0][0]']                \n",
      "                                                                                                  \n",
      " dense_3 (Dense)                (None, 6)            54          ['dropout_5[0][0]']              \n",
      "                                                                                                  \n",
      "==================================================================================================\n",
      "Total params: 16,354\n",
      "Trainable params: 16,346\n",
      "Non-trainable params: 8\n",
      "__________________________________________________________________________________________________\n",
      "None\n",
      "Model size: 63.8515625 KB\n",
      "Model Size: None\n",
      "Model saved at filepath : /home/sanjeev/thesis/code/gait-deeplearning/notebooks/../src/../models/model_90_overlap/best_model.{epoch:02d}-{val_loss:.2f}-{val_accuracy:.2f}.hdf5\n",
      "Epoch 1/100\n",
      "682/682 [==============================] - 13s 12ms/step - loss: 3.1477 - accuracy: 0.3164 - val_loss: 1.7158 - val_accuracy: 0.5215\n",
      "Epoch 2/100\n",
      "682/682 [==============================] - 6s 9ms/step - loss: 1.8789 - accuracy: 0.5020 - val_loss: 1.2814 - val_accuracy: 0.5832\n",
      "Epoch 3/100\n",
      "682/682 [==============================] - 6s 9ms/step - loss: 1.4694 - accuracy: 0.5220 - val_loss: 1.1743 - val_accuracy: 0.5690\n",
      "Epoch 4/100\n",
      "682/682 [==============================] - 6s 9ms/step - loss: 1.2760 - accuracy: 0.5357 - val_loss: 1.1149 - val_accuracy: 0.5726\n",
      "Epoch 5/100\n",
      "682/682 [==============================] - 6s 9ms/step - loss: 1.1787 - accuracy: 0.5488 - val_loss: 1.0650 - val_accuracy: 0.5829\n",
      "Epoch 6/100\n",
      "682/682 [==============================] - 6s 9ms/step - loss: 1.1045 - accuracy: 0.5639 - val_loss: 1.0189 - val_accuracy: 0.5963\n",
      "Epoch 7/100\n",
      "682/682 [==============================] - 6s 8ms/step - loss: 1.0465 - accuracy: 0.5816 - val_loss: 0.9752 - val_accuracy: 0.6113\n",
      "Epoch 8/100\n",
      "682/682 [==============================] - 6s 8ms/step - loss: 1.0070 - accuracy: 0.5958 - val_loss: 0.9380 - val_accuracy: 0.6259\n",
      "Epoch 9/100\n",
      "682/682 [==============================] - 6s 9ms/step - loss: 0.9756 - accuracy: 0.6037 - val_loss: 0.9088 - val_accuracy: 0.6351\n",
      "Epoch 10/100\n",
      "682/682 [==============================] - 6s 9ms/step - loss: 0.9513 - accuracy: 0.6135 - val_loss: 0.8855 - val_accuracy: 0.6403\n",
      "Epoch 11/100\n",
      "682/682 [==============================] - 6s 8ms/step - loss: 0.9299 - accuracy: 0.6171 - val_loss: 0.8637 - val_accuracy: 0.6479\n",
      "Epoch 12/100\n",
      "682/682 [==============================] - 6s 8ms/step - loss: 0.9082 - accuracy: 0.6252 - val_loss: 0.8469 - val_accuracy: 0.6492\n",
      "Epoch 13/100\n",
      "682/682 [==============================] - 6s 9ms/step - loss: 0.8909 - accuracy: 0.6301 - val_loss: 0.8288 - val_accuracy: 0.6574\n",
      "Epoch 14/100\n",
      "682/682 [==============================] - 6s 8ms/step - loss: 0.8759 - accuracy: 0.6434 - val_loss: 0.8144 - val_accuracy: 0.6621\n",
      "Epoch 15/100\n",
      "682/682 [==============================] - 6s 8ms/step - loss: 0.8596 - accuracy: 0.6577 - val_loss: 0.8020 - val_accuracy: 0.6654\n",
      "Epoch 16/100\n",
      "682/682 [==============================] - 6s 8ms/step - loss: 0.8473 - accuracy: 0.6592 - val_loss: 0.7871 - val_accuracy: 0.6708\n",
      "Epoch 17/100\n",
      "682/682 [==============================] - 6s 9ms/step - loss: 0.8370 - accuracy: 0.6627 - val_loss: 0.7747 - val_accuracy: 0.6774\n",
      "Epoch 18/100\n",
      "682/682 [==============================] - 6s 8ms/step - loss: 0.8217 - accuracy: 0.6669 - val_loss: 0.7648 - val_accuracy: 0.6787\n",
      "Epoch 19/100\n",
      "682/682 [==============================] - 6s 9ms/step - loss: 0.8097 - accuracy: 0.6697 - val_loss: 0.7543 - val_accuracy: 0.6844\n",
      "Epoch 20/100\n",
      "682/682 [==============================] - 6s 9ms/step - loss: 0.7983 - accuracy: 0.6726 - val_loss: 0.7416 - val_accuracy: 0.6886\n",
      "Epoch 21/100\n",
      "682/682 [==============================] - 6s 9ms/step - loss: 0.7880 - accuracy: 0.6753 - val_loss: 0.7323 - val_accuracy: 0.6944\n",
      "Epoch 22/100\n",
      "682/682 [==============================] - 6s 9ms/step - loss: 0.7753 - accuracy: 0.6807 - val_loss: 0.7227 - val_accuracy: 0.6989\n",
      "Epoch 23/100\n",
      "682/682 [==============================] - 6s 8ms/step - loss: 0.7703 - accuracy: 0.6792 - val_loss: 0.7146 - val_accuracy: 0.7036\n",
      "Epoch 24/100\n",
      "682/682 [==============================] - 6s 8ms/step - loss: 0.7590 - accuracy: 0.6825 - val_loss: 0.7048 - val_accuracy: 0.7084\n",
      "Epoch 25/100\n",
      "682/682 [==============================] - 6s 9ms/step - loss: 0.7520 - accuracy: 0.6847 - val_loss: 0.6994 - val_accuracy: 0.7131\n",
      "Epoch 26/100\n",
      "682/682 [==============================] - 6s 9ms/step - loss: 0.7426 - accuracy: 0.6892 - val_loss: 0.6927 - val_accuracy: 0.7184\n",
      "Epoch 27/100\n",
      "682/682 [==============================] - 6s 8ms/step - loss: 0.7363 - accuracy: 0.6883 - val_loss: 0.6866 - val_accuracy: 0.7234\n",
      "Epoch 28/100\n",
      "682/682 [==============================] - 6s 8ms/step - loss: 0.7304 - accuracy: 0.6912 - val_loss: 0.6827 - val_accuracy: 0.7252\n",
      "Epoch 29/100\n",
      "682/682 [==============================] - 6s 8ms/step - loss: 0.7211 - accuracy: 0.6937 - val_loss: 0.6770 - val_accuracy: 0.7312\n",
      "Epoch 30/100\n",
      "682/682 [==============================] - 6s 8ms/step - loss: 0.7147 - accuracy: 0.6967 - val_loss: 0.6715 - val_accuracy: 0.7320\n",
      "Epoch 31/100\n",
      "682/682 [==============================] - 6s 8ms/step - loss: 0.7058 - accuracy: 0.6971 - val_loss: 0.6668 - val_accuracy: 0.7358\n",
      "Epoch 32/100\n",
      "682/682 [==============================] - 6s 9ms/step - loss: 0.6998 - accuracy: 0.6998 - val_loss: 0.6676 - val_accuracy: 0.7354\n",
      "Epoch 33/100\n",
      "682/682 [==============================] - 6s 8ms/step - loss: 0.6954 - accuracy: 0.7021 - val_loss: 0.6643 - val_accuracy: 0.7369\n",
      "Epoch 34/100\n",
      "682/682 [==============================] - 6s 9ms/step - loss: 0.6889 - accuracy: 0.7054 - val_loss: 0.6625 - val_accuracy: 0.7425\n",
      "Epoch 35/100\n",
      "682/682 [==============================] - 6s 8ms/step - loss: 0.6860 - accuracy: 0.7081 - val_loss: 0.6616 - val_accuracy: 0.7431\n",
      "Epoch 36/100\n",
      "682/682 [==============================] - 6s 9ms/step - loss: 0.6786 - accuracy: 0.7096 - val_loss: 0.6554 - val_accuracy: 0.7462\n",
      "Epoch 37/100\n",
      "682/682 [==============================] - 6s 8ms/step - loss: 0.6729 - accuracy: 0.7122 - val_loss: 0.6561 - val_accuracy: 0.7462\n",
      "Epoch 38/100\n",
      "682/682 [==============================] - 6s 8ms/step - loss: 0.6690 - accuracy: 0.7144 - val_loss: 0.6550 - val_accuracy: 0.7455\n",
      "Epoch 39/100\n",
      "682/682 [==============================] - 6s 9ms/step - loss: 0.6636 - accuracy: 0.7180 - val_loss: 0.6525 - val_accuracy: 0.7476\n",
      "Epoch 40/100\n",
      "682/682 [==============================] - 6s 8ms/step - loss: 0.6597 - accuracy: 0.7201 - val_loss: 0.6504 - val_accuracy: 0.7500\n",
      "Epoch 41/100\n",
      "682/682 [==============================] - 6s 8ms/step - loss: 0.6590 - accuracy: 0.7204 - val_loss: 0.6526 - val_accuracy: 0.7491\n",
      "Epoch 42/100\n",
      "682/682 [==============================] - 6s 8ms/step - loss: 0.6533 - accuracy: 0.7245 - val_loss: 0.6483 - val_accuracy: 0.7532\n",
      "Epoch 43/100\n",
      "682/682 [==============================] - 6s 9ms/step - loss: 0.6475 - accuracy: 0.7272 - val_loss: 0.6476 - val_accuracy: 0.7512\n",
      "Epoch 44/100\n",
      "682/682 [==============================] - 6s 9ms/step - loss: 0.6465 - accuracy: 0.7304 - val_loss: 0.6473 - val_accuracy: 0.7504\n",
      "Epoch 45/100\n",
      "682/682 [==============================] - 6s 9ms/step - loss: 0.6404 - accuracy: 0.7328 - val_loss: 0.6459 - val_accuracy: 0.7487\n",
      "Epoch 46/100\n",
      "682/682 [==============================] - 6s 8ms/step - loss: 0.6360 - accuracy: 0.7334 - val_loss: 0.6442 - val_accuracy: 0.7515\n",
      "Epoch 47/100\n",
      "682/682 [==============================] - 6s 8ms/step - loss: 0.6354 - accuracy: 0.7364 - val_loss: 0.6446 - val_accuracy: 0.7493\n",
      "Epoch 48/100\n",
      "682/682 [==============================] - 6s 8ms/step - loss: 0.6324 - accuracy: 0.7385 - val_loss: 0.6451 - val_accuracy: 0.7480\n",
      "Epoch 49/100\n",
      "682/682 [==============================] - 6s 8ms/step - loss: 0.6290 - accuracy: 0.7415 - val_loss: 0.6423 - val_accuracy: 0.7492\n",
      "Epoch 50/100\n",
      "682/682 [==============================] - 6s 8ms/step - loss: 0.6280 - accuracy: 0.7419 - val_loss: 0.6402 - val_accuracy: 0.7500\n",
      "Epoch 51/100\n",
      "682/682 [==============================] - 6s 9ms/step - loss: 0.6244 - accuracy: 0.7453 - val_loss: 0.6398 - val_accuracy: 0.7494\n",
      "Epoch 52/100\n",
      "682/682 [==============================] - 6s 9ms/step - loss: 0.6198 - accuracy: 0.7474 - val_loss: 0.6385 - val_accuracy: 0.7505\n",
      "Epoch 53/100\n",
      "682/682 [==============================] - 6s 8ms/step - loss: 0.6201 - accuracy: 0.7471 - val_loss: 0.6387 - val_accuracy: 0.7513\n",
      "Epoch 54/100\n",
      "682/682 [==============================] - 6s 8ms/step - loss: 0.6154 - accuracy: 0.7488 - val_loss: 0.6388 - val_accuracy: 0.7505\n",
      "Epoch 55/100\n",
      "682/682 [==============================] - 6s 8ms/step - loss: 0.6128 - accuracy: 0.7492 - val_loss: 0.6370 - val_accuracy: 0.7523\n",
      "Epoch 56/100\n",
      "682/682 [==============================] - 6s 8ms/step - loss: 0.6108 - accuracy: 0.7520 - val_loss: 0.6376 - val_accuracy: 0.7505\n",
      "Epoch 57/100\n",
      "682/682 [==============================] - 6s 9ms/step - loss: 0.6106 - accuracy: 0.7528 - val_loss: 0.6348 - val_accuracy: 0.7544\n",
      "Epoch 58/100\n",
      "682/682 [==============================] - 6s 8ms/step - loss: 0.6049 - accuracy: 0.7546 - val_loss: 0.6360 - val_accuracy: 0.7528\n",
      "Epoch 59/100\n",
      "682/682 [==============================] - 6s 8ms/step - loss: 0.6026 - accuracy: 0.7564 - val_loss: 0.6341 - val_accuracy: 0.7549\n",
      "Epoch 60/100\n",
      "682/682 [==============================] - 6s 8ms/step - loss: 0.6016 - accuracy: 0.7589 - val_loss: 0.6353 - val_accuracy: 0.7550\n",
      "Epoch 61/100\n",
      "682/682 [==============================] - 6s 8ms/step - loss: 0.5976 - accuracy: 0.7589 - val_loss: 0.6360 - val_accuracy: 0.7520\n",
      "Epoch 62/100\n",
      "682/682 [==============================] - 6s 8ms/step - loss: 0.5980 - accuracy: 0.7592 - val_loss: 0.6331 - val_accuracy: 0.7532\n",
      "Epoch 63/100\n",
      "682/682 [==============================] - 6s 8ms/step - loss: 0.5961 - accuracy: 0.7620 - val_loss: 0.6316 - val_accuracy: 0.7559\n",
      "Epoch 64/100\n",
      "682/682 [==============================] - 6s 8ms/step - loss: 0.5932 - accuracy: 0.7645 - val_loss: 0.6327 - val_accuracy: 0.7552\n",
      "Epoch 65/100\n",
      "682/682 [==============================] - 6s 8ms/step - loss: 0.5929 - accuracy: 0.7629 - val_loss: 0.6306 - val_accuracy: 0.7552\n",
      "Epoch 66/100\n",
      "682/682 [==============================] - 6s 8ms/step - loss: 0.5884 - accuracy: 0.7642 - val_loss: 0.6323 - val_accuracy: 0.7549\n",
      "Epoch 67/100\n",
      "682/682 [==============================] - 6s 8ms/step - loss: 0.5899 - accuracy: 0.7649 - val_loss: 0.6296 - val_accuracy: 0.7565\n",
      "Epoch 68/100\n",
      "682/682 [==============================] - 6s 8ms/step - loss: 0.5881 - accuracy: 0.7669 - val_loss: 0.6293 - val_accuracy: 0.7572\n",
      "Epoch 69/100\n",
      "682/682 [==============================] - 6s 9ms/step - loss: 0.5844 - accuracy: 0.7699 - val_loss: 0.6311 - val_accuracy: 0.7554\n",
      "Epoch 70/100\n",
      "682/682 [==============================] - 6s 8ms/step - loss: 0.5825 - accuracy: 0.7683 - val_loss: 0.6300 - val_accuracy: 0.7566\n",
      "Epoch 71/100\n",
      "682/682 [==============================] - 6s 8ms/step - loss: 0.5796 - accuracy: 0.7698 - val_loss: 0.6294 - val_accuracy: 0.7572\n",
      "Epoch 72/100\n",
      "682/682 [==============================] - 6s 8ms/step - loss: 0.5778 - accuracy: 0.7716 - val_loss: 0.6300 - val_accuracy: 0.7566\n",
      "Epoch 73/100\n",
      "682/682 [==============================] - 6s 8ms/step - loss: 0.5772 - accuracy: 0.7720 - val_loss: 0.6288 - val_accuracy: 0.7562\n",
      "Epoch 74/100\n",
      "682/682 [==============================] - 6s 8ms/step - loss: 0.5732 - accuracy: 0.7745 - val_loss: 0.6260 - val_accuracy: 0.7584\n",
      "Epoch 75/100\n",
      "682/682 [==============================] - 6s 8ms/step - loss: 0.5731 - accuracy: 0.7753 - val_loss: 0.6267 - val_accuracy: 0.7581\n",
      "Epoch 76/100\n",
      "682/682 [==============================] - 6s 8ms/step - loss: 0.5697 - accuracy: 0.7774 - val_loss: 0.6291 - val_accuracy: 0.7558\n",
      "Epoch 77/100\n",
      "682/682 [==============================] - 6s 8ms/step - loss: 0.5703 - accuracy: 0.7777 - val_loss: 0.6277 - val_accuracy: 0.7577\n",
      "Epoch 78/100\n",
      "682/682 [==============================] - 6s 8ms/step - loss: 0.5681 - accuracy: 0.7796 - val_loss: 0.6270 - val_accuracy: 0.7589\n",
      "Epoch 79/100\n",
      "682/682 [==============================] - 6s 8ms/step - loss: 0.5658 - accuracy: 0.7806 - val_loss: 0.6244 - val_accuracy: 0.7604\n",
      "Epoch 80/100\n",
      "682/682 [==============================] - 6s 8ms/step - loss: 0.5667 - accuracy: 0.7801 - val_loss: 0.6260 - val_accuracy: 0.7602\n",
      "Epoch 81/100\n",
      "682/682 [==============================] - 5s 8ms/step - loss: 0.5641 - accuracy: 0.7814 - val_loss: 0.6262 - val_accuracy: 0.7604\n",
      "Epoch 82/100\n",
      "682/682 [==============================] - 6s 8ms/step - loss: 0.5624 - accuracy: 0.7813 - val_loss: 0.6260 - val_accuracy: 0.7609\n",
      "Epoch 83/100\n",
      "682/682 [==============================] - 6s 8ms/step - loss: 0.5579 - accuracy: 0.7856 - val_loss: 0.6228 - val_accuracy: 0.7633\n",
      "Epoch 84/100\n",
      "682/682 [==============================] - 6s 8ms/step - loss: 0.5601 - accuracy: 0.7855 - val_loss: 0.6246 - val_accuracy: 0.7623\n",
      "Epoch 85/100\n",
      "682/682 [==============================] - 6s 8ms/step - loss: 0.5558 - accuracy: 0.7865 - val_loss: 0.6207 - val_accuracy: 0.7645\n",
      "Epoch 86/100\n",
      "682/682 [==============================] - 6s 8ms/step - loss: 0.5553 - accuracy: 0.7888 - val_loss: 0.6232 - val_accuracy: 0.7636\n",
      "Epoch 87/100\n",
      "682/682 [==============================] - 6s 8ms/step - loss: 0.5520 - accuracy: 0.7890 - val_loss: 0.6244 - val_accuracy: 0.7630\n",
      "Epoch 88/100\n",
      "682/682 [==============================] - 6s 8ms/step - loss: 0.5495 - accuracy: 0.7903 - val_loss: 0.6196 - val_accuracy: 0.7651\n",
      "Epoch 89/100\n",
      "682/682 [==============================] - 6s 8ms/step - loss: 0.5502 - accuracy: 0.7887 - val_loss: 0.6211 - val_accuracy: 0.7638\n",
      "Epoch 90/100\n",
      "682/682 [==============================] - 6s 8ms/step - loss: 0.5505 - accuracy: 0.7897 - val_loss: 0.6196 - val_accuracy: 0.7651\n",
      "Epoch 91/100\n",
      "682/682 [==============================] - 6s 8ms/step - loss: 0.5468 - accuracy: 0.7912 - val_loss: 0.6246 - val_accuracy: 0.7623\n",
      "Epoch 92/100\n",
      "682/682 [==============================] - 6s 8ms/step - loss: 0.5465 - accuracy: 0.7918 - val_loss: 0.6205 - val_accuracy: 0.7651\n",
      "Epoch 93/100\n",
      "682/682 [==============================] - 7s 10ms/step - loss: 0.5432 - accuracy: 0.7939 - val_loss: 0.6213 - val_accuracy: 0.7631\n",
      "Epoch 94/100\n",
      "682/682 [==============================] - 7s 10ms/step - loss: 0.5419 - accuracy: 0.7957 - val_loss: 0.6189 - val_accuracy: 0.7666\n",
      "Epoch 95/100\n",
      "682/682 [==============================] - 7s 10ms/step - loss: 0.5423 - accuracy: 0.7937 - val_loss: 0.6205 - val_accuracy: 0.7651\n",
      "Epoch 96/100\n",
      "682/682 [==============================] - 6s 8ms/step - loss: 0.5400 - accuracy: 0.7963 - val_loss: 0.6170 - val_accuracy: 0.7675\n",
      "Epoch 97/100\n",
      "682/682 [==============================] - 6s 9ms/step - loss: 0.5404 - accuracy: 0.7951 - val_loss: 0.6180 - val_accuracy: 0.7665\n",
      "Epoch 98/100\n",
      "682/682 [==============================] - 6s 8ms/step - loss: 0.5398 - accuracy: 0.7947 - val_loss: 0.6195 - val_accuracy: 0.7679\n",
      "Epoch 99/100\n",
      "682/682 [==============================] - 6s 8ms/step - loss: 0.5384 - accuracy: 0.7967 - val_loss: 0.6187 - val_accuracy: 0.7672\n",
      "Epoch 100/100\n",
      "682/682 [==============================] - 6s 8ms/step - loss: 0.5349 - accuracy: 0.7991 - val_loss: 0.6183 - val_accuracy: 0.7654\n",
      "Saved training details to /home/sanjeev/thesis/code/gait-deeplearning/notebooks/../src/../logs/log_90_overlap/history.csv\n",
      "304/304 [==============================] - 2s 7ms/step - loss: 0.5525 - accuracy: 0.7642\n",
      "Saved validation details to /home/sanjeev/thesis/code/gait-deeplearning/notebooks/../src/../logs/log_90_overlap/evaluation.csv\n"
     ]
    },
    {
     "data": {
      "image/png": "[encoded data removed]",
      "text/plain": [
       "<Figure size 432x288 with 1 Axes>"
      ]
     },
     "metadata": {
      "needs_background": "light"
     },
     "output_type": "display_data"
    },
    {
     "data": {
      "image/png": "[encoded data removed]",
      "text/plain": [
       "<Figure size 432x288 with 2 Axes>"
      ]
     },
     "metadata": {
      "needs_background": "light"
     },
     "output_type": "display_data"
    }
   ],
   "source": [
    "overlapPercents = [90]\n",
    "# overlapPercents = [0]\n",
    "# exclude_subjects = ['ddAeJA42PXvwthbW', 'nan', 'LLZjAPTyj7muHsEf',\n",
    "#                     'MMuX9YIh4NTbLZLM', 'cbOZWnI7s1y8oLD4', 'PE8D53oX060qLbdX', 'xYdtS1F8tDyjEIgN', 'sUZBISq61Y7I5tqQ']\n",
    "exclude_subjects = ['ddAeJA42PXvwthbW', 'nan',\n",
    "                    'MMuX9YIh4NTbLZLM',\n",
    "                    'NKdnm6cN3KKAx7R4',\n",
    "                    'PE8D53oX060qLbdX',\n",
    "                    'xYdtS1F8tDyjEIgN',\n",
    "                    'EUbKPOSQgjccjtvi',\n",
    "                    'PE8D53oX060qLbdX',\n",
    "                    'ddAeJA42PXvwthbW',\n",
    "                    'LLZjAPTyj7muHsEf',\n",
    "                    'cbOZWnI7s1y8oLD4',\n",
    "                    'ddAeJA42PXvwthbW',\n",
    "                    '1ZstYhEKzKKfGnMW',\n",
    "                    'LLZjAPTyj7muHsEf',\n",
    "                    'bQsRwKxgJiXTzo6P',\n",
    "                    'sUZBISq61Y7I5tqQ',\n",
    "                    '19AoxD1bgrDckd2p',\n",
    "                    'wtyNo4LYaWXrkzA7',\n",
    "                    ]\n",
    "\n",
    "for OVERLAP_PERCENT in overlapPercents:\n",
    "    gpus = tf.config.list_logical_devices('GPU')\n",
    "    strategy = tf.distribute.MirroredStrategy(gpus)\n",
    "    with strategy.scope():\n",
    "        X, y, subjects = get_overlap_data_all_sessions(OVERLAP_PERCENT)\n",
    "        # REMOVE UNWANTED SUBJECTS\n",
    "        indexes = np.where(subjects == exclude_subjects)\n",
    "        X = np.delete(X, indexes[0], axis=0)\n",
    "        y = np.delete(y, indexes[0], axis=0)\n",
    "        subjects = np.delete(subjects, indexes[0], axis=0)\n",
    "        # END REMOVE UNWANTED SUBJECTS\n",
    "\n",
    "        # AUGMENT DATA\n",
    "        resultant_acc = compute_resultant_acceleration(X)\n",
    "        resultant_gyro = compute_resultant_gyro(X)\n",
    "        resultant_angle = compute_resultant_angle(X)\n",
    "        resultant_acc = resultant_acc.reshape(\n",
    "            resultant_acc.shape[0], resultant_acc.shape[1], 1)\n",
    "        resultant_gyro = resultant_gyro.reshape(\n",
    "            resultant_gyro.shape[0], resultant_gyro.shape[1], 1)\n",
    "        resultant_angle = resultant_angle.reshape(\n",
    "            resultant_angle.shape[0], resultant_angle.shape[1], 1)\n",
    "        X = np.concatenate((X, resultant_acc), axis=2)\n",
    "        X = np.concatenate((X, resultant_gyro), axis=2)\n",
    "        X = np.concatenate((X, resultant_angle), axis=2)\n",
    "        # AUGMENT DATA END\n",
    "\n",
    "        # print('UNIQUE subjects:', np.unique(subjects))\n",
    "        X_train, X_test, y_train, y_test, y_train_non_encoded, y_test_non_encoded = split_test_train_by_subjects(\n",
    "            X, y, subjects, train_percent=0.8)\n",
    "        X_train_stats = get_statistic_feature_all_channels(X_train)\n",
    "        X_test_stats = get_statistic_feature_all_channels(X_test)\n",
    "        print('Statistic feature shape: ', X_train_stats.shape)\n",
    "        model, history = train_model_with_stats(\n",
    "            X_train, y_train, X_test, y_test, X_train_stats, X_test_stats, overlap_percent=OVERLAP_PERCENT, batch_size=128, epochs=100)\n",
    "\n",
    "        save_history(history, OVERLAP_PERCENT)\n",
    "        evaluation_history = model.evaluate(\n",
    "            [X_test, X_test_stats], y_test, batch_size=128, verbose=1)\n",
    "        save_test_history(evaluation_history, OVERLAP_PERCENT)\n",
    "        save_accuracy_loss_figure(history, OVERLAP_PERCENT)\n",
    "        validations, predictions = compute_validations_predictions_with_stats(\n",
    "            model, X_test, y_test, X_test_stats)\n",
    "        save_confusion_matrix_figure(\n",
    "            validations, predictions, OVERLAP_PERCENT, sns)\n"
   ]
  },
  {
   "cell_type": "code",
   "execution_count": 26,
   "metadata": {},
   "outputs": [
    {
     "name": "stdout",
     "output_type": "stream",
     "text": [
      "INFO:tensorflow:Assets written to: final/assets\n"
     ]
    },
    {
     "name": "stderr",
     "output_type": "stream",
     "text": [
      "INFO:tensorflow:Assets written to: final/assets\n"
     ]
    }
   ],
   "source": [
    "model.save('final')"
   ]
  },
  {
   "cell_type": "code",
   "execution_count": 31,
   "metadata": {},
   "outputs": [
    {
     "name": "stdout",
     "output_type": "stream",
     "text": [
      "304/304 [==============================] - 4s 11ms/step - loss: 0.5525 - accuracy: 0.7642\n",
      "Saved validation details to /home/sanjeev/thesis/code/gait-deeplearning/notebooks/../src/../logs/log_90_overlap/evaluation.csv\n"
     ]
    },
    {
     "data": {
      "image/png": "[encoded data removed]",
      "text/plain": [
       "<Figure size 432x288 with 1 Axes>"
      ]
     },
     "metadata": {
      "needs_background": "light"
     },
     "output_type": "display_data"
    },
    {
     "data": {
      "image/png": "[encoded data removed]",
      "text/plain": [
       "<Figure size 432x288 with 2 Axes>"
      ]
     },
     "metadata": {
      "needs_background": "light"
     },
     "output_type": "display_data"
    }
   ],
   "source": [
    "evaluation_history = model.evaluate(\n",
    "            [X_test, X_test_stats], y_test, batch_size=128, verbose=1)\n",
    "save_test_history(evaluation_history, OVERLAP_PERCENT)\n",
    "save_accuracy_loss_figure(history, OVERLAP_PERCENT)\n",
    "validations, predictions = compute_validations_predictions_with_stats(\n",
    "    model, X_test, y_test, X_test_stats)\n",
    "save_confusion_matrix_figure(\n",
    "    validations, predictions, OVERLAP_PERCENT, sns)"
   ]
  },
  {
   "cell_type": "code",
   "execution_count": 27,
   "metadata": {},
   "outputs": [
    {
     "name": "stdout",
     "output_type": "stream",
     "text": [
      "(108973, 128, 12)\n",
      "(108973, 12)\n"
     ]
    }
   ],
   "source": [
    "print(X_train.shape)\n",
    "print(X_train_stats.shape)"
   ]
  },
  {
   "cell_type": "code",
   "execution_count": 28,
   "metadata": {},
   "outputs": [],
   "source": [
    "import tensorflow_model_optimization as tfmot\n"
   ]
  },
  {
   "cell_type": "code",
   "execution_count": 30,
   "metadata": {},
   "outputs": [
    {
     "name": "stdout",
     "output_type": "stream",
     "text": [
      "Model: \"model_1\"\n",
      "__________________________________________________________________________________________________\n",
      " Layer (type)                   Output Shape         Param #     Connected to                     \n",
      "==================================================================================================\n",
      " input_3 (InputLayer)           [(None, 128, 12, 1)  0           []                               \n",
      "                                ]                                                                 \n",
      "                                                                                                  \n",
      " conv2d_3 (Conv2D)              (None, 128, 12, 4)   52          ['input_3[0][0]']                \n",
      "                                                                                                  \n",
      " batch_normalization_3 (BatchNo  (None, 128, 12, 4)  16          ['conv2d_3[0][0]']               \n",
      " rmalization)                                                                                     \n",
      "                                                                                                  \n",
      " activation_3 (Activation)      (None, 128, 12, 4)   0           ['batch_normalization_3[0][0]']  \n",
      "                                                                                                  \n",
      " average_pooling2d_3 (AveragePo  (None, 42, 12, 4)   0           ['activation_3[0][0]']           \n",
      " oling2D)                                                                                         \n",
      "                                                                                                  \n",
      " dropout_4 (Dropout)            (None, 42, 12, 4)    0           ['average_pooling2d_3[0][0]']    \n",
      "                                                                                                  \n",
      " flatten_1 (Flatten)            (None, 2016)         0           ['dropout_4[0][0]']              \n",
      "                                                                                                  \n",
      " input_4 (InputLayer)           [(None, 12)]         0           []                               \n",
      "                                                                                                  \n",
      " concatenate_1 (Concatenate)    (None, 2028)         0           ['flatten_1[0][0]',              \n",
      "                                                                  'input_4[0][0]']                \n",
      "                                                                                                  \n",
      " dense_2 (Dense)                (None, 8)            16232       ['concatenate_1[0][0]']          \n",
      "                                                                                                  \n",
      " dropout_5 (Dropout)            (None, 8)            0           ['dense_2[0][0]']                \n",
      "                                                                                                  \n",
      " dense_3 (Dense)                (None, 6)            54          ['dropout_5[0][0]']              \n",
      "                                                                                                  \n",
      "==================================================================================================\n",
      "Total params: 16,354\n",
      "Trainable params: 16,346\n",
      "Non-trainable params: 8\n",
      "__________________________________________________________________________________________________\n",
      "INFO:tensorflow:Assets written to: /tmp/tmp9zg89khf/assets\n"
     ]
    },
    {
     "name": "stderr",
     "output_type": "stream",
     "text": [
      "INFO:tensorflow:Assets written to: /tmp/tmp9zg89khf/assets\n",
      "WARNING:absl:Buffer deduplication procedure will be skipped when flatbuffer library is not properly loaded\n"
     ]
    },
    {
     "data": {
      "text/plain": [
       "19760"
      ]
     },
     "execution_count": 30,
     "metadata": {},
     "output_type": "execute_result"
    }
   ],
   "source": [
    "keras_model = model\n",
    "model.summary()\n",
    "\n",
    "converter = tf.lite.TFLiteConverter.from_keras_model(model)\n",
    "converter.optimizations = [tf.lite.Optimize.DEFAULT]\n",
    "tflite_quant_model = converter.convert()\n",
    "open('qauntized-model.tflite', 'wb').write(tflite_quant_model)"
   ]
  },
  {
   "cell_type": "code",
   "execution_count": 11,
   "metadata": {},
   "outputs": [
    {
     "name": "stdout",
     "output_type": "stream",
     "text": [
      "(128, 12)\n",
      "(1, 128, 12, 1)\n"
     ]
    }
   ],
   "source": [
    "import random\n",
    "\n",
    "# random integer from 0 to 9\n",
    "def get_random_int():\n",
    "    return random.randint(0, 113210)\n",
    "randomIdx = get_random_int()\n",
    "x_rand = X[randomIdx]\n",
    "print(x_rand.shape)\n",
    "x_rand = x_rand.reshape(-1, x_rand.shape[0], x_rand.shape[1], 1)\n",
    "print(x_rand.shape)\n"
   ]
  },
  {
   "cell_type": "code",
   "execution_count": 12,
   "metadata": {},
   "outputs": [],
   "source": [
    "X_train_reshape = X_train.reshape(-1, X_train.shape[1], X_train.shape[2], 1).astype(np.float32)\n",
    "representative_dataset = X_train_reshape.astype(np.float32)\n",
    "representative_stat_dataset = X_train_stats.astype(np.float32)\n",
    "\n",
    "def representative_dataset_gen():\n",
    "    for _ in range(100):\n",
    "        randomIdx = get_random_int();\n",
    "        data1 = np.array(representative_dataset[randomIdx])\n",
    "        data1 = data1.reshape(-1, data1.shape[0], data1.shape[1], 1)\n",
    "        data2 = np.array(representative_stat_dataset[randomIdx])\n",
    "        data2 = data2.reshape(-1, data2.shape[0])\n",
    "        yield [data1, data2]"
   ]
  },
  {
   "cell_type": "code",
   "execution_count": 32,
   "metadata": {},
   "outputs": [
    {
     "name": "stdout",
     "output_type": "stream",
     "text": [
      "Model: \"model_1\"\n",
      "__________________________________________________________________________________________________\n",
      " Layer (type)                   Output Shape         Param #     Connected to                     \n",
      "==================================================================================================\n",
      " input_3 (InputLayer)           [(None, 128, 12, 1)  0           []                               \n",
      "                                ]                                                                 \n",
      "                                                                                                  \n",
      " conv2d_3 (Conv2D)              (None, 128, 12, 4)   52          ['input_3[0][0]']                \n",
      "                                                                                                  \n",
      " batch_normalization_3 (BatchNo  (None, 128, 12, 4)  16          ['conv2d_3[0][0]']               \n",
      " rmalization)                                                                                     \n",
      "                                                                                                  \n",
      " activation_3 (Activation)      (None, 128, 12, 4)   0           ['batch_normalization_3[0][0]']  \n",
      "                                                                                                  \n",
      " average_pooling2d_3 (AveragePo  (None, 42, 12, 4)   0           ['activation_3[0][0]']           \n",
      " oling2D)                                                                                         \n",
      "                                                                                                  \n",
      " dropout_4 (Dropout)            (None, 42, 12, 4)    0           ['average_pooling2d_3[0][0]']    \n",
      "                                                                                                  \n",
      " flatten_1 (Flatten)            (None, 2016)         0           ['dropout_4[0][0]']              \n",
      "                                                                                                  \n",
      " input_4 (InputLayer)           [(None, 12)]         0           []                               \n",
      "                                                                                                  \n",
      " concatenate_1 (Concatenate)    (None, 2028)         0           ['flatten_1[0][0]',              \n",
      "                                                                  'input_4[0][0]']                \n",
      "                                                                                                  \n",
      " dense_2 (Dense)                (None, 8)            16232       ['concatenate_1[0][0]']          \n",
      "                                                                                                  \n",
      " dropout_5 (Dropout)            (None, 8)            0           ['dense_2[0][0]']                \n",
      "                                                                                                  \n",
      " dense_3 (Dense)                (None, 6)            54          ['dropout_5[0][0]']              \n",
      "                                                                                                  \n",
      "==================================================================================================\n",
      "Total params: 16,354\n",
      "Trainable params: 16,346\n",
      "Non-trainable params: 8\n",
      "__________________________________________________________________________________________________\n",
      "INFO:tensorflow:Assets written to: /tmp/tmpv3g_p4qy/assets\n"
     ]
    },
    {
     "name": "stderr",
     "output_type": "stream",
     "text": [
      "INFO:tensorflow:Assets written to: /tmp/tmpv3g_p4qy/assets\n",
      "WARNING:absl:Buffer deduplication procedure will be skipped when flatbuffer library is not properly loaded\n"
     ]
    },
    {
     "data": {
      "text/plain": [
       "36528"
      ]
     },
     "execution_count": 32,
     "metadata": {},
     "output_type": "execute_result"
    }
   ],
   "source": [
    "keras_model = model\n",
    "model.summary()\n",
    "\n",
    "converter = tf.lite.TFLiteConverter.from_keras_model(model)\n",
    "converter.optimizations = [tf.lite.Optimize.DEFAULT]\n",
    "converter.target_spec.supported_types = [tf.float16]\n",
    "converter.optimizations = [tf.lite.Optimize.DEFAULT]\n",
    "tflite_quant_model = converter.convert()\n",
    "open('float-quantized-model.tflite', 'wb').write(tflite_quant_model)"
   ]
  },
  {
   "cell_type": "code",
   "execution_count": 34,
   "metadata": {},
   "outputs": [],
   "source": [
    "interpreter = tf.lite.Interpreter(model_path=str('float-quantized-model.tflite'))\n",
    "interpreter.allocate_tensors()\n"
   ]
  },
  {
   "cell_type": "code",
   "execution_count": 75,
   "metadata": {},
   "outputs": [
    {
     "name": "stdout",
     "output_type": "stream",
     "text": [
      "(108973, 128, 12, 1)\n",
      "[{'name': 'serving_default_input_4:0', 'index': 0, 'shape': array([ 1, 12], dtype=int32), 'shape_signature': array([-1, 12], dtype=int32), 'dtype': <class 'numpy.float32'>, 'quantization': (0.0, 0), 'quantization_parameters': {'scales': array([], dtype=float32), 'zero_points': array([], dtype=int32), 'quantized_dimension': 0}, 'sparsity_parameters': {}}, {'name': 'serving_default_input_3:0', 'index': 1, 'shape': array([  1, 128,  12,   1], dtype=int32), 'shape_signature': array([ -1, 128,  12,   1], dtype=int32), 'dtype': <class 'numpy.float32'>, 'quantization': (0.0, 0), 'quantization_parameters': {'scales': array([], dtype=float32), 'zero_points': array([], dtype=int32), 'quantized_dimension': 0}, 'sparsity_parameters': {}}]\n",
      "\n",
      " [{'name': 'StatefulPartitionedCall:0', 'index': 15, 'shape': array([1, 6], dtype=int32), 'shape_signature': array([-1,  6], dtype=int32), 'dtype': <class 'numpy.float32'>, 'quantization': (0.0, 0), 'quantization_parameters': {'scales': array([], dtype=float32), 'zero_points': array([], dtype=int32), 'quantized_dimension': 0}, 'sparsity_parameters': {}}] \n",
      "\n"
     ]
    }
   ],
   "source": [
    "X_train_reshape = X_train.reshape(-1, X_train.shape[1], X_train.shape[2], 1).astype(np.float32)\n",
    "print(X_train_reshape.shape)\n",
    "X_tensor = np.array([X_train_reshape[9000]]).astype(np.float32)\n",
    "X_stat_tensor = np.array([X_train_stats[9000]]).astype(np.float32)\n",
    "print(interpreter.get_input_details())\n",
    "\n",
    "input_details = interpreter.get_input_details()\n",
    "print('\\n',interpreter.get_output_details(), '\\n')\n",
    "output_index = interpreter.get_output_details()[0][\"index\"]\n",
    "\n",
    "interpreter.set_tensor(input_details[0]['index'], X_stat_tensor)\n",
    "interpreter.set_tensor(input_details[1]['index'], X_tensor)\n",
    "\n",
    "interpreter.invoke()\n",
    "predictions = interpreter.get_tensor(output_index)\n"
   ]
  },
  {
   "cell_type": "code",
   "execution_count": 73,
   "metadata": {},
   "outputs": [
    {
     "name": "stdout",
     "output_type": "stream",
     "text": [
      "3\n",
      "[0. 0. 0. 1. 0. 0.]\n"
     ]
    }
   ],
   "source": [
    "print(np.argmax(predictions[0]))\n",
    "print(y_train[9000])"
   ]
  },
  {
   "cell_type": "code",
   "execution_count": 13,
   "metadata": {},
   "outputs": [
    {
     "name": "stdout",
     "output_type": "stream",
     "text": [
      "INFO:tensorflow:Assets written to: /tmp/tmplyne7abx/assets\n"
     ]
    },
    {
     "name": "stderr",
     "output_type": "stream",
     "text": [
      "INFO:tensorflow:Assets written to: /tmp/tmplyne7abx/assets\n",
      "WARNING:absl:Buffer deduplication procedure will be skipped when flatbuffer library is not properly loaded\n"
     ]
    },
    {
     "name": "stdout",
     "output_type": "stream",
     "text": [
      "INFO:tensorflow:Assets written to: /tmp/tmpz_tu5v0w/assets\n"
     ]
    },
    {
     "name": "stderr",
     "output_type": "stream",
     "text": [
      "INFO:tensorflow:Assets written to: /tmp/tmpz_tu5v0w/assets\n",
      "/home/sanjeev/.local/lib/python3.9/site-packages/tensorflow/lite/python/convert.py:746: UserWarning: Statistics for quantized inputs were expected, but not specified; continuing anyway.\n",
      "  warnings.warn(\"Statistics for quantized inputs were expected, but not \"\n"
     ]
    },
    {
     "ename": "RuntimeError",
     "evalue": "tensorflow/lite/kernels/conv.cc:346 input->dims->size != 4 (2 != 4)Node number 0 (CONV_2D) failed to prepare.",
     "output_type": "error",
     "traceback": [
      "\u001b[0;31m---------------------------------------------------------------------------\u001b[0m",
      "\u001b[0;31mRuntimeError\u001b[0m                              Traceback (most recent call last)",
      "\u001b[0;32m<ipython-input-13-bf1e84573e2e>\u001b[0m in \u001b[0;36m<module>\u001b[0;34m\u001b[0m\n\u001b[1;32m     13\u001b[0m \u001b[0mconverter\u001b[0m\u001b[0;34m.\u001b[0m\u001b[0minference_input_type\u001b[0m \u001b[0;34m=\u001b[0m \u001b[0mtf\u001b[0m\u001b[0;34m.\u001b[0m\u001b[0mint8\u001b[0m  \u001b[0;31m# or tf.uint8\u001b[0m\u001b[0;34m\u001b[0m\u001b[0;34m\u001b[0m\u001b[0m\n\u001b[1;32m     14\u001b[0m \u001b[0mconverter\u001b[0m\u001b[0;34m.\u001b[0m\u001b[0minference_output_type\u001b[0m \u001b[0;34m=\u001b[0m \u001b[0mtf\u001b[0m\u001b[0;34m.\u001b[0m\u001b[0mint8\u001b[0m  \u001b[0;31m# or tf.uint8\u001b[0m\u001b[0;34m\u001b[0m\u001b[0;34m\u001b[0m\u001b[0m\n\u001b[0;32m---> 15\u001b[0;31m \u001b[0mtflite_quantized_model\u001b[0m \u001b[0;34m=\u001b[0m \u001b[0mconverter\u001b[0m\u001b[0;34m.\u001b[0m\u001b[0mconvert\u001b[0m\u001b[0;34m(\u001b[0m\u001b[0;34m)\u001b[0m\u001b[0;34m\u001b[0m\u001b[0;34m\u001b[0m\u001b[0m\n\u001b[0m\u001b[1;32m     16\u001b[0m \u001b[0;34m\u001b[0m\u001b[0m\n\u001b[1;32m     17\u001b[0m \u001b[0mopen\u001b[0m\u001b[0;34m(\u001b[0m\u001b[0mquantized_model_name\u001b[0m\u001b[0;34m,\u001b[0m \u001b[0;34m\"wb\"\u001b[0m\u001b[0;34m)\u001b[0m\u001b[0;34m.\u001b[0m\u001b[0mwrite\u001b[0m\u001b[0;34m(\u001b[0m\u001b[0mtflite_model\u001b[0m\u001b[0;34m)\u001b[0m\u001b[0;34m\u001b[0m\u001b[0;34m\u001b[0m\u001b[0m\n",
      "\u001b[0;32m~/.local/lib/python3.9/site-packages/tensorflow/lite/python/lite.py\u001b[0m in \u001b[0;36mwrapper\u001b[0;34m(self, *args, **kwargs)\u001b[0m\n\u001b[1;32m    801\u001b[0m   \u001b[0;32mdef\u001b[0m \u001b[0mwrapper\u001b[0m\u001b[0;34m(\u001b[0m\u001b[0mself\u001b[0m\u001b[0;34m,\u001b[0m \u001b[0;34m*\u001b[0m\u001b[0margs\u001b[0m\u001b[0;34m,\u001b[0m \u001b[0;34m**\u001b[0m\u001b[0mkwargs\u001b[0m\u001b[0;34m)\u001b[0m\u001b[0;34m:\u001b[0m\u001b[0;34m\u001b[0m\u001b[0;34m\u001b[0m\u001b[0m\n\u001b[1;32m    802\u001b[0m     \u001b[0;31m# pylint: disable=protected-access\u001b[0m\u001b[0;34m\u001b[0m\u001b[0;34m\u001b[0m\u001b[0m\n\u001b[0;32m--> 803\u001b[0;31m     \u001b[0;32mreturn\u001b[0m \u001b[0mself\u001b[0m\u001b[0;34m.\u001b[0m\u001b[0m_convert_and_export_metrics\u001b[0m\u001b[0;34m(\u001b[0m\u001b[0mconvert_func\u001b[0m\u001b[0;34m,\u001b[0m \u001b[0;34m*\u001b[0m\u001b[0margs\u001b[0m\u001b[0;34m,\u001b[0m \u001b[0;34m**\u001b[0m\u001b[0mkwargs\u001b[0m\u001b[0;34m)\u001b[0m\u001b[0;34m\u001b[0m\u001b[0;34m\u001b[0m\u001b[0m\n\u001b[0m\u001b[1;32m    804\u001b[0m     \u001b[0;31m# pylint: enable=protected-access\u001b[0m\u001b[0;34m\u001b[0m\u001b[0;34m\u001b[0m\u001b[0m\n\u001b[1;32m    805\u001b[0m \u001b[0;34m\u001b[0m\u001b[0m\n",
      "\u001b[0;32m~/.local/lib/python3.9/site-packages/tensorflow/lite/python/lite.py\u001b[0m in \u001b[0;36m_convert_and_export_metrics\u001b[0;34m(self, convert_func, *args, **kwargs)\u001b[0m\n\u001b[1;32m    787\u001b[0m     \u001b[0mself\u001b[0m\u001b[0;34m.\u001b[0m\u001b[0m_save_conversion_params_metric\u001b[0m\u001b[0;34m(\u001b[0m\u001b[0;34m)\u001b[0m\u001b[0;34m\u001b[0m\u001b[0;34m\u001b[0m\u001b[0m\n\u001b[1;32m    788\u001b[0m     \u001b[0mstart_time\u001b[0m \u001b[0;34m=\u001b[0m \u001b[0mtime\u001b[0m\u001b[0;34m.\u001b[0m\u001b[0mprocess_time\u001b[0m\u001b[0;34m(\u001b[0m\u001b[0;34m)\u001b[0m\u001b[0;34m\u001b[0m\u001b[0;34m\u001b[0m\u001b[0m\n\u001b[0;32m--> 789\u001b[0;31m     \u001b[0mresult\u001b[0m \u001b[0;34m=\u001b[0m \u001b[0mconvert_func\u001b[0m\u001b[0;34m(\u001b[0m\u001b[0mself\u001b[0m\u001b[0;34m,\u001b[0m \u001b[0;34m*\u001b[0m\u001b[0margs\u001b[0m\u001b[0;34m,\u001b[0m \u001b[0;34m**\u001b[0m\u001b[0mkwargs\u001b[0m\u001b[0;34m)\u001b[0m\u001b[0;34m\u001b[0m\u001b[0;34m\u001b[0m\u001b[0m\n\u001b[0m\u001b[1;32m    790\u001b[0m     \u001b[0melapsed_time_ms\u001b[0m \u001b[0;34m=\u001b[0m \u001b[0;34m(\u001b[0m\u001b[0mtime\u001b[0m\u001b[0;34m.\u001b[0m\u001b[0mprocess_time\u001b[0m\u001b[0;34m(\u001b[0m\u001b[0;34m)\u001b[0m \u001b[0;34m-\u001b[0m \u001b[0mstart_time\u001b[0m\u001b[0;34m)\u001b[0m \u001b[0;34m*\u001b[0m \u001b[0;36m1000\u001b[0m\u001b[0;34m\u001b[0m\u001b[0;34m\u001b[0m\u001b[0m\n\u001b[1;32m    791\u001b[0m     \u001b[0;32mif\u001b[0m \u001b[0mresult\u001b[0m\u001b[0;34m:\u001b[0m\u001b[0;34m\u001b[0m\u001b[0;34m\u001b[0m\u001b[0m\n",
      "\u001b[0;32m~/.local/lib/python3.9/site-packages/tensorflow/lite/python/lite.py\u001b[0m in \u001b[0;36mconvert\u001b[0;34m(self)\u001b[0m\n\u001b[1;32m   1208\u001b[0m         \u001b[0mInvalid\u001b[0m \u001b[0mquantization\u001b[0m \u001b[0mparameters\u001b[0m\u001b[0;34m.\u001b[0m\u001b[0;34m\u001b[0m\u001b[0;34m\u001b[0m\u001b[0m\n\u001b[1;32m   1209\u001b[0m     \"\"\"\n\u001b[0;32m-> 1210\u001b[0;31m     \u001b[0msaved_model_convert_result\u001b[0m \u001b[0;34m=\u001b[0m \u001b[0mself\u001b[0m\u001b[0;34m.\u001b[0m\u001b[0m_convert_as_saved_model\u001b[0m\u001b[0;34m(\u001b[0m\u001b[0;34m)\u001b[0m\u001b[0;34m\u001b[0m\u001b[0;34m\u001b[0m\u001b[0m\n\u001b[0m\u001b[1;32m   1211\u001b[0m     \u001b[0;32mif\u001b[0m \u001b[0msaved_model_convert_result\u001b[0m\u001b[0;34m:\u001b[0m\u001b[0;34m\u001b[0m\u001b[0;34m\u001b[0m\u001b[0m\n\u001b[1;32m   1212\u001b[0m       \u001b[0;32mreturn\u001b[0m \u001b[0msaved_model_convert_result\u001b[0m\u001b[0;34m\u001b[0m\u001b[0;34m\u001b[0m\u001b[0m\n",
      "\u001b[0;32m~/.local/lib/python3.9/site-packages/tensorflow/lite/python/lite.py\u001b[0m in \u001b[0;36m_convert_as_saved_model\u001b[0;34m(self)\u001b[0m\n\u001b[1;32m   1190\u001b[0m           self._convert_keras_to_saved_model(temp_dir))\n\u001b[1;32m   1191\u001b[0m       \u001b[0;32mif\u001b[0m \u001b[0mself\u001b[0m\u001b[0;34m.\u001b[0m\u001b[0msaved_model_dir\u001b[0m\u001b[0;34m:\u001b[0m\u001b[0;34m\u001b[0m\u001b[0;34m\u001b[0m\u001b[0m\n\u001b[0;32m-> 1192\u001b[0;31m         return super(TFLiteKerasModelConverterV2,\n\u001b[0m\u001b[1;32m   1193\u001b[0m                      self).convert(graph_def, input_tensors, output_tensors)\n\u001b[1;32m   1194\u001b[0m     \u001b[0;32mfinally\u001b[0m\u001b[0;34m:\u001b[0m\u001b[0;34m\u001b[0m\u001b[0;34m\u001b[0m\u001b[0m\n",
      "\u001b[0;32m~/.local/lib/python3.9/site-packages/tensorflow/lite/python/lite.py\u001b[0m in \u001b[0;36mconvert\u001b[0;34m(self, graph_def, input_tensors, output_tensors)\u001b[0m\n\u001b[1;32m   1007\u001b[0m         **converter_kwargs)\n\u001b[1;32m   1008\u001b[0m \u001b[0;34m\u001b[0m\u001b[0m\n\u001b[0;32m-> 1009\u001b[0;31m     return self._optimize_tflite_model(\n\u001b[0m\u001b[1;32m   1010\u001b[0m         result, self._quant_mode, quant_io=self.experimental_new_quantizer)\n\u001b[1;32m   1011\u001b[0m \u001b[0;34m\u001b[0m\u001b[0m\n",
      "\u001b[0;32m~/.local/lib/python3.9/site-packages/tensorflow/lite/python/convert_phase.py\u001b[0m in \u001b[0;36mwrapper\u001b[0;34m(*args, **kwargs)\u001b[0m\n\u001b[1;32m    214\u001b[0m       \u001b[0;32mexcept\u001b[0m \u001b[0mException\u001b[0m \u001b[0;32mas\u001b[0m \u001b[0merror\u001b[0m\u001b[0;34m:\u001b[0m\u001b[0;34m\u001b[0m\u001b[0;34m\u001b[0m\u001b[0m\n\u001b[1;32m    215\u001b[0m         \u001b[0mreport_error_message\u001b[0m\u001b[0;34m(\u001b[0m\u001b[0mstr\u001b[0m\u001b[0;34m(\u001b[0m\u001b[0merror\u001b[0m\u001b[0;34m)\u001b[0m\u001b[0;34m)\u001b[0m\u001b[0;34m\u001b[0m\u001b[0;34m\u001b[0m\u001b[0m\n\u001b[0;32m--> 216\u001b[0;31m         \u001b[0;32mraise\u001b[0m \u001b[0merror\u001b[0m \u001b[0;32mfrom\u001b[0m \u001b[0;32mNone\u001b[0m  \u001b[0;31m# Re-throws the exception.\u001b[0m\u001b[0;34m\u001b[0m\u001b[0;34m\u001b[0m\u001b[0m\n\u001b[0m\u001b[1;32m    217\u001b[0m \u001b[0;34m\u001b[0m\u001b[0m\n\u001b[1;32m    218\u001b[0m     \u001b[0;32mreturn\u001b[0m \u001b[0mwrapper\u001b[0m\u001b[0;34m\u001b[0m\u001b[0;34m\u001b[0m\u001b[0m\n",
      "\u001b[0;32m~/.local/lib/python3.9/site-packages/tensorflow/lite/python/convert_phase.py\u001b[0m in \u001b[0;36mwrapper\u001b[0;34m(*args, **kwargs)\u001b[0m\n\u001b[1;32m    204\u001b[0m     \u001b[0;32mdef\u001b[0m \u001b[0mwrapper\u001b[0m\u001b[0;34m(\u001b[0m\u001b[0;34m*\u001b[0m\u001b[0margs\u001b[0m\u001b[0;34m,\u001b[0m \u001b[0;34m**\u001b[0m\u001b[0mkwargs\u001b[0m\u001b[0;34m)\u001b[0m\u001b[0;34m:\u001b[0m\u001b[0;34m\u001b[0m\u001b[0;34m\u001b[0m\u001b[0m\n\u001b[1;32m    205\u001b[0m       \u001b[0;32mtry\u001b[0m\u001b[0;34m:\u001b[0m\u001b[0;34m\u001b[0m\u001b[0;34m\u001b[0m\u001b[0m\n\u001b[0;32m--> 206\u001b[0;31m         \u001b[0;32mreturn\u001b[0m \u001b[0mfunc\u001b[0m\u001b[0;34m(\u001b[0m\u001b[0;34m*\u001b[0m\u001b[0margs\u001b[0m\u001b[0;34m,\u001b[0m \u001b[0;34m**\u001b[0m\u001b[0mkwargs\u001b[0m\u001b[0;34m)\u001b[0m\u001b[0;34m\u001b[0m\u001b[0;34m\u001b[0m\u001b[0m\n\u001b[0m\u001b[1;32m    207\u001b[0m       \u001b[0;32mexcept\u001b[0m \u001b[0mConverterError\u001b[0m \u001b[0;32mas\u001b[0m \u001b[0mconverter_error\u001b[0m\u001b[0;34m:\u001b[0m\u001b[0;34m\u001b[0m\u001b[0;34m\u001b[0m\u001b[0m\n\u001b[1;32m    208\u001b[0m         \u001b[0;32mif\u001b[0m \u001b[0mconverter_error\u001b[0m\u001b[0;34m.\u001b[0m\u001b[0merrors\u001b[0m\u001b[0;34m:\u001b[0m\u001b[0;34m\u001b[0m\u001b[0;34m\u001b[0m\u001b[0m\n",
      "\u001b[0;32m~/.local/lib/python3.9/site-packages/tensorflow/lite/python/lite.py\u001b[0m in \u001b[0;36m_optimize_tflite_model\u001b[0;34m(self, model, quant_mode, quant_io)\u001b[0m\n\u001b[1;32m    747\u001b[0m         \u001b[0mq_activations_type\u001b[0m \u001b[0;34m=\u001b[0m \u001b[0mquant_mode\u001b[0m\u001b[0;34m.\u001b[0m\u001b[0mactivations_type\u001b[0m\u001b[0;34m(\u001b[0m\u001b[0;34m)\u001b[0m\u001b[0;34m\u001b[0m\u001b[0;34m\u001b[0m\u001b[0m\n\u001b[1;32m    748\u001b[0m         \u001b[0mq_allow_float\u001b[0m \u001b[0;34m=\u001b[0m \u001b[0mquant_mode\u001b[0m\u001b[0;34m.\u001b[0m\u001b[0mis_allow_float\u001b[0m\u001b[0;34m(\u001b[0m\u001b[0;34m)\u001b[0m\u001b[0;34m\u001b[0m\u001b[0;34m\u001b[0m\u001b[0m\n\u001b[0;32m--> 749\u001b[0;31m         model = self._quantize(\n\u001b[0m\u001b[1;32m    750\u001b[0m             model, q_in_type, q_out_type, q_activations_type, q_allow_float)\n\u001b[1;32m    751\u001b[0m \u001b[0;34m\u001b[0m\u001b[0m\n",
      "\u001b[0;32m~/.local/lib/python3.9/site-packages/tensorflow/lite/python/lite.py\u001b[0m in \u001b[0;36m_quantize\u001b[0;34m(self, result, input_type, output_type, activations_type, allow_float)\u001b[0m\n\u001b[1;32m    553\u001b[0m                                                 custom_op_registerers_by_func)\n\u001b[1;32m    554\u001b[0m     \u001b[0;32mif\u001b[0m \u001b[0mself\u001b[0m\u001b[0;34m.\u001b[0m\u001b[0m_experimental_calibrate_only\u001b[0m \u001b[0;32mor\u001b[0m \u001b[0mself\u001b[0m\u001b[0;34m.\u001b[0m\u001b[0mexperimental_new_quantizer\u001b[0m\u001b[0;34m:\u001b[0m\u001b[0;34m\u001b[0m\u001b[0;34m\u001b[0m\u001b[0m\n\u001b[0;32m--> 555\u001b[0;31m       calibrated = calibrate_quantize.calibrate(\n\u001b[0m\u001b[1;32m    556\u001b[0m           self.representative_dataset.input_gen)\n\u001b[1;32m    557\u001b[0m \u001b[0;34m\u001b[0m\u001b[0m\n",
      "\u001b[0;32m~/.local/lib/python3.9/site-packages/tensorflow/lite/python/convert_phase.py\u001b[0m in \u001b[0;36mwrapper\u001b[0;34m(*args, **kwargs)\u001b[0m\n\u001b[1;32m    214\u001b[0m       \u001b[0;32mexcept\u001b[0m \u001b[0mException\u001b[0m \u001b[0;32mas\u001b[0m \u001b[0merror\u001b[0m\u001b[0;34m:\u001b[0m\u001b[0;34m\u001b[0m\u001b[0;34m\u001b[0m\u001b[0m\n\u001b[1;32m    215\u001b[0m         \u001b[0mreport_error_message\u001b[0m\u001b[0;34m(\u001b[0m\u001b[0mstr\u001b[0m\u001b[0;34m(\u001b[0m\u001b[0merror\u001b[0m\u001b[0;34m)\u001b[0m\u001b[0;34m)\u001b[0m\u001b[0;34m\u001b[0m\u001b[0;34m\u001b[0m\u001b[0m\n\u001b[0;32m--> 216\u001b[0;31m         \u001b[0;32mraise\u001b[0m \u001b[0merror\u001b[0m \u001b[0;32mfrom\u001b[0m \u001b[0;32mNone\u001b[0m  \u001b[0;31m# Re-throws the exception.\u001b[0m\u001b[0;34m\u001b[0m\u001b[0;34m\u001b[0m\u001b[0m\n\u001b[0m\u001b[1;32m    217\u001b[0m \u001b[0;34m\u001b[0m\u001b[0m\n\u001b[1;32m    218\u001b[0m     \u001b[0;32mreturn\u001b[0m \u001b[0mwrapper\u001b[0m\u001b[0;34m\u001b[0m\u001b[0;34m\u001b[0m\u001b[0m\n",
      "\u001b[0;32m~/.local/lib/python3.9/site-packages/tensorflow/lite/python/convert_phase.py\u001b[0m in \u001b[0;36mwrapper\u001b[0;34m(*args, **kwargs)\u001b[0m\n\u001b[1;32m    204\u001b[0m     \u001b[0;32mdef\u001b[0m \u001b[0mwrapper\u001b[0m\u001b[0;34m(\u001b[0m\u001b[0;34m*\u001b[0m\u001b[0margs\u001b[0m\u001b[0;34m,\u001b[0m \u001b[0;34m**\u001b[0m\u001b[0mkwargs\u001b[0m\u001b[0;34m)\u001b[0m\u001b[0;34m:\u001b[0m\u001b[0;34m\u001b[0m\u001b[0;34m\u001b[0m\u001b[0m\n\u001b[1;32m    205\u001b[0m       \u001b[0;32mtry\u001b[0m\u001b[0;34m:\u001b[0m\u001b[0;34m\u001b[0m\u001b[0;34m\u001b[0m\u001b[0m\n\u001b[0;32m--> 206\u001b[0;31m         \u001b[0;32mreturn\u001b[0m \u001b[0mfunc\u001b[0m\u001b[0;34m(\u001b[0m\u001b[0;34m*\u001b[0m\u001b[0margs\u001b[0m\u001b[0;34m,\u001b[0m \u001b[0;34m**\u001b[0m\u001b[0mkwargs\u001b[0m\u001b[0;34m)\u001b[0m\u001b[0;34m\u001b[0m\u001b[0;34m\u001b[0m\u001b[0m\n\u001b[0m\u001b[1;32m    207\u001b[0m       \u001b[0;32mexcept\u001b[0m \u001b[0mConverterError\u001b[0m \u001b[0;32mas\u001b[0m \u001b[0mconverter_error\u001b[0m\u001b[0;34m:\u001b[0m\u001b[0;34m\u001b[0m\u001b[0;34m\u001b[0m\u001b[0m\n\u001b[1;32m    208\u001b[0m         \u001b[0;32mif\u001b[0m \u001b[0mconverter_error\u001b[0m\u001b[0;34m.\u001b[0m\u001b[0merrors\u001b[0m\u001b[0;34m:\u001b[0m\u001b[0;34m\u001b[0m\u001b[0;34m\u001b[0m\u001b[0m\n",
      "\u001b[0;32m~/.local/lib/python3.9/site-packages/tensorflow/lite/python/optimize/calibrator.py\u001b[0m in \u001b[0;36mcalibrate\u001b[0;34m(self, dataset_gen)\u001b[0m\n\u001b[1;32m    222\u001b[0m       \u001b[0mdataset_gen\u001b[0m\u001b[0;34m:\u001b[0m \u001b[0mA\u001b[0m \u001b[0mgenerator\u001b[0m \u001b[0mthat\u001b[0m \u001b[0mgenerates\u001b[0m \u001b[0mcalibration\u001b[0m \u001b[0msamples\u001b[0m\u001b[0;34m.\u001b[0m\u001b[0;34m\u001b[0m\u001b[0;34m\u001b[0m\u001b[0m\n\u001b[1;32m    223\u001b[0m     \"\"\"\n\u001b[0;32m--> 224\u001b[0;31m     \u001b[0mself\u001b[0m\u001b[0;34m.\u001b[0m\u001b[0m_feed_tensors\u001b[0m\u001b[0;34m(\u001b[0m\u001b[0mdataset_gen\u001b[0m\u001b[0;34m,\u001b[0m \u001b[0mresize_input\u001b[0m\u001b[0;34m=\u001b[0m\u001b[0;32mTrue\u001b[0m\u001b[0;34m)\u001b[0m\u001b[0;34m\u001b[0m\u001b[0;34m\u001b[0m\u001b[0m\n\u001b[0m\u001b[1;32m    225\u001b[0m     \u001b[0;32mreturn\u001b[0m \u001b[0mself\u001b[0m\u001b[0;34m.\u001b[0m\u001b[0m_calibrator\u001b[0m\u001b[0;34m.\u001b[0m\u001b[0mCalibrate\u001b[0m\u001b[0;34m(\u001b[0m\u001b[0;34m)\u001b[0m\u001b[0;34m\u001b[0m\u001b[0;34m\u001b[0m\u001b[0m\n",
      "\u001b[0;32m~/.local/lib/python3.9/site-packages/tensorflow/lite/python/optimize/calibrator.py\u001b[0m in \u001b[0;36m_feed_tensors\u001b[0;34m(self, dataset_gen, resize_input)\u001b[0m\n\u001b[1;32m    127\u001b[0m                                      signature_key)\n\u001b[1;32m    128\u001b[0m           \u001b[0;32melse\u001b[0m\u001b[0;34m:\u001b[0m\u001b[0;34m\u001b[0m\u001b[0;34m\u001b[0m\u001b[0m\n\u001b[0;32m--> 129\u001b[0;31m             \u001b[0mself\u001b[0m\u001b[0;34m.\u001b[0m\u001b[0m_calibrator\u001b[0m\u001b[0;34m.\u001b[0m\u001b[0mPrepare\u001b[0m\u001b[0;34m(\u001b[0m\u001b[0;34m[\u001b[0m\u001b[0mlist\u001b[0m\u001b[0;34m(\u001b[0m\u001b[0ms\u001b[0m\u001b[0;34m.\u001b[0m\u001b[0mshape\u001b[0m\u001b[0;34m)\u001b[0m \u001b[0;32mfor\u001b[0m \u001b[0ms\u001b[0m \u001b[0;32min\u001b[0m \u001b[0minput_array\u001b[0m\u001b[0;34m]\u001b[0m\u001b[0;34m)\u001b[0m\u001b[0;34m\u001b[0m\u001b[0;34m\u001b[0m\u001b[0m\n\u001b[0m\u001b[1;32m    130\u001b[0m         \u001b[0;32melse\u001b[0m\u001b[0;34m:\u001b[0m\u001b[0;34m\u001b[0m\u001b[0;34m\u001b[0m\u001b[0m\n\u001b[1;32m    131\u001b[0m           \u001b[0;32mif\u001b[0m \u001b[0msignature_key\u001b[0m \u001b[0;32mis\u001b[0m \u001b[0;32mnot\u001b[0m \u001b[0;32mNone\u001b[0m\u001b[0;34m:\u001b[0m\u001b[0;34m\u001b[0m\u001b[0;34m\u001b[0m\u001b[0m\n",
      "\u001b[0;31mRuntimeError\u001b[0m: tensorflow/lite/kernels/conv.cc:346 input->dims->size != 4 (2 != 4)Node number 0 (CONV_2D) failed to prepare."
     ]
    }
   ],
   "source": [
    "\n"
   ]
  },
  {
   "cell_type": "code",
   "execution_count": 25,
   "metadata": {},
   "outputs": [
    {
     "ename": "ValueError",
     "evalue": "Could not open './notebooks/optimized_model.tflite'.",
     "output_type": "error",
     "traceback": [
      "\u001b[0;31m---------------------------------------------------------------------------\u001b[0m",
      "\u001b[0;31mValueError\u001b[0m                                Traceback (most recent call last)",
      "\u001b[0;32m<ipython-input-25-fe3cddeab11b>\u001b[0m in \u001b[0;36m<module>\u001b[0;34m\u001b[0m\n\u001b[0;32m----> 1\u001b[0;31m \u001b[0minterpreter\u001b[0m \u001b[0;34m=\u001b[0m \u001b[0mtf\u001b[0m\u001b[0;34m.\u001b[0m\u001b[0mlite\u001b[0m\u001b[0;34m.\u001b[0m\u001b[0mInterpreter\u001b[0m\u001b[0;34m(\u001b[0m\u001b[0mmodel_path\u001b[0m\u001b[0;34m=\u001b[0m\u001b[0mstr\u001b[0m\u001b[0;34m(\u001b[0m\u001b[0;34m'./notebooks/optimized_model.tflite'\u001b[0m\u001b[0;34m)\u001b[0m\u001b[0;34m)\u001b[0m\u001b[0;34m\u001b[0m\u001b[0;34m\u001b[0m\u001b[0m\n\u001b[0m",
      "\u001b[0;32m~/.local/lib/python3.9/site-packages/tensorflow/lite/python/interpreter.py\u001b[0m in \u001b[0;36m__init__\u001b[0;34m(self, model_path, model_content, experimental_delegates, num_threads, experimental_op_resolver_type, experimental_preserve_all_tensors)\u001b[0m\n\u001b[1;32m    454\u001b[0m       ]\n\u001b[1;32m    455\u001b[0m       self._interpreter = (\n\u001b[0;32m--> 456\u001b[0;31m           _interpreter_wrapper.CreateWrapperFromFile(\n\u001b[0m\u001b[1;32m    457\u001b[0m               \u001b[0mmodel_path\u001b[0m\u001b[0;34m,\u001b[0m \u001b[0mop_resolver_id\u001b[0m\u001b[0;34m,\u001b[0m \u001b[0mcustom_op_registerers_by_name\u001b[0m\u001b[0;34m,\u001b[0m\u001b[0;34m\u001b[0m\u001b[0;34m\u001b[0m\u001b[0m\n\u001b[1;32m    458\u001b[0m               custom_op_registerers_by_func, experimental_preserve_all_tensors))\n",
      "\u001b[0;31mValueError\u001b[0m: Could not open './notebooks/optimized_model.tflite'."
     ]
    }
   ],
   "source": [
    "interpreter = tf.lite.Interpreter(model_path=str('./notebooks/optimized_model.tflite'))"
   ]
  }
 ],
 "metadata": {
  "interpreter": {
   "hash": "bb44b4e6cc691712e826bba4e724ba947229be6916e0acb92c0db1c9ddbd3c7a"
  },
  "kernelspec": {
   "display_name": "Python 3.9.7 ('thesis')",
   "language": "python",
   "name": "python3"
  },
  "language_info": {
   "codemirror_mode": {
    "name": "ipython",
    "version": 3
   },
   "file_extension": ".py",
   "mimetype": "text/x-python",
   "name": "python",
   "nbconvert_exporter": "python",
   "pygments_lexer": "ipython3",
   "version": "3.9.7"
  },
  "orig_nbformat": 4
 },
 "nbformat": 4,
 "nbformat_minor": 2
}
