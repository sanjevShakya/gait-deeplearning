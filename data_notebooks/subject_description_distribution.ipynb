{
 "cells": [
  {
   "cell_type": "code",
   "execution_count": 7,
   "metadata": {},
   "outputs": [],
   "source": [
    "import numpy as np\n",
    "from matplotlib import pyplot as plt\n",
    "%matplotlib inline\n",
    "# import seaborn as sns\n",
    "import numpy as np\n",
    "import pandas as pd"
   ]
  },
  {
   "cell_type": "code",
   "execution_count": 8,
   "metadata": {},
   "outputs": [],
   "source": [
    "subjects = [{\"age\":29,\"firstname\":\"Kim\",\"lastname\":\"Tupaz\",\"height\":153,\"weight\":55,\"_id\":\"0DXZFsYOfgqsYe0Z\"},\n",
    "{\"age\":37,\"firstname\":\"Premma\",\"lastname\":\"Rao\",\"height\":168,\"weight\":58,\"_id\":\"0UXFxu10k0En1vDK\"},\n",
    "{\"age\":31,\"firstname\":\"Mofasser\",\"lastname\":\"Rahman\",\"height\":176,\"weight\":73,\"_id\":\"19AoxD1bgrDckd2p\"},\n",
    "{\"age\":29,\"firstname\":\"Kalana\",\"lastname\":\"Jayarathna\",\"height\":171,\"weight\":89,\"_id\":\"1ZstYhEKzKKfGnMW\"},\n",
    "{\"age\":24,\"firstname\":\"Ayush\",\"lastname\":\"Koirala\",\"height\":155,\"weight\":60,\"_id\":\"4GhCukCWtz8iqb98\"},\n",
    "{\"age\":26,\"firstname\":\"Yasiru\",\"lastname\":\"Fernando\",\"height\":163,\"weight\":65,\"_id\":\"AlOXZjo87HHkXeaa\"},\n",
    "{\"age\":25,\"firstname\":\"Oja\",\"lastname\":\"Bajracharya\",\"height\":176,\"weight\":76,\"_id\":\"EUbKPOSQgjccjtvi\"},\n",
    "{\"age\":31,\"firstname\":\"Danna\",\"lastname\":\"Valdez\",\"height\":150,\"weight\":70,\"_id\":\"I1TuySg6fbJ0xeXt\"},\n",
    "{\"age\":24,\"firstname\":\"Romen\",\"lastname\":\"Wabina\",\"height\":175,\"weight\":89,\"_id\":\"KNmC3LADpLyH5qJA\"},\n",
    "{\"age\":35,\"firstname\":\"Wiput\",\"lastname\":\"Tuvayanond\",\"height\":173,\"weight\":70,\"_id\":\"KPJOUYXzpivbLfsH\"},\n",
    "{\"age\":25,\"firstname\":\"Anushuya\",\"lastname\":\"Guragain\",\"height\":163,\"weight\":55,\"_id\":\"LLZjAPTyj7muHsEf\"},\n",
    "{\"age\":25,\"firstname\":\"Sunsun\",\"lastname\":\"Kasajoo\",\"height\":163,\"weight\":54,\"_id\":\"LdH95bTaViXIdDBZ\"},\n",
    "{\"age\":29,\"firstname\":\"Lalaine Jean \",\"lastname\":\"Ballais\",\"height\":147,\"weight\":49,\"_id\":\"MMuX9YIh4NTbLZLM\"},\n",
    "{\"age\":28,\"firstname\":\"Sanjeev\",\"lastname\":\"Shakya\",\"height\":172,\"weight\":71.5,\"_id\":\"NKdnm6cN3KKAx7R4\"},\n",
    "{\"age\":24,\"firstname\":\"Pranamya\",\"lastname\":\"Dhoubhadel\",\"height\":177,\"weight\":77,\"_id\":\"PE8D53oX060qLbdX\"},\n",
    "{\"age\":28,\"firstname\":\"Binay\",\"lastname\":\"Karna\",\"height\":181,\"weight\":90,\"_id\":\"QFxq3HxMCbzs6bCt\"},\n",
    "{\"age\":26,\"firstname\":\"Dipesh\",\"lastname\":\"Poudel\",\"height\":173,\"weight\":75,\"_id\":\"WAb2Ztvv2ux95P4Q\"},\n",
    "{\"age\":31,\"firstname\":\"Jaynos\",\"lastname\":\"Cortes\",\"height\":170,\"weight\":62,\"_id\":\"YbJVcb4vFFjKKlfe\"},\n",
    "{\"age\":26,\"firstname\":\"Itsaree\",\"lastname\":\"Khumtaveeporn\",\"height\":157,\"weight\":57,\"_id\":\"bQsRwKxgJiXTzo6P\"},\n",
    "{\"age\":25,\"firstname\":\"Pranamya 2\",\"lastname\":\"Dhoubhadel2\",\"height\":175,\"weight\":75,\"_id\":\"bvm1baFzW7l6AO0O\"},\n",
    "{\"age\":27,\"firstname\":\"Pobai\",\"lastname\":\"Tang\",\"height\":170,\"weight\":60,\"_id\":\"c9EB3mOQckRCc8Bz\"},\n",
    "{\"age\":26,\"firstname\":\"Anjali\",\"lastname\":\"Shrestha \",\"height\":155,\"weight\":60,\"_id\":\"cbOZWnI7s1y8oLD4\"},\n",
    "{\"age\":26,\"firstname\":\"Muhammad \",\"lastname\":\"Ahmed \",\"height\":172,\"weight\":72,\"_id\":\"csujYZktn88ftTTv\"},\n",
    "{\"age\":25,\"firstname\":\"Dummy\",\"lastname\":\"Test\",\"height\":172,\"weight\":72,\"_id\":\"ddAeJA42PXvwthbW\"},\n",
    "{\"age\":35,\"firstname\":\"Prakash\",\"lastname\":\"Subedi\",\"height\":165,\"weight\":56,\"_id\":\"edjEFjNn6G7sj6Pz\"},\n",
    "{\"age\":27,\"firstname\":\"Krishnath\",\"lastname\":\"Niresh\",\"height\":165,\"weight\":65,\"_id\":\"eqUcL0HkHZfDt0Xs\"},\n",
    "{\"age\":25,\"firstname\":\"Ashiya\",\"lastname\":\"Acharya\",\"height\":160,\"weight\":55,\"_id\":\"ewpnQDEzR8hTqPRY\"},\n",
    "{\"age\":25,\"firstname\":\"Anna\",\"lastname\":\"Navolotskaia\",\"height\":154,\"weight\":54,\"_id\":\"kPNKVxgIznp3Vskg\"},\n",
    "{\"age\":34,\"firstname\":\"Tanka Nath\",\"lastname\":\"Sharma\",\"height\":164,\"weight\":58,\"_id\":\"psiuhPJmLIa2wC4u\"},\n",
    "{\"age\":25,\"firstname\":\"Matee\",\"lastname\":\"Vadrukchid\",\"height\":180,\"weight\":81,\"_id\":\"qyP4saGxcV9UfeQI\"},\n",
    "{\"age\":24,\"firstname\":\"Julian\",\"lastname\":\"Syiemlieh\",\"height\":170,\"weight\":70,\"_id\":\"sMNcIak80ohv2eyf\"},\n",
    "{\"age\":25,\"firstname\":\"Abhishek\",\"lastname\":\"Regmi\",\"height\":170,\"weight\":72,\"_id\":\"sUZBISq61Y7I5tqQ\"},\n",
    "{\"age\":23,\"firstname\":\"Bareerah\",\"lastname\":\"Khalid\",\"height\":163,\"weight\":49,\"_id\":\"wtyNo4LYaWXrkzA7\"},\n",
    "{\"age\":25,\"firstname\":\"Anushma \",\"lastname\":\"Shrestha \",\"height\":153,\"weight\":51,\"_id\":\"xYdtS1F8tDyjEIgN\"},\n",
    "{\"age\":24,\"firstname\":\"Puja\",\"lastname\":\"Bhetwal\",\"height\":162,\"weight\":49,\"_id\":\"zOmNofnVfbR21Y7n\"},]"
   ]
  },
  {
   "cell_type": "code",
   "execution_count": 11,
   "metadata": {},
   "outputs": [
    {
     "name": "stdout",
     "output_type": "stream",
     "text": [
      "35\n",
      "    age      firstname       lastname  height  weight               _id\n",
      "0    29            Kim          Tupaz     153    55.0  0DXZFsYOfgqsYe0Z\n",
      "1    37         Premma            Rao     168    58.0  0UXFxu10k0En1vDK\n",
      "2    31       Mofasser         Rahman     176    73.0  19AoxD1bgrDckd2p\n",
      "3    29         Kalana     Jayarathna     171    89.0  1ZstYhEKzKKfGnMW\n",
      "4    24          Ayush        Koirala     155    60.0  4GhCukCWtz8iqb98\n",
      "5    26         Yasiru       Fernando     163    65.0  AlOXZjo87HHkXeaa\n",
      "6    25            Oja    Bajracharya     176    76.0  EUbKPOSQgjccjtvi\n",
      "7    31          Danna         Valdez     150    70.0  I1TuySg6fbJ0xeXt\n",
      "8    24          Romen         Wabina     175    89.0  KNmC3LADpLyH5qJA\n",
      "9    35          Wiput     Tuvayanond     173    70.0  KPJOUYXzpivbLfsH\n",
      "10   25       Anushuya       Guragain     163    55.0  LLZjAPTyj7muHsEf\n",
      "11   25         Sunsun        Kasajoo     163    54.0  LdH95bTaViXIdDBZ\n",
      "12   29  Lalaine Jean         Ballais     147    49.0  MMuX9YIh4NTbLZLM\n",
      "13   28        Sanjeev         Shakya     172    71.5  NKdnm6cN3KKAx7R4\n",
      "14   24       Pranamya     Dhoubhadel     177    77.0  PE8D53oX060qLbdX\n",
      "15   28          Binay          Karna     181    90.0  QFxq3HxMCbzs6bCt\n",
      "16   26         Dipesh         Poudel     173    75.0  WAb2Ztvv2ux95P4Q\n",
      "17   31         Jaynos         Cortes     170    62.0  YbJVcb4vFFjKKlfe\n",
      "18   26        Itsaree  Khumtaveeporn     157    57.0  bQsRwKxgJiXTzo6P\n",
      "19   25     Pranamya 2    Dhoubhadel2     175    75.0  bvm1baFzW7l6AO0O\n",
      "20   27          Pobai           Tang     170    60.0  c9EB3mOQckRCc8Bz\n",
      "21   26         Anjali      Shrestha      155    60.0  cbOZWnI7s1y8oLD4\n",
      "22   26      Muhammad          Ahmed      172    72.0  csujYZktn88ftTTv\n",
      "23   25          Dummy           Test     172    72.0  ddAeJA42PXvwthbW\n",
      "24   35        Prakash         Subedi     165    56.0  edjEFjNn6G7sj6Pz\n",
      "25   27      Krishnath         Niresh     165    65.0  eqUcL0HkHZfDt0Xs\n",
      "26   25         Ashiya        Acharya     160    55.0  ewpnQDEzR8hTqPRY\n",
      "27   25           Anna   Navolotskaia     154    54.0  kPNKVxgIznp3Vskg\n",
      "28   34     Tanka Nath         Sharma     164    58.0  psiuhPJmLIa2wC4u\n",
      "29   25          Matee     Vadrukchid     180    81.0  qyP4saGxcV9UfeQI\n",
      "30   24         Julian      Syiemlieh     170    70.0  sMNcIak80ohv2eyf\n",
      "31   25       Abhishek          Regmi     170    72.0  sUZBISq61Y7I5tqQ\n",
      "32   23       Bareerah         Khalid     163    49.0  wtyNo4LYaWXrkzA7\n",
      "33   25       Anushma       Shrestha      153    51.0  xYdtS1F8tDyjEIgN\n",
      "34   24           Puja        Bhetwal     162    49.0  zOmNofnVfbR21Y7n\n"
     ]
    }
   ],
   "source": [
    "print(len(subjects))\n",
    "\n",
    "df = pd.DataFrame(subjects)\n",
    "print(df)"
   ]
  },
  {
   "cell_type": "code",
   "execution_count": 22,
   "metadata": {},
   "outputs": [
    {
     "name": "stdout",
     "output_type": "stream",
     "text": [
      "    age   firstname       lastname  height  weight               _id\n",
      "0    29         Kim          Tupaz     153    55.0  0DXZFsYOfgqsYe0Z\n",
      "1    37      Premma            Rao     168    58.0  0UXFxu10k0En1vDK\n",
      "3    29      Kalana     Jayarathna     171    89.0  1ZstYhEKzKKfGnMW\n",
      "4    24       Ayush        Koirala     155    60.0  4GhCukCWtz8iqb98\n",
      "5    26      Yasiru       Fernando     163    65.0  AlOXZjo87HHkXeaa\n",
      "7    31       Danna         Valdez     150    70.0  I1TuySg6fbJ0xeXt\n",
      "8    24       Romen         Wabina     175    89.0  KNmC3LADpLyH5qJA\n",
      "9    35       Wiput     Tuvayanond     173    70.0  KPJOUYXzpivbLfsH\n",
      "11   25      Sunsun        Kasajoo     163    54.0  LdH95bTaViXIdDBZ\n",
      "13   28     Sanjeev         Shakya     172    71.5  NKdnm6cN3KKAx7R4\n",
      "15   28       Binay          Karna     181    90.0  QFxq3HxMCbzs6bCt\n",
      "16   26      Dipesh         Poudel     173    75.0  WAb2Ztvv2ux95P4Q\n",
      "17   31      Jaynos         Cortes     170    62.0  YbJVcb4vFFjKKlfe\n",
      "18   26     Itsaree  Khumtaveeporn     157    57.0  bQsRwKxgJiXTzo6P\n",
      "19   25  Pranamya 2    Dhoubhadel2     175    75.0  bvm1baFzW7l6AO0O\n",
      "20   27       Pobai           Tang     170    60.0  c9EB3mOQckRCc8Bz\n",
      "22   26   Muhammad          Ahmed      172    72.0  csujYZktn88ftTTv\n",
      "24   35     Prakash         Subedi     165    56.0  edjEFjNn6G7sj6Pz\n",
      "25   27   Krishnath         Niresh     165    65.0  eqUcL0HkHZfDt0Xs\n",
      "26   25      Ashiya        Acharya     160    55.0  ewpnQDEzR8hTqPRY\n",
      "27   25        Anna   Navolotskaia     154    54.0  kPNKVxgIznp3Vskg\n",
      "28   34  Tanka Nath         Sharma     164    58.0  psiuhPJmLIa2wC4u\n",
      "29   25       Matee     Vadrukchid     180    81.0  qyP4saGxcV9UfeQI\n",
      "30   24      Julian      Syiemlieh     170    70.0  sMNcIak80ohv2eyf\n",
      "34   24        Puja        Bhetwal     162    49.0  zOmNofnVfbR21Y7n\n"
     ]
    }
   ],
   "source": [
    "exclude_subjects = ['ddAeJA42PXvwthbW', 'nan',\n",
    "                    'sUZBISq61Y7I5tqQ',\n",
    "                    'LLZjAPTyj7muHsEf',\n",
    "                    'cbOZWnI7s1y8oLD4',\n",
    "                    'EUbKPOSQgjccjtvi',\n",
    "                    'MMuX9YIh4NTbLZLM',\n",
    "                    'PE8D53oX060qLbdX',\n",
    "                    'xYdtS1F8tDyjEIgN',\n",
    "                    '19AoxD1bgrDckd2p',\n",
    "                    'wtyNo4LYaWXrkzA7', ]\n",
    "df = df.drop(df[df['_id'].isin(exclude_subjects)].index)\n",
    "print(df)"
   ]
  },
  {
   "cell_type": "code",
   "execution_count": 29,
   "metadata": {},
   "outputs": [
    {
     "name": "stdout",
     "output_type": "stream",
     "text": [
      "-----------------------------------------\n",
      "Max age:  37 \n",
      "Min age:  24 \n",
      "Average age:  27.84 \n",
      "-----------------------------------------\n",
      "-----------------------------------------\n",
      "Max height:  181 cm\n",
      "Min height:  150 cm\n",
      "Average height:  166.44 cm\n",
      "-----------------------------------------\n",
      "-----------------------------------------\n",
      "Max weight:  90.0 kg\n",
      "Min weight:  49.0 kg\n",
      "Average weight:  66.42 kg\n",
      "-----------------------------------------\n"
     ]
    }
   ],
   "source": [
    "def compute_max(columnName):\n",
    "    return df[columnName].max()\n",
    "def compute_min(columnName):\n",
    "    return df[columnName].min()\n",
    "def compute_average(columnName):\n",
    "    return df[columnName].mean()\n",
    "\n",
    "columns = ['age', 'height', 'weight']\n",
    "units = ['', 'cm', 'kg']\n",
    "\n",
    "for index, column in enumerate(columns):\n",
    "    print('-----------------------------------------')\n",
    "    print(\"Max {}: \".format(column), compute_max(column), units[index])\n",
    "    print(\"Min {}: \".format(column), compute_min(column), units[index])\n",
    "    print(\"Average {}: \".format(column), compute_average(column), units[index])\n",
    "    print('-----------------------------------------')\n"
   ]
  },
  {
   "cell_type": "code",
   "execution_count": 31,
   "metadata": {},
   "outputs": [
    {
     "name": "stdout",
     "output_type": "stream",
     "text": [
      "    age   firstname       lastname  height  weight               _id\n",
      "0    29         Kim          Tupaz     153    55.0  0DXZFsYOfgqsYe0Z\n",
      "1    37      Premma            Rao     168    58.0  0UXFxu10k0En1vDK\n",
      "3    29      Kalana     Jayarathna     171    89.0  1ZstYhEKzKKfGnMW\n",
      "4    24       Ayush        Koirala     155    60.0  4GhCukCWtz8iqb98\n",
      "5    26      Yasiru       Fernando     163    65.0  AlOXZjo87HHkXeaa\n",
      "7    31       Danna         Valdez     150    70.0  I1TuySg6fbJ0xeXt\n",
      "8    24       Romen         Wabina     175    89.0  KNmC3LADpLyH5qJA\n",
      "9    35       Wiput     Tuvayanond     173    70.0  KPJOUYXzpivbLfsH\n",
      "11   25      Sunsun        Kasajoo     163    54.0  LdH95bTaViXIdDBZ\n",
      "13   28     Sanjeev         Shakya     172    71.5  NKdnm6cN3KKAx7R4\n",
      "15   28       Binay          Karna     181    90.0  QFxq3HxMCbzs6bCt\n",
      "16   26      Dipesh         Poudel     173    75.0  WAb2Ztvv2ux95P4Q\n",
      "17   31      Jaynos         Cortes     170    62.0  YbJVcb4vFFjKKlfe\n",
      "18   26     Itsaree  Khumtaveeporn     157    57.0  bQsRwKxgJiXTzo6P\n",
      "19   25  Pranamya 2    Dhoubhadel2     175    75.0  bvm1baFzW7l6AO0O\n",
      "20   27       Pobai           Tang     170    60.0  c9EB3mOQckRCc8Bz\n",
      "22   26   Muhammad          Ahmed      172    72.0  csujYZktn88ftTTv\n",
      "24   35     Prakash         Subedi     165    56.0  edjEFjNn6G7sj6Pz\n",
      "25   27   Krishnath         Niresh     165    65.0  eqUcL0HkHZfDt0Xs\n",
      "26   25      Ashiya        Acharya     160    55.0  ewpnQDEzR8hTqPRY\n",
      "27   25        Anna   Navolotskaia     154    54.0  kPNKVxgIznp3Vskg\n",
      "28   34  Tanka Nath         Sharma     164    58.0  psiuhPJmLIa2wC4u\n",
      "29   25       Matee     Vadrukchid     180    81.0  qyP4saGxcV9UfeQI\n",
      "30   24      Julian      Syiemlieh     170    70.0  sMNcIak80ohv2eyf\n",
      "34   24        Puja        Bhetwal     162    49.0  zOmNofnVfbR21Y7n\n"
     ]
    }
   ],
   "source": [
    "print(df)"
   ]
  }
 ],
 "metadata": {
  "interpreter": {
   "hash": "bb44b4e6cc691712e826bba4e724ba947229be6916e0acb92c0db1c9ddbd3c7a"
  },
  "kernelspec": {
   "display_name": "Python 3.9.7 ('thesis')",
   "language": "python",
   "name": "python3"
  },
  "language_info": {
   "codemirror_mode": {
    "name": "ipython",
    "version": 3
   },
   "file_extension": ".py",
   "mimetype": "text/x-python",
   "name": "python",
   "nbconvert_exporter": "python",
   "pygments_lexer": "ipython3",
   "version": "3.9.7"
  },
  "orig_nbformat": 4
 },
 "nbformat": 4,
 "nbformat_minor": 2
}
