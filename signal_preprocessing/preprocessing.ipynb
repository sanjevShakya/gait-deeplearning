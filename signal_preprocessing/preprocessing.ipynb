{
 "cells": [
  {
   "cell_type": "code",
   "execution_count": 5,
   "metadata": {},
   "outputs": [],
   "source": [
    "import sys\n",
    "sys.path.append('../src')\n",
    "from matplotlib import pyplot as plt\n",
    "%matplotlib inline\n",
    "import seaborn as sns\n",
    "import numpy as np\n",
    "import tensorflow as tf\n",
    "from gait.config import pd\n",
    "from gait.utils import get_data_by_overlap_percent,get_overlap_data_all_sessions,  split_test_train_by_subjects, remove_invalid_data, get_overlap_data_all_sessions\n",
    "from gait.training import train_model_with_stats, build_cnn_stats_small\n",
    "from gait.evalution import save_history, save_test_history, save_accuracy_loss_figure, save_confusion_matrix_figure, compute_validations_predictions,compute_validations_predictions_with_stats,compute_validations_predictions_cnn_multihead_with_stats"
   ]
  },
  {
   "cell_type": "code",
   "execution_count": 6,
   "metadata": {},
   "outputs": [],
   "source": [
    "def compute_resultant_acceleration(X):\n",
    "    return np.sqrt(X[:,:,0] **2 + X[:,:,1] ** 2 + X[:,:,2] ** 2)\n",
    "\n",
    "def compute_resultant_gyro(X):\n",
    "    return np.sqrt(X[:,:,3] **2 + X[:,:,4] ** 2 + X[:,:,5] ** 2)\n",
    "\n",
    "def compute_resultant_angle(X):\n",
    "    return np.sqrt(X[:,:,6] **2 + X[:,:,7] ** 2 + X[:,:,8] ** 2)\n",
    "\n",
    "def get_std_values(X, channel):\n",
    "    return np.std(X[:, :, channel], axis=1)\n",
    "\n",
    "def get_mean_values(X, channel):\n",
    "    return np.mean(X[:, :, channel], axis=1)\n",
    "\n",
    "def get_max_values(X, channel):\n",
    "    return np.max(X[:, :, channel], axis=1)\n",
    "\n",
    "def get_median_values(X, channel):\n",
    "    return np.median(X[:, :, channel], axis=1)\n",
    "\n",
    "\n",
    "def get_statistic_feature_all_channels(X):\n",
    "    statistic_features = []\n",
    "    # statistic features of resultant vectors of 128 lenght only\n",
    "    for channel in range(9,12):\n",
    "        statistic_features.append(get_std_values(X, channel))\n",
    "        statistic_features.append(get_mean_values(X, channel))\n",
    "        statistic_features.append(get_max_values(X, channel))\n",
    "\n",
    "    return np.vstack(statistic_features).T\n",
    "\n",
    "def load_data(OVERLAP_PERCENT):\n",
    "    X, y, subjects = get_overlap_data_all_sessions(OVERLAP_PERCENT)\n",
    "    # REMOVE UNWANTED SUBJECTS\n",
    "    indexes = np.where(subjects == exclude_subjects)\n",
    "    X = np.delete(X, indexes[0], axis=0)\n",
    "    y = np.delete(y, indexes[0], axis=0)\n",
    "    subjects = np.delete(subjects, indexes[0], axis=0)\n",
    "    return X, y, subjects\n",
    "\n",
    "def augument_data(X):\n",
    "     # AUGMENT DATA\n",
    "    resultant_acc = compute_resultant_acceleration(X)\n",
    "    resultant_gyro = compute_resultant_gyro(X)\n",
    "    resultant_angle = compute_resultant_angle(X)\n",
    "    resultant_acc = resultant_acc.reshape(\n",
    "        resultant_acc.shape[0], resultant_acc.shape[1], 1)\n",
    "    resultant_gyro = resultant_gyro.reshape(\n",
    "        resultant_gyro.shape[0], resultant_gyro.shape[1], 1)\n",
    "    resultant_angle = resultant_angle.reshape(\n",
    "        resultant_angle.shape[0], resultant_angle.shape[1], 1)\n",
    "    X = np.concatenate((X, resultant_acc), axis=2)\n",
    "    X = np.concatenate((X, resultant_gyro), axis=2)\n",
    "    X = np.concatenate((X, resultant_angle), axis=2)\n",
    "    return X\n",
    "    # AUGMENT DATA END"
   ]
  },
  {
   "cell_type": "code",
   "execution_count": 7,
   "metadata": {},
   "outputs": [],
   "source": [
    "OVERLAP_PERCENT = 0\n",
    "# overlapPercents = [0]\n",
    "# exclude_subjects = ['ddAeJA42PXvwthbW', 'nan', 'LLZjAPTyj7muHsEf',\n",
    "#                     'MMuX9YIh4NTbLZLM', 'cbOZWnI7s1y8oLD4', 'PE8D53oX060qLbdX', 'xYdtS1F8tDyjEIgN', 'sUZBISq61Y7I5tqQ']\n",
    "exclude_subjects = ['ddAeJA42PXvwthbW', 'nan', 'sUZBISq61Y7I5tqQ', 'LLZjAPTyj7muHsEf',\n",
    "                    'cbOZWnI7s1y8oLD4', 'EUbKPOSQgjccjtvi', 'MMuX9YIh4NTbLZLM', 'NKdnm6cN3KKAx7R4'\n",
    "                    'PE8D53oX060qLbdX', 'ddAeJA42PXvwthbW', 'xYdtS1F8tDyjEIgN', '19AoxD1bgrDckd2p', 'wtyNo4LYaWXrkzA7', ]"
   ]
  },
  {
   "cell_type": "code",
   "execution_count": 8,
   "metadata": {},
   "outputs": [],
   "source": [
    "X, y, subjects = load_data(OVERLAP_PERCENT)"
   ]
  },
  {
   "cell_type": "code",
   "execution_count": 9,
   "metadata": {},
   "outputs": [],
   "source": [
    "X = augument_data(X)\n",
    "X_stats = get_statistic_feature_all_channels(X)"
   ]
  },
  {
   "cell_type": "code",
   "execution_count": 14,
   "metadata": {},
   "outputs": [
    {
     "name": "stdout",
     "output_type": "stream",
     "text": [
      "(19212, 128, 12)\n",
      "(19212, 9)\n"
     ]
    }
   ],
   "source": [
    "print(X.shape)\n",
    "print(X_stats.shape)"
   ]
  },
  {
   "cell_type": "code",
   "execution_count": null,
   "metadata": {},
   "outputs": [],
   "source": []
  }
 ],
 "metadata": {
  "interpreter": {
   "hash": "bb44b4e6cc691712e826bba4e724ba947229be6916e0acb92c0db1c9ddbd3c7a"
  },
  "kernelspec": {
   "display_name": "Python 3.9.7 ('thesis')",
   "language": "python",
   "name": "python3"
  },
  "language_info": {
   "codemirror_mode": {
    "name": "ipython",
    "version": 3
   },
   "file_extension": ".py",
   "mimetype": "text/x-python",
   "name": "python",
   "nbconvert_exporter": "python",
   "pygments_lexer": "ipython3",
   "version": "3.9.7"
  },
  "orig_nbformat": 4
 },
 "nbformat": 4,
 "nbformat_minor": 2
}
